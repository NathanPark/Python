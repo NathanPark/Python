{
 "cells": [
  {
   "cell_type": "code",
   "execution_count": 5,
   "metadata": {
    "collapsed": false
   },
   "outputs": [],
   "source": [
    "import pandas as pd # 데이터를 불러오고 핸들링 시 필요한 패키지\n",
    "import numpy as np  # 데이터 핸들링 시 필요한 패키지\n",
    "import matplotlib.pyplot as plt # plt를 이용해 화면에 그림을 생성하는 패키지\n",
    "import matplotlib               # 한글 font를 갖고오기 위해 사용\n",
    "\n",
    "font_name = matplotlib.font_manager.FontProperties \\\n",
    "            (fname='C:/Windows/Fonts/malgun.ttf').get_name()\n",
    "# 한글폰트(맑은고딕)를 갖고오는 부분    \n",
    "\n",
    "matplotlib.rc('font', family=font_name)\n",
    "# 한글폰트를 사용\n",
    "\n",
    "%matplotlib inline\n",
    "# 그림을 Ipython notebook내에 생성해주는 코드"
   ]
  },
  {
   "cell_type": "markdown",
   "metadata": {},
   "source": [
    "### pickle 형태의 데이터를 불러옴"
   ]
  },
  {
   "cell_type": "code",
   "execution_count": 6,
   "metadata": {
    "collapsed": false
   },
   "outputs": [
    {
     "name": "stdout",
     "output_type": "stream",
     "text": [
      "데이터의 총 수: 5461\n"
     ]
    },
    {
     "data": {
      "text/html": [
       "<div>\n",
       "<table border=\"1\" class=\"dataframe\">\n",
       "  <thead>\n",
       "    <tr style=\"text-align: right;\">\n",
       "      <th></th>\n",
       "      <th>Location</th>\n",
       "      <th>Date</th>\n",
       "      <th>SO2</th>\n",
       "      <th>CO</th>\n",
       "      <th>O3</th>\n",
       "      <th>NO2</th>\n",
       "      <th>PM10</th>\n",
       "      <th>PM25</th>\n",
       "    </tr>\n",
       "  </thead>\n",
       "  <tbody>\n",
       "    <tr>\n",
       "      <th>5456</th>\n",
       "      <td>충북</td>\n",
       "      <td>2015-12-27</td>\n",
       "      <td>0.006</td>\n",
       "      <td>0.547</td>\n",
       "      <td>0.018</td>\n",
       "      <td>0.018</td>\n",
       "      <td>43.454</td>\n",
       "      <td>26.738</td>\n",
       "    </tr>\n",
       "    <tr>\n",
       "      <th>5457</th>\n",
       "      <td>충북</td>\n",
       "      <td>2015-12-28</td>\n",
       "      <td>0.005</td>\n",
       "      <td>0.568</td>\n",
       "      <td>0.012</td>\n",
       "      <td>0.025</td>\n",
       "      <td>36.038</td>\n",
       "      <td>21.360</td>\n",
       "    </tr>\n",
       "    <tr>\n",
       "      <th>5458</th>\n",
       "      <td>충북</td>\n",
       "      <td>2015-12-29</td>\n",
       "      <td>0.006</td>\n",
       "      <td>0.845</td>\n",
       "      <td>0.007</td>\n",
       "      <td>0.032</td>\n",
       "      <td>56.063</td>\n",
       "      <td>33.824</td>\n",
       "    </tr>\n",
       "    <tr>\n",
       "      <th>5459</th>\n",
       "      <td>충북</td>\n",
       "      <td>2015-12-30</td>\n",
       "      <td>0.006</td>\n",
       "      <td>0.862</td>\n",
       "      <td>0.006</td>\n",
       "      <td>0.031</td>\n",
       "      <td>64.832</td>\n",
       "      <td>42.903</td>\n",
       "    </tr>\n",
       "    <tr>\n",
       "      <th>5460</th>\n",
       "      <td>충북</td>\n",
       "      <td>2015-12-31</td>\n",
       "      <td>0.006</td>\n",
       "      <td>0.895</td>\n",
       "      <td>0.009</td>\n",
       "      <td>0.030</td>\n",
       "      <td>64.295</td>\n",
       "      <td>53.211</td>\n",
       "    </tr>\n",
       "  </tbody>\n",
       "</table>\n",
       "</div>"
      ],
      "text/plain": [
       "     Location        Date    SO2     CO     O3    NO2    PM10    PM25\n",
       "5456       충북  2015-12-27  0.006  0.547  0.018  0.018  43.454  26.738\n",
       "5457       충북  2015-12-28  0.005  0.568  0.012  0.025  36.038  21.360\n",
       "5458       충북  2015-12-29  0.006  0.845  0.007  0.032  56.063  33.824\n",
       "5459       충북  2015-12-30  0.006  0.862  0.006  0.031  64.832  42.903\n",
       "5460       충북  2015-12-31  0.006  0.895  0.009  0.030  64.295  53.211"
      ]
     },
     "execution_count": 6,
     "metadata": {},
     "output_type": "execute_result"
    }
   ],
   "source": [
    "data=pd.read_pickle('data.pickle') \n",
    "# pandas 패키지의 read_pickle를 사용하여 데이터 로드\n",
    "# pickle은 데이터를 쉽게 보관할 수 있는 저장 패키지\n",
    "\n",
    "print(\"데이터의 총 수:\", len(data))\n",
    "# 데이터의 총 길이를 표현\n",
    "\n",
    "data.tail()\n",
    "# 데이터의 끝에 5줄을 표현"
   ]
  },
  {
   "cell_type": "markdown",
   "metadata": {},
   "source": [
    "### 서울지역에 한정하여 데이터 전처리"
   ]
  },
  {
   "cell_type": "code",
   "execution_count": 7,
   "metadata": {
    "collapsed": false
   },
   "outputs": [
    {
     "data": {
      "text/html": [
       "<div>\n",
       "<table border=\"1\" class=\"dataframe\">\n",
       "  <thead>\n",
       "    <tr style=\"text-align: right;\">\n",
       "      <th></th>\n",
       "      <th>Location</th>\n",
       "      <th>SO2</th>\n",
       "      <th>CO</th>\n",
       "      <th>O3</th>\n",
       "      <th>NO2</th>\n",
       "      <th>PM10</th>\n",
       "      <th>PM25</th>\n",
       "    </tr>\n",
       "    <tr>\n",
       "      <th>Date</th>\n",
       "      <th></th>\n",
       "      <th></th>\n",
       "      <th></th>\n",
       "      <th></th>\n",
       "      <th></th>\n",
       "      <th></th>\n",
       "      <th></th>\n",
       "    </tr>\n",
       "  </thead>\n",
       "  <tbody>\n",
       "    <tr>\n",
       "      <th>2015-12-27</th>\n",
       "      <td>서울</td>\n",
       "      <td>0.005</td>\n",
       "      <td>0.433</td>\n",
       "      <td>0.019</td>\n",
       "      <td>0.019</td>\n",
       "      <td>29.940</td>\n",
       "      <td>16.030</td>\n",
       "    </tr>\n",
       "    <tr>\n",
       "      <th>2015-12-28</th>\n",
       "      <td>서울</td>\n",
       "      <td>0.005</td>\n",
       "      <td>0.507</td>\n",
       "      <td>0.015</td>\n",
       "      <td>0.027</td>\n",
       "      <td>27.810</td>\n",
       "      <td>14.918</td>\n",
       "    </tr>\n",
       "    <tr>\n",
       "      <th>2015-12-29</th>\n",
       "      <td>서울</td>\n",
       "      <td>0.007</td>\n",
       "      <td>0.984</td>\n",
       "      <td>0.004</td>\n",
       "      <td>0.052</td>\n",
       "      <td>57.145</td>\n",
       "      <td>31.710</td>\n",
       "    </tr>\n",
       "    <tr>\n",
       "      <th>2015-12-30</th>\n",
       "      <td>서울</td>\n",
       "      <td>0.006</td>\n",
       "      <td>0.826</td>\n",
       "      <td>0.004</td>\n",
       "      <td>0.050</td>\n",
       "      <td>59.556</td>\n",
       "      <td>34.951</td>\n",
       "    </tr>\n",
       "    <tr>\n",
       "      <th>2015-12-31</th>\n",
       "      <td>서울</td>\n",
       "      <td>0.006</td>\n",
       "      <td>0.845</td>\n",
       "      <td>0.007</td>\n",
       "      <td>0.042</td>\n",
       "      <td>63.472</td>\n",
       "      <td>42.773</td>\n",
       "    </tr>\n",
       "  </tbody>\n",
       "</table>\n",
       "</div>"
      ],
      "text/plain": [
       "           Location    SO2     CO     O3    NO2    PM10    PM25\n",
       "Date                                                           \n",
       "2015-12-27       서울  0.005  0.433  0.019  0.019  29.940  16.030\n",
       "2015-12-28       서울  0.005  0.507  0.015  0.027  27.810  14.918\n",
       "2015-12-29       서울  0.007  0.984  0.004  0.052  57.145  31.710\n",
       "2015-12-30       서울  0.006  0.826  0.004  0.050  59.556  34.951\n",
       "2015-12-31       서울  0.006  0.845  0.007  0.042  63.472  42.773"
      ]
     },
     "execution_count": 7,
     "metadata": {},
     "output_type": "execute_result"
    }
   ],
   "source": [
    "data_seoul=data[data.Location.isin(['서울'])]\n",
    "# DataFrame의 Location행렬에서 서울에 해당하는 데이터만 가져옴\n",
    "\n",
    "data_seoul=data_seoul.set_index(['Date'])\n",
    "# 해당 인덱스를 Date로 설정하여 출력함\n",
    "\n",
    "data_seoul.tail()"
   ]
  },
  {
   "cell_type": "markdown",
   "metadata": {},
   "source": [
    "### 서울 지역의 미세먼지 시계열데이터를 시각화"
   ]
  },
  {
   "cell_type": "code",
   "execution_count": 11,
   "metadata": {
    "collapsed": false
   },
   "outputs": [
    {
     "data": {
      "text/plain": [
       "[<matplotlib.text.Text at 0x97c0668>,\n",
       " <matplotlib.text.Text at 0x9ee4278>,\n",
       " <matplotlib.text.Text at 0x9f12630>,\n",
       " <matplotlib.text.Text at 0x9f170b8>,\n",
       " <matplotlib.text.Text at 0x9f17b00>,\n",
       " <matplotlib.text.Text at 0x9f1c588>,\n",
       " <matplotlib.text.Text at 0x9f1cfd0>,\n",
       " <matplotlib.text.Text at 0x9f1fa58>,\n",
       " <matplotlib.text.Text at 0x9f244e0>,\n",
       " <matplotlib.text.Text at 0x9efbe48>,\n",
       " <matplotlib.text.Text at 0x9f24cf8>,\n",
       " <matplotlib.text.Text at 0x9f2c3c8>]"
      ]
     },
     "execution_count": 11,
     "metadata": {},
     "output_type": "execute_result"
    },
    {
     "data": {
      "image/png": "[encoded data removed]",
      "text/plain": [
       "<matplotlib.figure.Figure at 0x9ea44e0>"
      ]
     },
     "metadata": {},
     "output_type": "display_data"
    }
   ],
   "source": [
    "ax=data_seoul.PM10.plot(figsize=(16,10), legend=True, grid=True)\n",
    "# 서울의 미세먼지에 관한 데이터만 ax를 이용해 시각화\n",
    "# grid는 얇은 선을 나타내는 표현이며, legend는 범례를 표시\n",
    "\n",
    "ax.tick_params(labelsize=13)\n",
    "# ax그래프의 글씨 크기(label)를 조절 \n",
    "\n",
    "ax.set_xticks(np.arange(0,len(data_seoul),31))\n",
    "# ax그래프의 x범위를 설정\n",
    "\n",
    "date_range = pd.date_range('2015-01','2016-01', freq='M')\n",
    "# date_range함수를 이용해 data_seoul의 범위인 2015년 1월~2015년 12월까지의 데이터를 구함\n",
    "\n",
    "date_range = date_range.map(lambda t: t.strftime('%Y-%m'))\n",
    "# date_range를 lambda를 이용해 일시적인 함수를 생성하여 문자열 형태로 표현\n",
    "\n",
    "ax.set_xticklabels(date_range)\n",
    "# 문자열 형태로 표현한 date_range를 x축에 적용"
   ]
  },
  {
   "cell_type": "markdown",
   "metadata": {},
   "source": [
    "### 30일 이동평균법을 이용한 미세먼지 시각화 분석"
   ]
  },
  {
   "cell_type": "code",
   "execution_count": 14,
   "metadata": {
    "collapsed": false
   },
   "outputs": [
    {
     "data": {
      "text/plain": [
       "[<matplotlib.text.Text at 0x9f51ef0>,\n",
       " <matplotlib.text.Text at 0xacc3278>,\n",
       " <matplotlib.text.Text at 0xacefe48>,\n",
       " <matplotlib.text.Text at 0xacf28d0>,\n",
       " <matplotlib.text.Text at 0xacf7358>,\n",
       " <matplotlib.text.Text at 0xacf7da0>,\n",
       " <matplotlib.text.Text at 0xacfb5f8>,\n",
       " <matplotlib.text.Text at 0xacfe080>,\n",
       " <matplotlib.text.Text at 0xacfeac8>,\n",
       " <matplotlib.text.Text at 0xacc8be0>,\n",
       " <matplotlib.text.Text at 0xad0b940>,\n",
       " <matplotlib.text.Text at 0xad102b0>]"
      ]
     },
     "execution_count": 14,
     "metadata": {},
     "output_type": "execute_result"
    },
    {
     "data": {
      "image/png": "[encoded data removed]",
      "text/plain": [
       "<matplotlib.figure.Figure at 0xac19400>"
      ]
     },
     "metadata": {},
     "output_type": "display_data"
    }
   ],
   "source": [
    "data_seoul_MA=pd.rolling_mean(data_seoul.PM10, 30) \n",
    "# pd.rolling_mean(표현할 데이터칼럼, N 이동평균값), MA(Moving Average)\n",
    "# 이동평균법을 적용한 내용을 Plot을 통해 표현\n",
    "\n",
    "ax=data_seoul_MA.plot(figsize=(16,10), grid=True, legend=True)\n",
    "\n",
    "ax.tick_params(labelsize=13)\n",
    "# ax그래프의 글씨 크기(label)를 조절 \n",
    "\n",
    "ax.set_xticks(np.arange(0,len(data_seoul),31))\n",
    "# ax그래프의 x범위를 설정\n",
    "\n",
    "date_range = pd.date_range('2015-01','2016-01', freq='M')\n",
    "# date_range함수를 이용해 data_seoul의 범위인 2015년 1월~2015년 12월까지의 데이터를 구함\n",
    "\n",
    "date_range = date_range.map(lambda t: t.strftime('%Y-%m'))\n",
    "# date_range를 lambda를 이용해 일시적인 함수를 생성하여 문자열 형태로 표현\n",
    "\n",
    "ax.set_xticklabels(date_range)\n",
    "# 문자열 형태로 표현한 date_range를 x축에 적용"
   ]
  },
  {
   "cell_type": "markdown",
   "metadata": {},
   "source": [
    "### 히스토그램 시각화"
   ]
  },
  {
   "cell_type": "code",
   "execution_count": 15,
   "metadata": {
    "collapsed": false
   },
   "outputs": [
    {
     "data": {
      "text/html": [
       "<div>\n",
       "<table border=\"1\" class=\"dataframe\">\n",
       "  <thead>\n",
       "    <tr style=\"text-align: right;\">\n",
       "      <th></th>\n",
       "      <th>Location</th>\n",
       "      <th>Date</th>\n",
       "      <th>PM10</th>\n",
       "    </tr>\n",
       "  </thead>\n",
       "  <tbody>\n",
       "    <tr>\n",
       "      <th>5456</th>\n",
       "      <td>충북</td>\n",
       "      <td>2015-12-27</td>\n",
       "      <td>43.454</td>\n",
       "    </tr>\n",
       "    <tr>\n",
       "      <th>5457</th>\n",
       "      <td>충북</td>\n",
       "      <td>2015-12-28</td>\n",
       "      <td>36.038</td>\n",
       "    </tr>\n",
       "    <tr>\n",
       "      <th>5458</th>\n",
       "      <td>충북</td>\n",
       "      <td>2015-12-29</td>\n",
       "      <td>56.063</td>\n",
       "    </tr>\n",
       "    <tr>\n",
       "      <th>5459</th>\n",
       "      <td>충북</td>\n",
       "      <td>2015-12-30</td>\n",
       "      <td>64.832</td>\n",
       "    </tr>\n",
       "    <tr>\n",
       "      <th>5460</th>\n",
       "      <td>충북</td>\n",
       "      <td>2015-12-31</td>\n",
       "      <td>64.295</td>\n",
       "    </tr>\n",
       "  </tbody>\n",
       "</table>\n",
       "</div>"
      ],
      "text/plain": [
       "     Location        Date    PM10\n",
       "5456       충북  2015-12-27  43.454\n",
       "5457       충북  2015-12-28  36.038\n",
       "5458       충북  2015-12-29  56.063\n",
       "5459       충북  2015-12-30  64.832\n",
       "5460       충북  2015-12-31  64.295"
      ]
     },
     "execution_count": 15,
     "metadata": {},
     "output_type": "execute_result"
    }
   ],
   "source": [
    "data_hist=pd.DataFrame(data, columns=['Location','Date','PM10'])\n",
    "# 히스토그램을 만들기 위해 지역과 날짜, 미세먼지 데이터만 새로 DataFrame을 구성\n",
    "data_hist.tail()"
   ]
  },
  {
   "cell_type": "code",
   "execution_count": 17,
   "metadata": {
    "collapsed": false
   },
   "outputs": [
    {
     "data": {
      "text/html": [
       "<div>\n",
       "<table border=\"1\" class=\"dataframe\">\n",
       "  <thead>\n",
       "    <tr style=\"text-align: right;\">\n",
       "      <th></th>\n",
       "      <th>Date</th>\n",
       "      <th>PM10</th>\n",
       "      <th>Year</th>\n",
       "      <th>Day</th>\n",
       "    </tr>\n",
       "  </thead>\n",
       "  <tbody>\n",
       "    <tr>\n",
       "      <th>360</th>\n",
       "      <td>2015-12-27</td>\n",
       "      <td>48.722562</td>\n",
       "      <td>2015</td>\n",
       "      <td>12-27</td>\n",
       "    </tr>\n",
       "    <tr>\n",
       "      <th>361</th>\n",
       "      <td>2015-12-28</td>\n",
       "      <td>30.520875</td>\n",
       "      <td>2015</td>\n",
       "      <td>12-28</td>\n",
       "    </tr>\n",
       "    <tr>\n",
       "      <th>362</th>\n",
       "      <td>2015-12-29</td>\n",
       "      <td>48.743437</td>\n",
       "      <td>2015</td>\n",
       "      <td>12-29</td>\n",
       "    </tr>\n",
       "    <tr>\n",
       "      <th>363</th>\n",
       "      <td>2015-12-30</td>\n",
       "      <td>57.674500</td>\n",
       "      <td>2015</td>\n",
       "      <td>12-30</td>\n",
       "    </tr>\n",
       "    <tr>\n",
       "      <th>364</th>\n",
       "      <td>2015-12-31</td>\n",
       "      <td>63.270062</td>\n",
       "      <td>2015</td>\n",
       "      <td>12-31</td>\n",
       "    </tr>\n",
       "  </tbody>\n",
       "</table>\n",
       "</div>"
      ],
      "text/plain": [
       "           Date       PM10  Year    Day\n",
       "360  2015-12-27  48.722562  2015  12-27\n",
       "361  2015-12-28  30.520875  2015  12-28\n",
       "362  2015-12-29  48.743437  2015  12-29\n",
       "363  2015-12-30  57.674500  2015  12-30\n",
       "364  2015-12-31  63.270062  2015  12-31"
      ]
     },
     "execution_count": 17,
     "metadata": {},
     "output_type": "execute_result"
    }
   ],
   "source": [
    "data_hist=data_hist.groupby(['Date'])['PM10'].mean()\n",
    "# Location을 제외하여 전국의 미세먼지 평균을 구하는 부분\n",
    "# 새로 구성한 DataFrame을 Date를 기준으로 GroupBy를 실행하고\n",
    "# 미세먼지에 대해 평균을 계산함\n",
    "\n",
    "data_hist=data_hist.reset_index()\n",
    "# reset_index를 통해 Date를 다시 Column형식으로 변형함\n",
    "\n",
    "data_hist['Year']=data_hist.Date.str[0:4]\n",
    "# 년도에 해당하는 부분만 빼냄\n",
    "\n",
    "data_hist['Day']=data_hist.Date.str[5:]\n",
    "# 나머지 부분은 Day로 Column을 구성\n",
    "\n",
    "data_hist.tail()"
   ]
  },
  {
   "cell_type": "code",
   "execution_count": 18,
   "metadata": {
    "collapsed": false
   },
   "outputs": [
    {
     "data": {
      "text/html": [
       "<div>\n",
       "<table border=\"1\" class=\"dataframe\">\n",
       "  <thead>\n",
       "    <tr style=\"text-align: right;\">\n",
       "      <th></th>\n",
       "      <th>2015</th>\n",
       "    </tr>\n",
       "    <tr>\n",
       "      <th>Day</th>\n",
       "      <th></th>\n",
       "    </tr>\n",
       "  </thead>\n",
       "  <tbody>\n",
       "    <tr>\n",
       "      <th>12-27</th>\n",
       "      <td>48.72</td>\n",
       "    </tr>\n",
       "    <tr>\n",
       "      <th>12-28</th>\n",
       "      <td>30.52</td>\n",
       "    </tr>\n",
       "    <tr>\n",
       "      <th>12-29</th>\n",
       "      <td>48.74</td>\n",
       "    </tr>\n",
       "    <tr>\n",
       "      <th>12-30</th>\n",
       "      <td>57.67</td>\n",
       "    </tr>\n",
       "    <tr>\n",
       "      <th>12-31</th>\n",
       "      <td>63.27</td>\n",
       "    </tr>\n",
       "  </tbody>\n",
       "</table>\n",
       "</div>"
      ],
      "text/plain": [
       "        2015\n",
       "Day         \n",
       "12-27  48.72\n",
       "12-28  30.52\n",
       "12-29  48.74\n",
       "12-30  57.67\n",
       "12-31  63.27"
      ]
     },
     "execution_count": 18,
     "metadata": {},
     "output_type": "execute_result"
    }
   ],
   "source": [
    "total_data=data_hist.pivot(index='Day',columns='Year', values='PM10')\n",
    "# data_hist를 pivot형태로 만들되 index는 Day로 지정하고 각 년도에 따른 미세먼지 값만 표현\n",
    "\n",
    "total_data=total_data.round(2)\n",
    "# 평균을 구할 시 소수점자리수가 많으므로 소수점 2자리수로 한정\n",
    "\n",
    "total_data.tail()"
   ]
  },
  {
   "cell_type": "code",
   "execution_count": 11,
   "metadata": {
    "collapsed": false
   },
   "outputs": [
    {
     "data": {
      "text/plain": [
       "array([[<matplotlib.axes._subplots.AxesSubplot object at 0x000000000A798710>]], dtype=object)"
      ]
     },
     "execution_count": 11,
     "metadata": {},
     "output_type": "execute_result"
    },
    {
     "data": {
      "image/png": "[encoded data removed]",
      "text/plain": [
       "<matplotlib.figure.Figure at 0xa79c630>"
      ]
     },
     "metadata": {},
     "output_type": "display_data"
    }
   ],
   "source": [
    "total_data.hist(figsize=(7,5), color='green')\n",
    "# 히스토그램을 이용해 데이터를 표현"
   ]
  },
  {
   "cell_type": "code",
   "execution_count": 21,
   "metadata": {
    "collapsed": false
   },
   "outputs": [
    {
     "data": {
      "text/html": [
       "<div>\n",
       "<table border=\"1\" class=\"dataframe\">\n",
       "  <thead>\n",
       "    <tr style=\"text-align: right;\">\n",
       "      <th></th>\n",
       "      <th>Location</th>\n",
       "      <th>Date</th>\n",
       "      <th>SO2</th>\n",
       "      <th>CO</th>\n",
       "      <th>O3</th>\n",
       "      <th>NO2</th>\n",
       "      <th>PM10</th>\n",
       "      <th>PM25</th>\n",
       "    </tr>\n",
       "  </thead>\n",
       "  <tbody>\n",
       "    <tr>\n",
       "      <th>4818</th>\n",
       "      <td>서울</td>\n",
       "      <td>2015-12-27</td>\n",
       "      <td>0.005</td>\n",
       "      <td>0.433</td>\n",
       "      <td>0.019</td>\n",
       "      <td>0.019</td>\n",
       "      <td>29.940</td>\n",
       "      <td>16.030</td>\n",
       "    </tr>\n",
       "    <tr>\n",
       "      <th>4819</th>\n",
       "      <td>서울</td>\n",
       "      <td>2015-12-28</td>\n",
       "      <td>0.005</td>\n",
       "      <td>0.507</td>\n",
       "      <td>0.015</td>\n",
       "      <td>0.027</td>\n",
       "      <td>27.810</td>\n",
       "      <td>14.918</td>\n",
       "    </tr>\n",
       "    <tr>\n",
       "      <th>4820</th>\n",
       "      <td>서울</td>\n",
       "      <td>2015-12-29</td>\n",
       "      <td>0.007</td>\n",
       "      <td>0.984</td>\n",
       "      <td>0.004</td>\n",
       "      <td>0.052</td>\n",
       "      <td>57.145</td>\n",
       "      <td>31.710</td>\n",
       "    </tr>\n",
       "    <tr>\n",
       "      <th>4821</th>\n",
       "      <td>서울</td>\n",
       "      <td>2015-12-30</td>\n",
       "      <td>0.006</td>\n",
       "      <td>0.826</td>\n",
       "      <td>0.004</td>\n",
       "      <td>0.050</td>\n",
       "      <td>59.556</td>\n",
       "      <td>34.951</td>\n",
       "    </tr>\n",
       "    <tr>\n",
       "      <th>4822</th>\n",
       "      <td>서울</td>\n",
       "      <td>2015-12-31</td>\n",
       "      <td>0.006</td>\n",
       "      <td>0.845</td>\n",
       "      <td>0.007</td>\n",
       "      <td>0.042</td>\n",
       "      <td>63.472</td>\n",
       "      <td>42.773</td>\n",
       "    </tr>\n",
       "  </tbody>\n",
       "</table>\n",
       "</div>"
      ],
      "text/plain": [
       "     Location        Date    SO2     CO     O3    NO2    PM10    PM25\n",
       "4818       서울  2015-12-27  0.005  0.433  0.019  0.019  29.940  16.030\n",
       "4819       서울  2015-12-28  0.005  0.507  0.015  0.027  27.810  14.918\n",
       "4820       서울  2015-12-29  0.007  0.984  0.004  0.052  57.145  31.710\n",
       "4821       서울  2015-12-30  0.006  0.826  0.004  0.050  59.556  34.951\n",
       "4822       서울  2015-12-31  0.006  0.845  0.007  0.042  63.472  42.773"
      ]
     },
     "execution_count": 21,
     "metadata": {},
     "output_type": "execute_result"
    }
   ],
   "source": [
    "data_temp = data\n",
    "# 계절별 데이터를 작업하기 위해 data를 data_temp라는 것으로 변형\n",
    "data_temp=data_temp[data_temp.Location.isin(['서울'])]\n",
    "# data_temp의 지역 중 서울에 해당하는 내용만 사용하는 코드\n",
    "\n",
    "data_temp=data_temp.sort_values(['Date'], ascending=[True])\n",
    "# Date를 정렬하는 코드\n",
    "\n",
    "data_temp.tail()"
   ]
  },
  {
   "cell_type": "code",
   "execution_count": 23,
   "metadata": {
    "collapsed": false
   },
   "outputs": [
    {
     "data": {
      "text/html": [
       "<div>\n",
       "<table border=\"1\" class=\"dataframe\">\n",
       "  <thead>\n",
       "    <tr style=\"text-align: right;\">\n",
       "      <th></th>\n",
       "      <th>2015</th>\n",
       "    </tr>\n",
       "    <tr>\n",
       "      <th>Season</th>\n",
       "      <th></th>\n",
       "    </tr>\n",
       "  </thead>\n",
       "  <tbody>\n",
       "    <tr>\n",
       "      <th>겨울</th>\n",
       "      <td>59.82</td>\n",
       "    </tr>\n",
       "    <tr>\n",
       "      <th>봄</th>\n",
       "      <td>53.80</td>\n",
       "    </tr>\n",
       "    <tr>\n",
       "      <th>여름</th>\n",
       "      <td>32.89</td>\n",
       "    </tr>\n",
       "    <tr>\n",
       "      <th>가을</th>\n",
       "      <td>35.35</td>\n",
       "    </tr>\n",
       "  </tbody>\n",
       "</table>\n",
       "</div>"
      ],
      "text/plain": [
       "         2015\n",
       "Season       \n",
       "겨울      59.82\n",
       "봄       53.80\n",
       "여름      32.89\n",
       "가을      35.35"
      ]
     },
     "execution_count": 23,
     "metadata": {},
     "output_type": "execute_result"
    }
   ],
   "source": [
    "data_temp=pd.DataFrame(data_temp,columns=['Location','Date','PM10'])\n",
    "# 서울 지역의 미세먼지 데이터를 이용하므로 나머지 지역, 날짜, 미세먼지 데이터만 사용\n",
    "\n",
    "date_dict = {\"01\":\"겨울\",\"02\":\"겨울\",\"03\":\"봄\", \"04\":\"봄\", \"05\":\"봄\", \"06\":\"여름\", \"07\":\"여름\", \"08\":\"여름\",\\\n",
    "             \"09\":\"가을\",\"10\":\"가을\",\"11\":\"가을\",\"12\":\"겨울\"}\n",
    "# 각 월별로 계절을 mapping하기 위해 date_dict를 생성\n",
    "\n",
    "data_temp['Season']=data_temp.Date.str[5:7].map(date_dict)\n",
    "# date_dict를 이용해 각 월별에 따라 계절을 표현함\n",
    "\n",
    "data_temp['Year']=data_temp.Date.str[0:4]\n",
    "# 각 년별로 표현하기 위해 Year의 데이터를 생성\n",
    "\n",
    "Season=pd.DataFrame(data_temp.groupby(['Year','Season'], sort=False)['PM10'].mean().unstack(\"Year\"))\n",
    "# 년과 계절로 Groupby를 통해 미세먼지 값의 평균을 구함\n",
    "# 이 때, Year의 값은 groupby를 사용하지 않음\n",
    "\n",
    "Season.round(2).tail()"
   ]
  },
  {
   "cell_type": "code",
   "execution_count": 27,
   "metadata": {
    "collapsed": false
   },
   "outputs": [
    {
     "data": {
      "text/plain": [
       "<matplotlib.axes._subplots.AxesSubplot at 0xc201ef0>"
      ]
     },
     "execution_count": 27,
     "metadata": {},
     "output_type": "execute_result"
    },
    {
     "data": {
      "image/png": "[encoded data removed]",
      "text/plain": [
       "<matplotlib.figure.Figure at 0xc45ae48>"
      ]
     },
     "metadata": {},
     "output_type": "display_data"
    }
   ],
   "source": [
    "fig = plt.figure(figsize=(7,4))\n",
    "# plt를 사용해서 Plotting할 범위를 설정\n",
    "\n",
    "ax=fig.add_subplot(111)\n",
    "colors = plt.cm.rainbow_r(np.linspace(0,1,4))\n",
    "# plt의 cm계열 내 무지개 색을 이용\n",
    "\n",
    "Season.plot(kind='bar', figsize=(16,10), title=\"서울의 2015년 계절별 미세먼지 수치 분석\", fontsize=13, color=colors , ax=ax, rot=0)\n",
    "# ax의 위치에 plot을 그림"
   ]
  },
  {
   "cell_type": "code",
   "execution_count": 28,
   "metadata": {
    "collapsed": false
   },
   "outputs": [
    {
     "data": {
      "text/plain": [
       "<matplotlib.axes._subplots.AxesSubplot at 0xc1d00b8>"
      ]
     },
     "execution_count": 28,
     "metadata": {},
     "output_type": "execute_result"
    },
    {
     "data": {
      "image/png": "[encoded data removed]",
      "text/plain": [
       "<matplotlib.figure.Figure at 0xad55f60>"
      ]
     },
     "metadata": {},
     "output_type": "display_data"
    }
   ],
   "source": [
    "Season.T.plot(kind='bar', figsize=(10,5), color=colors, fontsize=13, rot=0)\n",
    "# X와 Y축을 변형하여 년별에 따른 계절별 시각화"
   ]
  },
  {
   "cell_type": "code",
   "execution_count": null,
   "metadata": {
    "collapsed": true
   },
   "outputs": [],
   "source": []
  },
  {
   "cell_type": "code",
   "execution_count": null,
   "metadata": {
    "collapsed": true
   },
   "outputs": [],
   "source": []
  }
 ],
 "metadata": {
  "kernelspec": {
   "display_name": "Python [py34]",
   "language": "python",
   "name": "Python [py34]"
  },
  "language_info": {
   "codemirror_mode": {
    "name": "ipython",
    "version": 3
   },
   "file_extension": ".py",
   "mimetype": "text/x-python",
   "name": "python",
   "nbconvert_exporter": "python",
   "pygments_lexer": "ipython3",
   "version": "3.4.5"
  }
 },
 "nbformat": 4,
 "nbformat_minor": 0
}
