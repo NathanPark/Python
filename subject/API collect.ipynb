{
 "cells": [
  {
   "cell_type": "markdown",
   "metadata": {
    "deletable": true,
    "editable": true
   },
   "source": [
    "## Data 수집 방법\n",
    "\n",
    "1. 공공 API를 이용한 데이터 수집\n",
    " - API를 제공해주지 않을 경우 문제가 생김\n",
    " \n",
    "2. 웹크롤러를 이용한 데이터 수집\n",
    " - 코드는 좀 짤 수 있는지?\n",
    " - 웹의 구조에 따라 크롤러를 변경해야 됨 (가상 DOM, JQuery 등..)\n",
    " - BeautifulSoup, Selenium 등을 이용해 데이터 수집\n",
    "\n",
    "3. CSV, JSON 파일 등의 내용을 사용해 데이터 수집\n",
    " - 번거로운 작업이 많음"
   ]
  },
  {
   "cell_type": "markdown",
   "metadata": {
    "deletable": true,
    "editable": true
   },
   "source": [
    "### 1. 공공 API를 이용한 데이터 수집"
   ]
  },
  {
   "cell_type": "code",
   "execution_count": 1,
   "metadata": {
    "collapsed": true,
    "deletable": true,
    "editable": true
   },
   "outputs": [],
   "source": [
    "import urllib.request\n",
    "import pandas as pd\n",
    "from bs4 import BeautifulSoup\n",
    "from urllib.parse import quote"
   ]
  },
  {
   "cell_type": "code",
   "execution_count": 2,
   "metadata": {
    "collapsed": true,
    "deletable": true,
    "editable": true
   },
   "outputs": [],
   "source": [
    "api_key_1 = \"AvTUreb2auwqPpS2wlLLxAAxELJUjxOA5KwvmOEyaoXPNQUngJHtB9AYT3Z24NhrLJVFfxl6x1j2%2F%2FOR7t%2FM4A%3D%3D\"\n",
    "api_key_2 = \"6bTKSlo6ON7vAMwu%2FWwSSaZY03k%2FpEs5c24znsqQqlJE%2FNjUMsNFFiIUq2x87iSyOsi4nrZGJMXOz11hBOfBTA%3D%3D\""
   ]
  },
  {
   "cell_type": "code",
   "execution_count": 3,
   "metadata": {
    "collapsed": true,
    "deletable": true,
    "editable": true
   },
   "outputs": [],
   "source": [
    "input_location = \"광진구\""
   ]
  },
  {
   "cell_type": "code",
   "execution_count": 5,
   "metadata": {
    "collapsed": true,
    "deletable": true,
    "editable": true
   },
   "outputs": [],
   "source": [
    "location=quote(input_location.encode(\"utf-8\"))"
   ]
  },
  {
   "cell_type": "code",
   "execution_count": 6,
   "metadata": {
    "collapsed": false,
    "deletable": true,
    "editable": true
   },
   "outputs": [
    {
     "data": {
      "text/plain": [
       "'%EA%B4%91%EC%A7%84%EA%B5%AC'"
      ]
     },
     "execution_count": 6,
     "metadata": {},
     "output_type": "execute_result"
    }
   ],
   "source": [
    "location"
   ]
  },
  {
   "cell_type": "code",
   "execution_count": 8,
   "metadata": {
    "collapsed": false,
    "deletable": true,
    "editable": true
   },
   "outputs": [
    {
     "name": "stdout",
     "output_type": "stream",
     "text": [
      "http://openapi.airkorea.or.kr/openapi/services/rest/ArpltnInforInqireSvc/getMsrstnAcctoRltmMesureDnsty?stationName=%EA%B4%91%EC%A7%84%EA%B5%AC&dataTerm=month&pageNo=1&numOfRows=1&ServiceKey=6bTKSlo6ON7vAMwu%2FWwSSaZY03k%2FpEs5c24znsqQqlJE%2FNjUMsNFFiIUq2x87iSyOsi4nrZGJMXOz11hBOfBTA%3D%3D&ver=1.3\n"
     ]
    }
   ],
   "source": [
    "urls = \"http://openapi.airkorea.or.kr/openapi/services/rest/ArpltnInforInqireSvc/getMsrstnAcctoRltmMesureDnsty?\"\\\n",
    "            +\"stationName=%s&dataTerm=month&pageNo=1&numOfRows=1\"%location\\\n",
    "            +\"&ServiceKey=%s&ver=1.3\"%api_key_2\n",
    "print(urls)"
   ]
  },
  {
   "cell_type": "code",
   "execution_count": 37,
   "metadata": {
    "collapsed": false,
    "deletable": true,
    "editable": true
   },
   "outputs": [
    {
     "name": "stderr",
     "output_type": "stream",
     "text": [
      "C:\\Users\\Administrator\\Anaconda2\\envs\\subject\\lib\\site-packages\\bs4\\__init__.py:181: UserWarning: No parser was explicitly specified, so I'm using the best available HTML parser for this system (\"html5lib\"). This usually isn't a problem, but if you run this code on another system, or in a different virtual environment, it may use a different parser and behave differently.\n",
      "\n",
      "The code that caused this warning is on line 193 of the file C:\\Users\\Administrator\\Anaconda2\\envs\\subject\\lib\\runpy.py. To get rid of this warning, change code that looks like this:\n",
      "\n",
      " BeautifulSoup([your markup])\n",
      "\n",
      "to this:\n",
      "\n",
      " BeautifulSoup([your markup], \"html5lib\")\n",
      "\n",
      "  markup_type=markup_type))\n"
     ]
    },
    {
     "data": {
      "text/plain": [
       "<!--?xml version=\"1.0\" encoding=\"UTF-8\"?--><html><head></head><body><response>\n",
       "\t<header>\n",
       "\t\t<resultcode>00</resultcode>\n",
       "\t\t<resultmsg>NORMAL SERVICE.</resultmsg>\n",
       "\t</header>\n",
       "\t\n",
       "\t\t<items>\n",
       "\t\t\t\n",
       "\t\t\t\t<item>\n",
       "\t\t\t\t\t<datatime>2017-03-21 15:00</datatime>\n",
       "\t\t\t\t\t\n",
       "                        <mangname>도시대기</mangname>\n",
       "                    \n",
       "\t\t\t\t\t<so2value>0.006</so2value>\n",
       "\t\t\t\t\t<covalue>0.7</covalue>\n",
       "\t\t\t\t\t<o3value>0.055</o3value>\n",
       "\t\t\t\t\t<no2value>0.026</no2value>\n",
       "\t\t\t\t\t<pm10value>111</pm10value>\n",
       "\t\t\t\t\t\n",
       "                        <pm10value24>96</pm10value24>\n",
       "                    \n",
       "\t\t\t\t\t\n",
       "                        <pm25value>87</pm25value>\n",
       "                    \n",
       "                    \n",
       "                        <pm25value24>79</pm25value24>\n",
       "                    \n",
       "\t\t\t\t\t<khaivalue>236</khaivalue>\n",
       "\t\t\t\t\t<khaigrade>3</khaigrade>\n",
       "\t\t\t\t\t<so2grade>1</so2grade>\n",
       "\t\t\t\t\t<cograde>1</cograde>\n",
       "\t\t\t\t\t<o3grade>2</o3grade>\n",
       "\t\t\t\t\t<no2grade>1</no2grade>\n",
       "\t\t\t\t\t<pm10grade>3</pm10grade>\n",
       "\t\t\t\t\t\n",
       "                        <pm25grade>3</pm25grade>\n",
       "                    \n",
       "                    \n",
       "                        <pm10grade1h>3</pm10grade1h>\n",
       "                        <pm25grade1h>3</pm25grade1h>\n",
       "                    \n",
       "\t\t\t\t</item>\n",
       "\t\t\t\n",
       "\t\t</items>\n",
       "\t\t\t<numofrows>1</numofrows>\n",
       "\t\t\t<pageno>1</pageno>\n",
       "\t\t\t<totalcount>671</totalcount>\n",
       "\t\n",
       "</response>\n",
       "</body></html>"
      ]
     },
     "execution_count": 37,
     "metadata": {},
     "output_type": "execute_result"
    }
   ],
   "source": [
    "BeautifulSoup(pm25_urls)"
   ]
  },
  {
   "cell_type": "code",
   "execution_count": 35,
   "metadata": {
    "collapsed": false,
    "deletable": true,
    "editable": true
   },
   "outputs": [
    {
     "name": "stderr",
     "output_type": "stream",
     "text": [
      "C:\\Users\\Administrator\\Anaconda2\\envs\\subject\\lib\\site-packages\\bs4\\__init__.py:181: UserWarning: No parser was explicitly specified, so I'm using the best available HTML parser for this system (\"html5lib\"). This usually isn't a problem, but if you run this code on another system, or in a different virtual environment, it may use a different parser and behave differently.\n",
      "\n",
      "The code that caused this warning is on line 193 of the file C:\\Users\\Administrator\\Anaconda2\\envs\\subject\\lib\\runpy.py. To get rid of this warning, change code that looks like this:\n",
      "\n",
      " BeautifulSoup([your markup])\n",
      "\n",
      "to this:\n",
      "\n",
      " BeautifulSoup([your markup], \"html5lib\")\n",
      "\n",
      "  markup_type=markup_type))\n"
     ]
    }
   ],
   "source": [
    "pm25_urls=urllib.request.urlopen(urls).read().decode('utf-8')\n",
    "\n",
    "''' Collect Information'''\n",
    "total_PM = pd.DataFrame()\n",
    "time=[]\n",
    "pm25=[]\n",
    "pm10=[]\n",
    "           \n",
    "for total in BeautifulSoup(pm25_urls).findAll('item'):\n",
    "    time.append(total.datatime.text.strip())\n",
    "    pm25.append(total.pm25value.text.strip())\n",
    "    pm10.append(total.pm10value.text.strip())\n",
    "\n",
    "total_PM['Time']=time\n",
    "total_PM['PM25']=pm25\n",
    "total_PM['PM10']=pm10"
   ]
  },
  {
   "cell_type": "code",
   "execution_count": 36,
   "metadata": {
    "collapsed": false,
    "deletable": true,
    "editable": true
   },
   "outputs": [
    {
     "data": {
      "text/html": [
       "<div>\n",
       "<table border=\"1\" class=\"dataframe\">\n",
       "  <thead>\n",
       "    <tr style=\"text-align: right;\">\n",
       "      <th></th>\n",
       "      <th>Time</th>\n",
       "      <th>PM25</th>\n",
       "      <th>PM10</th>\n",
       "    </tr>\n",
       "  </thead>\n",
       "  <tbody>\n",
       "    <tr>\n",
       "      <th>0</th>\n",
       "      <td>2017-03-21 15:00</td>\n",
       "      <td>87</td>\n",
       "      <td>111</td>\n",
       "    </tr>\n",
       "  </tbody>\n",
       "</table>\n",
       "</div>"
      ],
      "text/plain": [
       "               Time PM25 PM10\n",
       "0  2017-03-21 15:00   87  111"
      ]
     },
     "execution_count": 36,
     "metadata": {},
     "output_type": "execute_result"
    }
   ],
   "source": [
    "total_PM"
   ]
  }
 ],
 "metadata": {
  "kernelspec": {
   "display_name": "Python 3",
   "language": "python",
   "name": "python3"
  },
  "language_info": {
   "codemirror_mode": {
    "name": "ipython",
    "version": 3
   },
   "file_extension": ".py",
   "mimetype": "text/x-python",
   "name": "python",
   "nbconvert_exporter": "python",
   "pygments_lexer": "ipython3",
   "version": "3.5.3"
  }
 },
 "nbformat": 4,
 "nbformat_minor": 2
}
