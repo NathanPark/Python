{
 "cells": [
  {
   "cell_type": "markdown",
   "metadata": {
    "deletable": true,
    "editable": true
   },
   "source": [
    "## Data 수집 방법\n",
    "\n",
    "1) 공공 API를 이용한 데이터 수집\n",
    " - API를 제공해주지 않을 경우 문제가 생김\n",
    " \n",
    " \n",
    "2) 웹크롤러를 이용한 데이터 수집\n",
    " - 코드는 좀 짤 수 있는지?\n",
    " - 웹의 구조에 따라 크롤러를 변경해야 됨 (가상 DOM, JQuery 등..)\n",
    " - BeautifulSoup, Selenium 등을 이용해 데이터 수집\n",
    "\n",
    "3) CSV, JSON 파일 등의 내용을 사용해 데이터 수집\n",
    " - 번거로운 작업이 많음"
   ]
  },
  {
   "cell_type": "markdown",
   "metadata": {
    "deletable": true,
    "editable": true
   },
   "source": [
    "### 1. 공공 API를 이용한 데이터 수집"
   ]
  },
  {
   "cell_type": "code",
   "execution_count": 1,
   "metadata": {
    "collapsed": true,
    "deletable": true,
    "editable": true
   },
   "outputs": [],
   "source": [
    "import urllib.request\n",
    "import pandas as pd\n",
    "from bs4 import BeautifulSoup\n",
    "from urllib.parse import quote"
   ]
  },
  {
   "cell_type": "code",
   "execution_count": 2,
   "metadata": {
    "collapsed": true,
    "deletable": true,
    "editable": true
   },
   "outputs": [],
   "source": [
    "api_key_1 = \"AvTUreb2auwqPpS2wlLLxAAxELJUjxOA5KwvmOEyaoXPNQUngJHtB9AYT3Z24NhrLJVFfxl6x1j2%2F%2FOR7t%2FM4A%3D%3D\"\n",
    "api_key_2 = \"6bTKSlo6ON7vAMwu%2FWwSSaZY03k%2FpEs5c24znsqQqlJE%2FNjUMsNFFiIUq2x87iSyOsi4nrZGJMXOz11hBOfBTA%3D%3D\""
   ]
  },
  {
   "cell_type": "code",
   "execution_count": 3,
   "metadata": {
    "collapsed": true,
    "deletable": true,
    "editable": true
   },
   "outputs": [],
   "source": [
    "input_location = \"광진구\""
   ]
  },
  {
   "cell_type": "code",
   "execution_count": 5,
   "metadata": {
    "collapsed": true,
    "deletable": true,
    "editable": true
   },
   "outputs": [],
   "source": [
    "location=quote(input_location.encode(\"utf-8\"))"
   ]
  },
  {
   "cell_type": "code",
   "execution_count": 6,
   "metadata": {
    "collapsed": false,
    "deletable": true,
    "editable": true
   },
   "outputs": [
    {
     "data": {
      "text/plain": [
       "'%EA%B4%91%EC%A7%84%EA%B5%AC'"
      ]
     },
     "execution_count": 6,
     "metadata": {},
     "output_type": "execute_result"
    }
   ],
   "source": [
    "location"
   ]
  },
  {
   "cell_type": "code",
   "execution_count": 8,
   "metadata": {
    "collapsed": false,
    "deletable": true,
    "editable": true
   },
   "outputs": [
    {
     "name": "stdout",
     "output_type": "stream",
     "text": [
      "http://openapi.airkorea.or.kr/openapi/services/rest/ArpltnInforInqireSvc/getMsrstnAcctoRltmMesureDnsty?stationName=%EA%B4%91%EC%A7%84%EA%B5%AC&dataTerm=month&pageNo=1&numOfRows=1&ServiceKey=6bTKSlo6ON7vAMwu%2FWwSSaZY03k%2FpEs5c24znsqQqlJE%2FNjUMsNFFiIUq2x87iSyOsi4nrZGJMXOz11hBOfBTA%3D%3D&ver=1.3\n"
     ]
    }
   ],
   "source": [
    "urls = \"http://openapi.airkorea.or.kr/openapi/services/rest/ArpltnInforInqireSvc/getMsrstnAcctoRltmMesureDnsty?\"\\\n",
    "            +\"stationName=%s&dataTerm=month&pageNo=1&numOfRows=1\"%location\\\n",
    "            +\"&ServiceKey=%s&ver=1.3\"%api_key_2\n",
    "print(urls)"
   ]
  },
  {
   "cell_type": "code",
   "execution_count": 37,
   "metadata": {
    "collapsed": false,
    "deletable": true,
    "editable": true
   },
   "outputs": [
    {
     "name": "stderr",
     "output_type": "stream",
     "text": [
      "C:\\Users\\Administrator\\Anaconda2\\envs\\subject\\lib\\site-packages\\bs4\\__init__.py:181: UserWarning: No parser was explicitly specified, so I'm using the best available HTML parser for this system (\"html5lib\"). This usually isn't a problem, but if you run this code on another system, or in a different virtual environment, it may use a different parser and behave differently.\n",
      "\n",
      "The code that caused this warning is on line 193 of the file C:\\Users\\Administrator\\Anaconda2\\envs\\subject\\lib\\runpy.py. To get rid of this warning, change code that looks like this:\n",
      "\n",
      " BeautifulSoup([your markup])\n",
      "\n",
      "to this:\n",
      "\n",
      " BeautifulSoup([your markup], \"html5lib\")\n",
      "\n",
      "  markup_type=markup_type))\n"
     ]
    },
    {
     "data": {
      "text/plain": [
       "<!--?xml version=\"1.0\" encoding=\"UTF-8\"?--><html><head></head><body><response>\n",
       "\t<header>\n",
       "\t\t<resultcode>00</resultcode>\n",
       "\t\t<resultmsg>NORMAL SERVICE.</resultmsg>\n",
       "\t</header>\n",
       "\t\n",
       "\t\t<items>\n",
       "\t\t\t\n",
       "\t\t\t\t<item>\n",
       "\t\t\t\t\t<datatime>2017-03-21 15:00</datatime>\n",
       "\t\t\t\t\t\n",
       "                        <mangname>도시대기</mangname>\n",
       "                    \n",
       "\t\t\t\t\t<so2value>0.006</so2value>\n",
       "\t\t\t\t\t<covalue>0.7</covalue>\n",
       "\t\t\t\t\t<o3value>0.055</o3value>\n",
       "\t\t\t\t\t<no2value>0.026</no2value>\n",
       "\t\t\t\t\t<pm10value>111</pm10value>\n",
       "\t\t\t\t\t\n",
       "                        <pm10value24>96</pm10value24>\n",
       "                    \n",
       "\t\t\t\t\t\n",
       "                        <pm25value>87</pm25value>\n",
       "                    \n",
       "                    \n",
       "                        <pm25value24>79</pm25value24>\n",
       "                    \n",
       "\t\t\t\t\t<khaivalue>236</khaivalue>\n",
       "\t\t\t\t\t<khaigrade>3</khaigrade>\n",
       "\t\t\t\t\t<so2grade>1</so2grade>\n",
       "\t\t\t\t\t<cograde>1</cograde>\n",
       "\t\t\t\t\t<o3grade>2</o3grade>\n",
       "\t\t\t\t\t<no2grade>1</no2grade>\n",
       "\t\t\t\t\t<pm10grade>3</pm10grade>\n",
       "\t\t\t\t\t\n",
       "                        <pm25grade>3</pm25grade>\n",
       "                    \n",
       "                    \n",
       "                        <pm10grade1h>3</pm10grade1h>\n",
       "                        <pm25grade1h>3</pm25grade1h>\n",
       "                    \n",
       "\t\t\t\t</item>\n",
       "\t\t\t\n",
       "\t\t</items>\n",
       "\t\t\t<numofrows>1</numofrows>\n",
       "\t\t\t<pageno>1</pageno>\n",
       "\t\t\t<totalcount>671</totalcount>\n",
       "\t\n",
       "</response>\n",
       "</body></html>"
      ]
     },
     "execution_count": 37,
     "metadata": {},
     "output_type": "execute_result"
    }
   ],
   "source": [
    "BeautifulSoup(pm25_urls)"
   ]
  },
  {
   "cell_type": "code",
   "execution_count": 35,
   "metadata": {
    "collapsed": false,
    "deletable": true,
    "editable": true
   },
   "outputs": [
    {
     "name": "stderr",
     "output_type": "stream",
     "text": [
      "C:\\Users\\Administrator\\Anaconda2\\envs\\subject\\lib\\site-packages\\bs4\\__init__.py:181: UserWarning: No parser was explicitly specified, so I'm using the best available HTML parser for this system (\"html5lib\"). This usually isn't a problem, but if you run this code on another system, or in a different virtual environment, it may use a different parser and behave differently.\n",
      "\n",
      "The code that caused this warning is on line 193 of the file C:\\Users\\Administrator\\Anaconda2\\envs\\subject\\lib\\runpy.py. To get rid of this warning, change code that looks like this:\n",
      "\n",
      " BeautifulSoup([your markup])\n",
      "\n",
      "to this:\n",
      "\n",
      " BeautifulSoup([your markup], \"html5lib\")\n",
      "\n",
      "  markup_type=markup_type))\n"
     ]
    }
   ],
   "source": [
    "pm25_urls=urllib.request.urlopen(urls).read().decode('utf-8')\n",
    "\n",
    "''' Collect Information'''\n",
    "total_PM = pd.DataFrame()\n",
    "time=[]\n",
    "pm25=[]\n",
    "pm10=[]\n",
    "           \n",
    "for total in BeautifulSoup(pm25_urls).findAll('item'):\n",
    "    time.append(total.datatime.text.strip())\n",
    "    pm25.append(total.pm25value.text.strip())\n",
    "    pm10.append(total.pm10value.text.strip())\n",
    "\n",
    "total_PM['Time']=time\n",
    "total_PM['PM25']=pm25\n",
    "total_PM['PM10']=pm10"
   ]
  },
  {
   "cell_type": "code",
   "execution_count": 36,
   "metadata": {
    "collapsed": false,
    "deletable": true,
    "editable": true
   },
   "outputs": [
    {
     "data": {
      "text/html": [
       "<div>\n",
       "<table border=\"1\" class=\"dataframe\">\n",
       "  <thead>\n",
       "    <tr style=\"text-align: right;\">\n",
       "      <th></th>\n",
       "      <th>Time</th>\n",
       "      <th>PM25</th>\n",
       "      <th>PM10</th>\n",
       "    </tr>\n",
       "  </thead>\n",
       "  <tbody>\n",
       "    <tr>\n",
       "      <th>0</th>\n",
       "      <td>2017-03-21 15:00</td>\n",
       "      <td>87</td>\n",
       "      <td>111</td>\n",
       "    </tr>\n",
       "  </tbody>\n",
       "</table>\n",
       "</div>"
      ],
      "text/plain": [
       "               Time PM25 PM10\n",
       "0  2017-03-21 15:00   87  111"
      ]
     },
     "execution_count": 36,
     "metadata": {},
     "output_type": "execute_result"
    }
   ],
   "source": [
    "total_PM"
   ]
  },
  {
   "cell_type": "markdown",
   "metadata": {},
   "source": [
    "### 2. 웹크롤을 이용한 웹툰 데이터 가져오기"
   ]
  },
  {
   "cell_type": "markdown",
   "metadata": {},
   "source": [
    "출처: https://partrita.wordpress.com/2014/12/20/%ED%8C%8C%EC%9D%B4%EC%8D%AC3-%EC%97%90%EC%84%9C-beautifulsoup-%EB%8B%A4%EB%A3%A8%EA%B8%B0/"
   ]
  },
  {
   "cell_type": "markdown",
   "metadata": {},
   "source": [
    "http://comic.naver.com/webtoon/weekday.nhn"
   ]
  },
  {
   "cell_type": "markdown",
   "metadata": {},
   "source": [
    "1. 웹툰 사이트에 접속\n",
    "\n",
    "2. 구글 크롬(권장) 또는 Window Explore 에서 F12를 누르면 해당 페이지의 코드창이 생성\n",
    "\n",
    "3. 수집할 목록을 찾음"
   ]
  },
  {
   "cell_type": "markdown",
   "metadata": {},
   "source": [
    "<img src=\"image/webtoon_1.jpg\">"
   ]
  },
  {
   "cell_type": "code",
   "execution_count": 12,
   "metadata": {
    "collapsed": false,
    "scrolled": false
   },
   "outputs": [
    {
     "name": "stderr",
     "output_type": "stream",
     "text": [
      "C:\\Users\\Administrator\\Anaconda2\\envs\\subject\\lib\\site-packages\\bs4\\__init__.py:181: UserWarning: No parser was explicitly specified, so I'm using the best available HTML parser for this system (\"html5lib\"). This usually isn't a problem, but if you run this code on another system, or in a different virtual environment, it may use a different parser and behave differently.\n",
      "\n",
      "The code that caused this warning is on line 193 of the file C:\\Users\\Administrator\\Anaconda2\\envs\\subject\\lib\\runpy.py. To get rid of this warning, change code that looks like this:\n",
      "\n",
      " BeautifulSoup([your markup])\n",
      "\n",
      "to this:\n",
      "\n",
      " BeautifulSoup([your markup], \"html5lib\")\n",
      "\n",
      "  markup_type=markup_type))\n"
     ]
    },
    {
     "name": "stdout",
     "output_type": "stream",
     "text": [
      "title:신의 탑       link:/webtoon/list.nhn?titleId=183559&weekday=mon\n",
      "\n",
      "title:윈드브레이커     link:/webtoon/list.nhn?titleId=602910&weekday=mon\n",
      "\n",
      "title:뷰티풀 군바리    link:/webtoon/list.nhn?titleId=648419&weekday=mon\n",
      "\n",
      "title:대학일기       link:/webtoon/list.nhn?titleId=679519&weekday=mon\n",
      "\n",
      "title:소녀의 세계     link:/webtoon/list.nhn?titleId=654774&weekday=mon\n",
      "\n",
      "title:평범한 8반     link:/webtoon/list.nhn?titleId=597478&weekday=mon\n",
      "\n",
      "title:여중생A       link:/webtoon/list.nhn?titleId=647946&weekday=mon\n",
      "\n",
      "title:마이너스의 손    link:/webtoon/list.nhn?titleId=679568&weekday=mon\n",
      "\n",
      "title:마루한 - 구현동화전 link:/webtoon/list.nhn?titleId=624632&weekday=mon\n",
      "\n",
      "title:가우스전자 시즌3  link:/webtoon/list.nhn?titleId=675554&weekday=mon\n",
      "\n",
      "title:하루 3컷      link:/webtoon/list.nhn?titleId=644180&weekday=mon\n",
      "\n",
      "title:이상하고 아름다운  link:/webtoon/list.nhn?titleId=668723&weekday=mon\n",
      "\n",
      "title:꿈의 기업      link:/webtoon/list.nhn?titleId=687915&weekday=mon\n",
      "\n",
      "title:생활의참견      link:/webtoon/list.nhn?titleId=25613&weekday=mon\n",
      "\n",
      "title:탈(TAL)     link:/webtoon/list.nhn?titleId=316911&weekday=mon\n",
      "\n",
      "title:팀피닉스       link:/webtoon/list.nhn?titleId=658076&weekday=mon\n",
      "\n",
      "title:퓨어 이블      link:/webtoon/list.nhn?titleId=694191&weekday=mon\n",
      "\n",
      "title:송곳 4~5부    link:/webtoon/list.nhn?titleId=660025&weekday=mon\n",
      "\n",
      "title:부부생활       link:/webtoon/list.nhn?titleId=675559&weekday=mon\n",
      "\n",
      "title:히어로메이커     link:/webtoon/list.nhn?titleId=21815&weekday=mon\n",
      "\n",
      "title:동토의 여명     link:/webtoon/list.nhn?titleId=678494&weekday=mon\n",
      "\n",
      "title:마음의소리      link:/webtoon/list.nhn?titleId=20853&weekday=tue\n",
      "\n",
      "title:노블레스       link:/webtoon/list.nhn?titleId=25455&weekday=tue\n",
      "\n",
      "title:하이브3       link:/webtoon/list.nhn?titleId=675331&weekday=tue\n",
      "\n",
      "title:오!주예수여     link:/webtoon/list.nhn?titleId=655744&weekday=tue\n",
      "\n",
      "title:2017 사이다를 부탁해! link:/webtoon/list.nhn?titleId=690502&weekday=tue\n",
      "\n",
      "title:데모니악       link:/webtoon/list.nhn?titleId=692512&weekday=tue\n",
      "\n",
      "title:신도림        link:/webtoon/list.nhn?titleId=683496&weekday=tue\n",
      "\n",
      "title:덴마         link:/webtoon/list.nhn?titleId=119874&weekday=tue\n",
      "\n",
      "title:슈퍼 시크릿     link:/webtoon/list.nhn?titleId=650304&weekday=tue\n",
      "\n",
      "title:놓지마 정신줄 시즌2 link:/webtoon/list.nhn?titleId=682637&weekday=tue\n",
      "\n",
      "title:완벽한 허니문    link:/webtoon/list.nhn?titleId=689705&weekday=tue\n",
      "\n",
      "title:제로게임       link:/webtoon/list.nhn?titleId=676695&weekday=tue\n",
      "\n",
      "title:미라클! 용사님   link:/webtoon/list.nhn?titleId=654817&weekday=tue\n",
      "\n",
      "title:공감.jpg     link:/webtoon/list.nhn?titleId=686911&weekday=tue\n",
      "\n",
      "title:신의 언어      link:/webtoon/list.nhn?titleId=602287&weekday=tue\n",
      "\n",
      "title:가우스전자 시즌3  link:/webtoon/list.nhn?titleId=675554&weekday=tue\n",
      "\n",
      "title:윌유메리미      link:/webtoon/list.nhn?titleId=616239&weekday=tue\n",
      "\n",
      "title:하루 3컷      link:/webtoon/list.nhn?titleId=644180&weekday=tue\n",
      "\n",
      "title:차원이 다른 만화  link:/webtoon/list.nhn?titleId=679569&weekday=tue\n",
      "\n",
      "title:에이머        link:/webtoon/list.nhn?titleId=400739&weekday=tue\n",
      "\n",
      "title:열정호구       link:/webtoon/list.nhn?titleId=686312&weekday=tue\n",
      "\n",
      "title:모태솔로수용소 시즌2 link:/webtoon/list.nhn?titleId=666670&weekday=tue\n",
      "\n",
      "title:첩보의 별 시즌2  link:/webtoon/list.nhn?titleId=686669&weekday=tue\n",
      "\n",
      "title:패밀리 사이즈    link:/webtoon/list.nhn?titleId=626906&weekday=tue\n",
      "\n",
      "title:안동 간고디     link:/webtoon/list.nhn?titleId=692108&weekday=tue\n",
      "\n",
      "title:기로         link:/webtoon/list.nhn?titleId=653344&weekday=tue\n",
      "\n",
      "title:복학왕        link:/webtoon/list.nhn?titleId=626907&weekday=wed\n",
      "\n",
      "title:고수         link:/webtoon/list.nhn?titleId=662774&weekday=wed\n",
      "\n",
      "title:연놈         link:/webtoon/list.nhn?titleId=667573&weekday=wed\n",
      "\n",
      "title:2017 사이다를 부탁해! link:/webtoon/list.nhn?titleId=690502&weekday=wed\n",
      "\n",
      "title:헬퍼 2 : 킬베로스 link:/webtoon/list.nhn?titleId=670143&weekday=wed\n",
      "\n",
      "title:유미의 세포들    link:/webtoon/list.nhn?titleId=651673&weekday=wed\n",
      "\n",
      "title:오늘도 형제는 평화롭다 link:/webtoon/list.nhn?titleId=692510&weekday=wed\n",
      "\n",
      "title:조선왕조실톡     link:/webtoon/list.nhn?titleId=642598&weekday=wed\n",
      "\n",
      "title:웃지 않는 개그반 시즌3 link:/webtoon/list.nhn?titleId=665618&weekday=wed\n",
      "\n",
      "title:돌아온 럭키짱    link:/webtoon/list.nhn?titleId=449854&weekday=wed\n",
      "\n",
      "title:가우스전자 시즌3  link:/webtoon/list.nhn?titleId=675554&weekday=wed\n",
      "\n",
      "title:이런 영웅은 싫어  link:/webtoon/list.nhn?titleId=400742&weekday=wed\n",
      "\n",
      "title:하루 3컷      link:/webtoon/list.nhn?titleId=644180&weekday=wed\n",
      "\n",
      "title:언덕 위의 제임스  link:/webtoon/list.nhn?titleId=671421&weekday=wed\n",
      "\n",
      "title:퍼스트 미션     link:/webtoon/list.nhn?titleId=694131&weekday=wed\n",
      "\n",
      "title:잡다한컷       link:/webtoon/list.nhn?titleId=687610&weekday=wed\n",
      "\n",
      "title:당신만 몰라!    link:/webtoon/list.nhn?titleId=459545&weekday=wed\n",
      "\n",
      "title:이기자, 그린    link:/webtoon/list.nhn?titleId=689701&weekday=wed\n",
      "\n",
      "title:녹두전        link:/webtoon/list.nhn?titleId=643123&weekday=wed\n",
      "\n",
      "title:나는 귀머거리다   link:/webtoon/list.nhn?titleId=659934&weekday=wed\n",
      "\n",
      "title:지금 이 순간 마법처럼 link:/webtoon/list.nhn?titleId=681453&weekday=wed\n",
      "\n",
      "title:블랙수트       link:/webtoon/list.nhn?titleId=679545&weekday=wed\n",
      "\n",
      "title:씬커         link:/webtoon/list.nhn?titleId=635174&weekday=wed\n",
      "\n",
      "title:Penguin loves Mev link:/webtoon/list.nhn?titleId=169080&weekday=wed\n",
      "\n",
      "title:오늘도 고양이답게  link:/webtoon/list.nhn?titleId=694195&weekday=wed\n",
      "\n",
      "title:기기괴괴       link:/webtoon/list.nhn?titleId=557672&weekday=thu\n",
      "\n",
      "title:연애혁명       link:/webtoon/list.nhn?titleId=570503&weekday=thu\n",
      "\n",
      "title:대학일기       link:/webtoon/list.nhn?titleId=679519&weekday=thu\n",
      "\n",
      "title:최강전설 강해효   link:/webtoon/list.nhn?titleId=570506&weekday=thu\n",
      "\n",
      "title:치즈인더트랩 4부  link:/webtoon/list.nhn?titleId=662162&weekday=thu\n",
      "\n",
      "title:문유         link:/webtoon/list.nhn?titleId=679544&weekday=thu\n",
      "\n",
      "title:가우스전자 시즌3  link:/webtoon/list.nhn?titleId=675554&weekday=thu\n",
      "\n",
      "title:가담항설       link:/webtoon/list.nhn?titleId=670144&weekday=thu\n",
      "\n",
      "title:하루 3컷      link:/webtoon/list.nhn?titleId=644180&weekday=thu\n",
      "\n",
      "title:마술사        link:/webtoon/list.nhn?titleId=24965&weekday=thu\n",
      "\n",
      "title:계룡선녀전      link:/webtoon/list.nhn?titleId=693431&weekday=thu\n",
      "\n",
      "title:서북의 저승사자   link:/webtoon/list.nhn?titleId=657948&weekday=thu\n",
      "\n",
      "title:아일랜드 2부    link:/webtoon/list.nhn?titleId=687921&weekday=thu\n",
      "\n",
      "title:우리집에 곰이 이사왔다 link:/webtoon/list.nhn?titleId=690594&weekday=thu\n",
      "\n",
      "title:에피소드칵테일    link:/webtoon/list.nhn?titleId=579352&weekday=thu\n",
      "\n",
      "title:전자오락수호대    link:/webtoon/list.nhn?titleId=637931&weekday=thu\n",
      "\n",
      "title:참치와 돌고래    link:/webtoon/list.nhn?titleId=675516&weekday=thu\n",
      "\n",
      "title:백귀야행지      link:/webtoon/list.nhn?titleId=646358&weekday=thu\n",
      "\n",
      "title:파도의 주인     link:/webtoon/list.nhn?titleId=652418&weekday=thu\n",
      "\n",
      "title:킬더킹        link:/webtoon/list.nhn?titleId=670145&weekday=thu\n",
      "\n",
      "title:천국의 신화 6부  link:/webtoon/list.nhn?titleId=670131&weekday=thu\n",
      "\n",
      "title:특수 영능력 수사반 link:/webtoon/list.nhn?titleId=160469&weekday=thu\n",
      "\n",
      "title:동네변호사 조들호 시즌2 link:/webtoon/list.nhn?titleId=675829&weekday=thu\n",
      "\n",
      "title:지니의 세포들    link:/webtoon/list.nhn?titleId=694190&weekday=thu\n",
      "\n",
      "title:Doll 체인지   link:/webtoon/list.nhn?titleId=693444&weekday=thu\n",
      "\n",
      "title:외모지상주의     link:/webtoon/list.nhn?titleId=641253&weekday=fri\n",
      "\n",
      "title:갓 오브 하이스쿨  link:/webtoon/list.nhn?titleId=318995&weekday=fri\n",
      "\n",
      "title:한번 더 해요    link:/webtoon/list.nhn?titleId=675393&weekday=fri\n",
      "\n",
      "title:2017 사이다를 부탁해! link:/webtoon/list.nhn?titleId=690502&weekday=fri\n",
      "\n",
      "title:더 게이머      link:/webtoon/list.nhn?titleId=552960&weekday=fri\n",
      "\n",
      "title:덴마         link:/webtoon/list.nhn?titleId=119874&weekday=fri\n",
      "\n",
      "title:밥 먹고 갈래요?  link:/webtoon/list.nhn?titleId=651664&weekday=fri\n",
      "\n",
      "title:결계녀        link:/webtoon/list.nhn?titleId=668101&weekday=fri\n",
      "\n",
      "title:테러맨        link:/webtoon/list.nhn?titleId=670149&weekday=fri\n",
      "\n",
      "title:가우스전자 시즌3  link:/webtoon/list.nhn?titleId=675554&weekday=fri\n",
      "\n",
      "title:하루 3컷      link:/webtoon/list.nhn?titleId=644180&weekday=fri\n",
      "\n",
      "title:공대생 너무만화   link:/webtoon/list.nhn?titleId=678499&weekday=fri\n",
      "\n",
      "title:오즈랜드       link:/webtoon/list.nhn?titleId=626940&weekday=fri\n",
      "\n",
      "title:그들에게 사면초가  link:/webtoon/list.nhn?titleId=693429&weekday=fri\n",
      "\n",
      "title:아테나 컴플렉스   link:/webtoon/list.nhn?titleId=679543&weekday=fri\n",
      "\n",
      "title:낮에 뜨는 달    link:/webtoon/list.nhn?titleId=551649&weekday=fri\n",
      "\n",
      "title:잡다한컷       link:/webtoon/list.nhn?titleId=687610&weekday=fri\n",
      "\n",
      "title:골든 체인지     link:/webtoon/list.nhn?titleId=685460&weekday=fri\n",
      "\n",
      "title:조선좀비실록     link:/webtoon/list.nhn?titleId=509094&weekday=fri\n",
      "\n",
      "title:이별만화 완성도   link:/webtoon/list.nhn?titleId=654333&weekday=fri\n",
      "\n",
      "title:몽홀         link:/webtoon/list.nhn?titleId=644112&weekday=fri\n",
      "\n",
      "title:킬러 김빵빵     link:/webtoon/list.nhn?titleId=677753&weekday=fri\n",
      "\n",
      "title:Penguin loves Mev link:/webtoon/list.nhn?titleId=169080&weekday=fri\n",
      "\n",
      "title:원티드        link:/webtoon/list.nhn?titleId=310616&weekday=fri\n",
      "\n",
      "title:시노딕        link:/webtoon/list.nhn?titleId=668103&weekday=fri\n",
      "\n",
      "title:진눈깨비 소년    link:/webtoon/list.nhn?titleId=622643&weekday=fri\n",
      "\n",
      "title:프리드로우      link:/webtoon/list.nhn?titleId=597447&weekday=sat\n",
      "\n",
      "title:호랑이형님      link:/webtoon/list.nhn?titleId=650305&weekday=sat\n",
      "\n",
      "title:용이산다       link:/webtoon/list.nhn?titleId=568986&weekday=sat\n",
      "\n",
      "title:부활남        link:/webtoon/list.nhn?titleId=670139&weekday=sat\n",
      "\n",
      "title:내 ID는 강남미인! link:/webtoon/list.nhn?titleId=677536&weekday=sat\n",
      "\n",
      "title:금수저        link:/webtoon/list.nhn?titleId=679567&weekday=sat\n",
      "\n",
      "title:나노리스트      link:/webtoon/list.nhn?titleId=670150&weekday=sat\n",
      "\n",
      "title:공복의 저녁식사   link:/webtoon/list.nhn?titleId=642700&weekday=sat\n",
      "\n",
      "title:유미의 세포들    link:/webtoon/list.nhn?titleId=651673&weekday=sat\n",
      "\n",
      "title:대가리        link:/webtoon/list.nhn?titleId=677737&weekday=sat\n",
      "\n",
      "title:놓지마 정신줄 시즌2 link:/webtoon/list.nhn?titleId=682637&weekday=sat\n",
      "\n",
      "title:야부리맨       link:/webtoon/list.nhn?titleId=651665&weekday=sat\n",
      "\n",
      "title:공감.jpg     link:/webtoon/list.nhn?titleId=686911&weekday=sat\n",
      "\n",
      "title:언터처블       link:/webtoon/list.nhn?titleId=612769&weekday=sat\n",
      "\n",
      "title:귀각시        link:/webtoon/list.nhn?titleId=679570&weekday=sat\n",
      "\n",
      "title:윌유메리미      link:/webtoon/list.nhn?titleId=616239&weekday=sat\n",
      "\n",
      "title:하루 3컷      link:/webtoon/list.nhn?titleId=644180&weekday=sat\n",
      "\n",
      "title:갸오오와 사랑꾼들  link:/webtoon/list.nhn?titleId=670151&weekday=sat\n",
      "\n",
      "title:나이트런       link:/webtoon/list.nhn?titleId=64997&weekday=sat\n",
      "\n",
      "title:은주의 방 2    link:/webtoon/list.nhn?titleId=654138&weekday=sat\n",
      "\n",
      "title:생활의참견      link:/webtoon/list.nhn?titleId=25613&weekday=sat\n",
      "\n",
      "title:첩보의 별 시즌2  link:/webtoon/list.nhn?titleId=686669&weekday=sat\n",
      "\n",
      "title:나는 귀머거리다   link:/webtoon/list.nhn?titleId=659934&weekday=sat\n",
      "\n",
      "title:트럼프        link:/webtoon/list.nhn?titleId=524520&weekday=sat\n",
      "\n",
      "title:구름의 이동속도   link:/webtoon/list.nhn?titleId=687137&weekday=sat\n",
      "\n",
      "title:네버랜 연대기    link:/webtoon/list.nhn?titleId=664406&weekday=sat\n",
      "\n",
      "title:2017 사이다를 부탁해! link:/webtoon/list.nhn?titleId=690502&weekday=sun\n",
      "\n",
      "title:열렙전사       link:/webtoon/list.nhn?titleId=670152&weekday=sun\n",
      "\n",
      "title:구구까까       link:/webtoon/list.nhn?titleId=684435&weekday=sun\n",
      "\n",
      "title:스피릿 핑거스    link:/webtoon/list.nhn?titleId=654809&weekday=sun\n",
      "\n",
      "title:다이스(DICE)  link:/webtoon/list.nhn?titleId=557676&weekday=sun\n",
      "\n",
      "title:덴마         link:/webtoon/list.nhn?titleId=119874&weekday=sun\n",
      "\n",
      "title:컨트롤제트      link:/webtoon/list.nhn?titleId=666671&weekday=sun\n",
      "\n",
      "title:군인RPG      link:/webtoon/list.nhn?titleId=690020&weekday=sun\n",
      "\n",
      "title:오늘도 형제는 평화롭다 link:/webtoon/list.nhn?titleId=692510&weekday=sun\n",
      "\n",
      "title:연애의 정령     link:/webtoon/list.nhn?titleId=651617&weekday=sun\n",
      "\n",
      "title:조선왕조실톡     link:/webtoon/list.nhn?titleId=642598&weekday=sun\n",
      "\n",
      "title:달수 이야기     link:/webtoon/list.nhn?titleId=650292&weekday=sun\n",
      "\n",
      "title:하루 3컷      link:/webtoon/list.nhn?titleId=644180&weekday=sun\n",
      "\n",
      "title:감염자        link:/webtoon/list.nhn?titleId=675823&weekday=sun\n",
      "\n",
      "title:마법스크롤상인 지오 link:/webtoon/list.nhn?titleId=655746&weekday=sun\n",
      "\n",
      "title:심심한 마왕     link:/webtoon/list.nhn?titleId=374974&weekday=sun\n",
      "\n",
      "title:우리들은 푸르다   link:/webtoon/list.nhn?titleId=243315&weekday=sun\n",
      "\n",
      "title:도망자        link:/webtoon/list.nhn?titleId=690503&weekday=sun\n",
      "\n",
      "title:귀도호가록      link:/webtoon/list.nhn?titleId=665170&weekday=sun\n",
      "\n",
      "title:마스크걸       link:/webtoon/list.nhn?titleId=660366&weekday=sun\n",
      "\n",
      "title:바로잡는 순애보   link:/webtoon/list.nhn?titleId=626949&weekday=sun\n",
      "\n",
      "title:호랭총각       link:/webtoon/list.nhn?titleId=22897&weekday=sun\n",
      "\n",
      "title:오늘도 핸드메이드! link:/webtoon/list.nhn?titleId=686018&weekday=sun\n",
      "\n",
      "title:패밀리 사이즈    link:/webtoon/list.nhn?titleId=626906&weekday=sun\n",
      "\n"
     ]
    }
   ],
   "source": [
    "import urllib.request\n",
    "from bs4 import BeautifulSoup\n",
    "html = urllib.request.urlopen('http://comic.naver.com/webtoon/weekday.nhn')\n",
    "soup = BeautifulSoup(html)\n",
    "titles = soup.find_all('a','title')\n",
    "\n",
    "for title in titles:\n",
    "    print('title:{0:10s} link:{1:20s}\\n'.format(title['title'], title['href']))"
   ]
  },
  {
   "cell_type": "markdown",
   "metadata": {},
   "source": [
    "### 3. CSV를 이용한 데이터 수집"
   ]
  },
  {
   "cell_type": "code",
   "execution_count": 3,
   "metadata": {
    "collapsed": true
   },
   "outputs": [],
   "source": [
    "import pandas as pd"
   ]
  },
  {
   "cell_type": "markdown",
   "metadata": {},
   "source": [
    "1. CSV데이터 파일을 다운 받음\n",
    "2. CSV데이터를 UTF-8로 변경"
   ]
  },
  {
   "cell_type": "markdown",
   "metadata": {},
   "source": [
    "<img src=\"image/test_image_1.jpg\">"
   ]
  },
  {
   "cell_type": "markdown",
   "metadata": {},
   "source": [
    "<img src=\"image/test_image_2.jpg\">"
   ]
  },
  {
   "cell_type": "markdown",
   "metadata": {},
   "source": [
    "<img src=\"image/test_image_3.jpg\">"
   ]
  },
  {
   "cell_type": "markdown",
   "metadata": {},
   "source": [
    "#### CSV를 이용한 데이터 수집"
   ]
  },
  {
   "cell_type": "markdown",
   "metadata": {},
   "source": [
    "수집한 데이터 출처: https://www.data.go.kr/dataset/15010776/fileData.do"
   ]
  },
  {
   "cell_type": "code",
   "execution_count": 9,
   "metadata": {
    "collapsed": false
   },
   "outputs": [],
   "source": [
    "data=pd.read_csv('test.csv')"
   ]
  },
  {
   "cell_type": "code",
   "execution_count": 8,
   "metadata": {
    "collapsed": false
   },
   "outputs": [
    {
     "data": {
      "text/html": [
       "<div>\n",
       "<table border=\"1\" class=\"dataframe\">\n",
       "  <thead>\n",
       "    <tr style=\"text-align: right;\">\n",
       "      <th></th>\n",
       "      <th>설치장소명</th>\n",
       "      <th>설치장소상세</th>\n",
       "      <th>설치시도명</th>\n",
       "      <th>설치시군구명</th>\n",
       "      <th>설치시설구분</th>\n",
       "      <th>서비스제공사명</th>\n",
       "      <th>와이파이SSID</th>\n",
       "      <th>설치년월</th>\n",
       "      <th>소재지도로명주소</th>\n",
       "      <th>소재지지번주소</th>\n",
       "      <th>관리기관명</th>\n",
       "      <th>관리기관전화번호</th>\n",
       "      <th>위도</th>\n",
       "      <th>경도</th>\n",
       "      <th>데이터기준일자</th>\n",
       "    </tr>\n",
       "  </thead>\n",
       "  <tbody>\n",
       "    <tr>\n",
       "      <th>171</th>\n",
       "      <td>자마장어린이공원</td>\n",
       "      <td>공원중앙 CCTV기둥</td>\n",
       "      <td>서울특별시</td>\n",
       "      <td>광진구</td>\n",
       "      <td>기타</td>\n",
       "      <td>SKT</td>\n",
       "      <td>Public WiFi@Seoul</td>\n",
       "      <td>NaN</td>\n",
       "      <td>서울특별시 광진구 자양로13길 41</td>\n",
       "      <td>서울특별시 광진구 자양1동 630</td>\n",
       "      <td>서울특별시청</td>\n",
       "      <td>02-2133-2864</td>\n",
       "      <td>37.534289</td>\n",
       "      <td>127.073407</td>\n",
       "      <td>2016-06-08</td>\n",
       "    </tr>\n",
       "    <tr>\n",
       "      <th>172</th>\n",
       "      <td>가중나무어린이공원</td>\n",
       "      <td>공원입구우측 CCTV기둥</td>\n",
       "      <td>서울특별시</td>\n",
       "      <td>광진구</td>\n",
       "      <td>기타</td>\n",
       "      <td>SKT</td>\n",
       "      <td>Public WiFi@Seoul</td>\n",
       "      <td>NaN</td>\n",
       "      <td>서울특별시 광진구 동일로28길 16</td>\n",
       "      <td>서울특별시 광진구 화양동 32-1</td>\n",
       "      <td>서울특별시청</td>\n",
       "      <td>02-2133-2864</td>\n",
       "      <td>37.546334</td>\n",
       "      <td>127.059095</td>\n",
       "      <td>2016-06-08</td>\n",
       "    </tr>\n",
       "    <tr>\n",
       "      <th>173</th>\n",
       "      <td>강변역</td>\n",
       "      <td>광나루로56길 85 구의어린이공원 입구 CCTV(테크노마트 방향)</td>\n",
       "      <td>서울특별시</td>\n",
       "      <td>광진구</td>\n",
       "      <td>교통시설</td>\n",
       "      <td>LGU+</td>\n",
       "      <td>Public WiFi@Seoul</td>\n",
       "      <td>NaN</td>\n",
       "      <td>서울특별시 광진구 광나루로56길 85</td>\n",
       "      <td>서울특별시 광진구 구의동 546-4</td>\n",
       "      <td>서울특별시청</td>\n",
       "      <td>02-2133-2864</td>\n",
       "      <td>37.537067</td>\n",
       "      <td>127.093901</td>\n",
       "      <td>2016-06-08</td>\n",
       "    </tr>\n",
       "    <tr>\n",
       "      <th>174</th>\n",
       "      <td>강변역</td>\n",
       "      <td>광나루로56길 85 구의어린이공원 입구 CCTV(세양아파트 방향)</td>\n",
       "      <td>서울특별시</td>\n",
       "      <td>광진구</td>\n",
       "      <td>교통시설</td>\n",
       "      <td>LGU+</td>\n",
       "      <td>Public WiFi@Seoul</td>\n",
       "      <td>NaN</td>\n",
       "      <td>서울특별시 광진구 구의강변로 84</td>\n",
       "      <td>서울특별시 광진구 구의동 658</td>\n",
       "      <td>서울특별시청</td>\n",
       "      <td>02-2133-2864</td>\n",
       "      <td>37.537545</td>\n",
       "      <td>127.084990</td>\n",
       "      <td>2016-06-08</td>\n",
       "    </tr>\n",
       "    <tr>\n",
       "      <th>175</th>\n",
       "      <td>자양건강센터</td>\n",
       "      <td>동일로18길 80 자양건강센터 내부</td>\n",
       "      <td>서울특별시</td>\n",
       "      <td>광진구</td>\n",
       "      <td>서민·복지시설</td>\n",
       "      <td>LGU+</td>\n",
       "      <td>Public WiFi FREE</td>\n",
       "      <td>NaN</td>\n",
       "      <td>서울특별시 광진구 동일로18길 80</td>\n",
       "      <td>서울특별시 광진구 자양동 4-8</td>\n",
       "      <td>미래창조과학부</td>\n",
       "      <td>02-2110-1943</td>\n",
       "      <td>37.538586</td>\n",
       "      <td>127.067083</td>\n",
       "      <td>2016-06-08</td>\n",
       "    </tr>\n",
       "  </tbody>\n",
       "</table>\n",
       "</div>"
      ],
      "text/plain": [
       "         설치장소명                                설치장소상세  설치시도명 설치시군구명   설치시설구분  \\\n",
       "171   자마장어린이공원                           공원중앙 CCTV기둥  서울특별시    광진구       기타   \n",
       "172  가중나무어린이공원                         공원입구우측 CCTV기둥  서울특별시    광진구       기타   \n",
       "173        강변역  광나루로56길 85 구의어린이공원 입구 CCTV(테크노마트 방향)  서울특별시    광진구     교통시설   \n",
       "174        강변역  광나루로56길 85 구의어린이공원 입구 CCTV(세양아파트 방향)  서울특별시    광진구     교통시설   \n",
       "175     자양건강센터                   동일로18길 80 자양건강센터 내부  서울특별시    광진구  서민·복지시설   \n",
       "\n",
       "    서비스제공사명           와이파이SSID  설치년월              소재지도로명주소  \\\n",
       "171     SKT  Public WiFi@Seoul   NaN   서울특별시 광진구 자양로13길 41   \n",
       "172     SKT  Public WiFi@Seoul   NaN   서울특별시 광진구 동일로28길 16   \n",
       "173    LGU+  Public WiFi@Seoul   NaN  서울특별시 광진구 광나루로56길 85   \n",
       "174    LGU+  Public WiFi@Seoul   NaN    서울특별시 광진구 구의강변로 84   \n",
       "175    LGU+   Public WiFi FREE   NaN   서울특별시 광진구 동일로18길 80   \n",
       "\n",
       "                 소재지지번주소    관리기관명      관리기관전화번호         위도          경도  \\\n",
       "171   서울특별시 광진구 자양1동 630   서울특별시청  02-2133-2864  37.534289  127.073407   \n",
       "172   서울특별시 광진구 화양동 32-1   서울특별시청  02-2133-2864  37.546334  127.059095   \n",
       "173  서울특별시 광진구 구의동 546-4   서울특별시청  02-2133-2864  37.537067  127.093901   \n",
       "174    서울특별시 광진구 구의동 658   서울특별시청  02-2133-2864  37.537545  127.084990   \n",
       "175    서울특별시 광진구 자양동 4-8  미래창조과학부  02-2110-1943  37.538586  127.067083   \n",
       "\n",
       "        데이터기준일자  \n",
       "171  2016-06-08  \n",
       "172  2016-06-08  \n",
       "173  2016-06-08  \n",
       "174  2016-06-08  \n",
       "175  2016-06-08  "
      ]
     },
     "execution_count": 8,
     "metadata": {},
     "output_type": "execute_result"
    }
   ],
   "source": [
    "data.tail()"
   ]
  },
  {
   "cell_type": "markdown",
   "metadata": {},
   "source": [
    "## Q: www.data.go.kr 을 이용해 CSV데이터를 다운 받은 후 변형 해 데이터를 Loading해보세요."
   ]
  },
  {
   "cell_type": "code",
   "execution_count": null,
   "metadata": {
    "collapsed": true
   },
   "outputs": [],
   "source": []
  },
  {
   "cell_type": "code",
   "execution_count": null,
   "metadata": {
    "collapsed": true
   },
   "outputs": [],
   "source": []
  }
 ],
 "metadata": {
  "kernelspec": {
   "display_name": "Python [subject]",
   "language": "python",
   "name": "Python [subject]"
  },
  "language_info": {
   "codemirror_mode": {
    "name": "ipython",
    "version": 3
   },
   "file_extension": ".py",
   "mimetype": "text/x-python",
   "name": "python",
   "nbconvert_exporter": "python",
   "pygments_lexer": "ipython3",
   "version": "3.5.3"
  }
 },
 "nbformat": 4,
 "nbformat_minor": 2
}
