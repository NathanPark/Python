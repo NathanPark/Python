{
 "cells": [
  {
   "cell_type": "markdown",
   "metadata": {},
   "source": [
    "### 데이터 다운로드 : http://www.airkorea.or.kr/last_amb_hour_data"
   ]
  },
  {
   "cell_type": "markdown",
   "metadata": {},
   "source": [
    "### 1. 데이터 수집\n",
    "#### 2005년~2014년 데이터를 받음"
   ]
  },
  {
   "cell_type": "markdown",
   "metadata": {},
   "source": [
    "<img src=\"images/airkorea.jpg\">"
   ]
  },
  {
   "cell_type": "markdown",
   "metadata": {},
   "source": [
    "다운받은 데이터 리스트 예시"
   ]
  },
  {
   "cell_type": "markdown",
   "metadata": {},
   "source": [
    "<img src=\"images/data_list.jpg\">"
   ]
  },
  {
   "cell_type": "markdown",
   "metadata": {},
   "source": [
    "전체 데이터를 받아 한곳에 저장하면 아래와 같음"
   ]
  },
  {
   "cell_type": "markdown",
   "metadata": {},
   "source": [
    "<img src=\"images/total_data_list.jpg\">"
   ]
  },
  {
   "cell_type": "markdown",
   "metadata": {},
   "source": [
    "### 2. 데이터 전처리"
   ]
  },
  {
   "cell_type": "code",
   "execution_count": 1,
   "metadata": {
    "collapsed": false
   },
   "outputs": [],
   "source": [
    "import pandas as pd\n",
    "import numpy as np\n",
    "\n",
    "# 1개의 데이터를 전처리 File Load\n",
    "sample_data=pd.read_csv(\"find_dust/2005년01분기.csv\", encoding='utf-8')"
   ]
  },
  {
   "cell_type": "code",
   "execution_count": 2,
   "metadata": {
    "collapsed": false
   },
   "outputs": [
    {
     "data": {
      "text/html": [
       "<div>\n",
       "<table border=\"1\" class=\"dataframe\">\n",
       "  <thead>\n",
       "    <tr style=\"text-align: right;\">\n",
       "      <th></th>\n",
       "      <th>지역</th>\n",
       "      <th>측정소명</th>\n",
       "      <th>측정소코드</th>\n",
       "      <th>측정일시</th>\n",
       "      <th>SO2</th>\n",
       "      <th>CO</th>\n",
       "      <th>O3</th>\n",
       "      <th>NO2</th>\n",
       "      <th>PM10</th>\n",
       "      <th>주소</th>\n",
       "    </tr>\n",
       "  </thead>\n",
       "  <tbody>\n",
       "    <tr>\n",
       "      <th>0</th>\n",
       "      <td>서울</td>\n",
       "      <td>종로구</td>\n",
       "      <td>111123</td>\n",
       "      <td>2005020721</td>\n",
       "      <td>-999.0</td>\n",
       "      <td>-999.0</td>\n",
       "      <td>-999.0</td>\n",
       "      <td>-999.0</td>\n",
       "      <td>-999</td>\n",
       "      <td>서울 종로구 효제동</td>\n",
       "    </tr>\n",
       "    <tr>\n",
       "      <th>1</th>\n",
       "      <td>서울</td>\n",
       "      <td>종로구</td>\n",
       "      <td>111123</td>\n",
       "      <td>2005020723</td>\n",
       "      <td>-999.0</td>\n",
       "      <td>-999.0</td>\n",
       "      <td>-999.0</td>\n",
       "      <td>-999.0</td>\n",
       "      <td>-999</td>\n",
       "      <td>서울 종로구 효제동</td>\n",
       "    </tr>\n",
       "    <tr>\n",
       "      <th>2</th>\n",
       "      <td>서울</td>\n",
       "      <td>종로구</td>\n",
       "      <td>111123</td>\n",
       "      <td>2005020724</td>\n",
       "      <td>-999.0</td>\n",
       "      <td>-999.0</td>\n",
       "      <td>-999.0</td>\n",
       "      <td>-999.0</td>\n",
       "      <td>-999</td>\n",
       "      <td>서울 종로구 효제동</td>\n",
       "    </tr>\n",
       "    <tr>\n",
       "      <th>3</th>\n",
       "      <td>서울</td>\n",
       "      <td>종로구</td>\n",
       "      <td>111123</td>\n",
       "      <td>2005020801</td>\n",
       "      <td>-999.0</td>\n",
       "      <td>-999.0</td>\n",
       "      <td>-999.0</td>\n",
       "      <td>-999.0</td>\n",
       "      <td>-999</td>\n",
       "      <td>서울 종로구 효제동</td>\n",
       "    </tr>\n",
       "    <tr>\n",
       "      <th>4</th>\n",
       "      <td>서울</td>\n",
       "      <td>종로구</td>\n",
       "      <td>111123</td>\n",
       "      <td>2005020802</td>\n",
       "      <td>-999.0</td>\n",
       "      <td>-999.0</td>\n",
       "      <td>-999.0</td>\n",
       "      <td>-999.0</td>\n",
       "      <td>-999</td>\n",
       "      <td>서울 종로구 효제동</td>\n",
       "    </tr>\n",
       "  </tbody>\n",
       "</table>\n",
       "</div>"
      ],
      "text/plain": [
       "   지역 측정소명   측정소코드        측정일시    SO2     CO     O3    NO2  PM10          주소\n",
       "0  서울  종로구  111123  2005020721 -999.0 -999.0 -999.0 -999.0  -999  서울 종로구 효제동\n",
       "1  서울  종로구  111123  2005020723 -999.0 -999.0 -999.0 -999.0  -999  서울 종로구 효제동\n",
       "2  서울  종로구  111123  2005020724 -999.0 -999.0 -999.0 -999.0  -999  서울 종로구 효제동\n",
       "3  서울  종로구  111123  2005020801 -999.0 -999.0 -999.0 -999.0  -999  서울 종로구 효제동\n",
       "4  서울  종로구  111123  2005020802 -999.0 -999.0 -999.0 -999.0  -999  서울 종로구 효제동"
      ]
     },
     "execution_count": 2,
     "metadata": {},
     "output_type": "execute_result"
    }
   ],
   "source": [
    "# 데이터 sample 확인\n",
    "sample_data.head()"
   ]
  },
  {
   "cell_type": "code",
   "execution_count": 3,
   "metadata": {
    "collapsed": false
   },
   "outputs": [
    {
     "data": {
      "text/html": [
       "<div>\n",
       "<table border=\"1\" class=\"dataframe\">\n",
       "  <thead>\n",
       "    <tr style=\"text-align: right;\">\n",
       "      <th></th>\n",
       "      <th>지역</th>\n",
       "      <th>측정소명</th>\n",
       "      <th>측정소코드</th>\n",
       "      <th>측정일시</th>\n",
       "      <th>SO2</th>\n",
       "      <th>CO</th>\n",
       "      <th>O3</th>\n",
       "      <th>NO2</th>\n",
       "      <th>PM10</th>\n",
       "      <th>주소</th>\n",
       "    </tr>\n",
       "  </thead>\n",
       "  <tbody>\n",
       "    <tr>\n",
       "      <th>513571</th>\n",
       "      <td>인천 계양구</td>\n",
       "      <td>계양(폐쇄)</td>\n",
       "      <td>823661</td>\n",
       "      <td>2005030210</td>\n",
       "      <td>0.007</td>\n",
       "      <td>1.2</td>\n",
       "      <td>0.017</td>\n",
       "      <td>0.025</td>\n",
       "      <td>-999</td>\n",
       "      <td>인천 계양구 장기동</td>\n",
       "    </tr>\n",
       "    <tr>\n",
       "      <th>513572</th>\n",
       "      <td>인천 계양구</td>\n",
       "      <td>계양(폐쇄)</td>\n",
       "      <td>823661</td>\n",
       "      <td>2005030212</td>\n",
       "      <td>0.006</td>\n",
       "      <td>1.0</td>\n",
       "      <td>0.032</td>\n",
       "      <td>0.012</td>\n",
       "      <td>-999</td>\n",
       "      <td>인천 계양구 장기동</td>\n",
       "    </tr>\n",
       "    <tr>\n",
       "      <th>513573</th>\n",
       "      <td>인천 계양구</td>\n",
       "      <td>계양(폐쇄)</td>\n",
       "      <td>823661</td>\n",
       "      <td>2005030214</td>\n",
       "      <td>0.005</td>\n",
       "      <td>1.0</td>\n",
       "      <td>0.038</td>\n",
       "      <td>0.007</td>\n",
       "      <td>-999</td>\n",
       "      <td>인천 계양구 장기동</td>\n",
       "    </tr>\n",
       "    <tr>\n",
       "      <th>513574</th>\n",
       "      <td>인천 계양구</td>\n",
       "      <td>계양(폐쇄)</td>\n",
       "      <td>823661</td>\n",
       "      <td>2005030216</td>\n",
       "      <td>-999.000</td>\n",
       "      <td>-999.0</td>\n",
       "      <td>-999.000</td>\n",
       "      <td>-999.000</td>\n",
       "      <td>27</td>\n",
       "      <td>인천 계양구 장기동</td>\n",
       "    </tr>\n",
       "    <tr>\n",
       "      <th>513575</th>\n",
       "      <td>인천 계양구</td>\n",
       "      <td>계양(폐쇄)</td>\n",
       "      <td>823661</td>\n",
       "      <td>2005030218</td>\n",
       "      <td>0.006</td>\n",
       "      <td>0.8</td>\n",
       "      <td>0.037</td>\n",
       "      <td>0.011</td>\n",
       "      <td>29</td>\n",
       "      <td>인천 계양구 장기동</td>\n",
       "    </tr>\n",
       "  </tbody>\n",
       "</table>\n",
       "</div>"
      ],
      "text/plain": [
       "            지역    측정소명   측정소코드        측정일시      SO2     CO       O3      NO2  \\\n",
       "513571  인천 계양구  계양(폐쇄)  823661  2005030210    0.007    1.2    0.017    0.025   \n",
       "513572  인천 계양구  계양(폐쇄)  823661  2005030212    0.006    1.0    0.032    0.012   \n",
       "513573  인천 계양구  계양(폐쇄)  823661  2005030214    0.005    1.0    0.038    0.007   \n",
       "513574  인천 계양구  계양(폐쇄)  823661  2005030216 -999.000 -999.0 -999.000 -999.000   \n",
       "513575  인천 계양구  계양(폐쇄)  823661  2005030218    0.006    0.8    0.037    0.011   \n",
       "\n",
       "        PM10          주소  \n",
       "513571  -999  인천 계양구 장기동  \n",
       "513572  -999  인천 계양구 장기동  \n",
       "513573  -999  인천 계양구 장기동  \n",
       "513574    27  인천 계양구 장기동  \n",
       "513575    29  인천 계양구 장기동  "
      ]
     },
     "execution_count": 3,
     "metadata": {},
     "output_type": "execute_result"
    }
   ],
   "source": [
    "sample_data.tail()"
   ]
  },
  {
   "cell_type": "code",
   "execution_count": 4,
   "metadata": {
    "collapsed": false
   },
   "outputs": [
    {
     "data": {
      "text/plain": [
       "513576"
      ]
     },
     "execution_count": 4,
     "metadata": {},
     "output_type": "execute_result"
    }
   ],
   "source": [
    "len(sample_data)"
   ]
  },
  {
   "cell_type": "code",
   "execution_count": 5,
   "metadata": {
    "collapsed": false
   },
   "outputs": [],
   "source": [
    "# string형태로 데이터 변환\n",
    "sample_data['측정일시']=sample_data.측정일시.apply(str)\n",
    "\n",
    "# 데이터는 년월일시 단위의 데이터를 나타내므로 일별 데이터로 변형 함\n",
    "sample_data['측정일시']=sample_data.측정일시.str[:8]\n",
    "\n",
    "# 측정일시 %Y-%m-%d 형식으로 변경\n",
    "sample_data['측정일시']=pd.to_datetime(sample_data['측정일시'], format=\"%Y%m%d\")\n",
    "\n",
    "# lambda함수는 한번만 사용하고 사용되지 않는 함수를 뜻함\n",
    "sample_data['측정일시']=sample_data['측정일시'].apply(lambda x: x.strftime('%Y-%m-%d'))"
   ]
  },
  {
   "cell_type": "code",
   "execution_count": 6,
   "metadata": {
    "collapsed": true
   },
   "outputs": [],
   "source": [
    "# 음수값, NaN, null값 제거\n",
    "for i in range(4,len(sample_data.columns)-1):\n",
    "    sample_data=sample_data[sample_data[sample_data.columns[i]]>0]"
   ]
  },
  {
   "cell_type": "code",
   "execution_count": 7,
   "metadata": {
    "collapsed": true
   },
   "outputs": [],
   "source": [
    "# 분석하는데 필요없는 데이터 삭제\n",
    "del sample_data['주소']\n",
    "del sample_data['측정소명']\n",
    "del sample_data['측정소코드']"
   ]
  },
  {
   "cell_type": "code",
   "execution_count": 8,
   "metadata": {
    "collapsed": false
   },
   "outputs": [],
   "source": [
    "sample_data.columns =['지역','측정일시','SO2','CO','O3','NO2','PM10']"
   ]
  },
  {
   "cell_type": "code",
   "execution_count": 9,
   "metadata": {
    "collapsed": false
   },
   "outputs": [],
   "source": [
    "sample_data=np.round(sample_data.groupby(['지역','측정일시'])['SO2','CO','O3','NO2','PM10'].mean(),3)"
   ]
  },
  {
   "cell_type": "code",
   "execution_count": 10,
   "metadata": {
    "collapsed": false,
    "scrolled": true
   },
   "outputs": [
    {
     "data": {
      "text/html": [
       "<div>\n",
       "<table border=\"1\" class=\"dataframe\">\n",
       "  <thead>\n",
       "    <tr style=\"text-align: right;\">\n",
       "      <th></th>\n",
       "      <th>지역</th>\n",
       "      <th>측정일시</th>\n",
       "      <th>SO2</th>\n",
       "      <th>CO</th>\n",
       "      <th>O3</th>\n",
       "      <th>NO2</th>\n",
       "      <th>PM10</th>\n",
       "    </tr>\n",
       "  </thead>\n",
       "  <tbody>\n",
       "    <tr>\n",
       "      <th>0</th>\n",
       "      <td>강원 강릉시</td>\n",
       "      <td>2005-01-01</td>\n",
       "      <td>0.007</td>\n",
       "      <td>0.396</td>\n",
       "      <td>0.031</td>\n",
       "      <td>0.003</td>\n",
       "      <td>37.083</td>\n",
       "    </tr>\n",
       "    <tr>\n",
       "      <th>1</th>\n",
       "      <td>강원 강릉시</td>\n",
       "      <td>2005-01-02</td>\n",
       "      <td>0.005</td>\n",
       "      <td>0.300</td>\n",
       "      <td>0.041</td>\n",
       "      <td>0.003</td>\n",
       "      <td>29.286</td>\n",
       "    </tr>\n",
       "    <tr>\n",
       "      <th>2</th>\n",
       "      <td>강원 강릉시</td>\n",
       "      <td>2005-01-04</td>\n",
       "      <td>0.006</td>\n",
       "      <td>0.475</td>\n",
       "      <td>0.020</td>\n",
       "      <td>0.012</td>\n",
       "      <td>50.750</td>\n",
       "    </tr>\n",
       "    <tr>\n",
       "      <th>3</th>\n",
       "      <td>강원 강릉시</td>\n",
       "      <td>2005-01-05</td>\n",
       "      <td>0.006</td>\n",
       "      <td>0.517</td>\n",
       "      <td>0.021</td>\n",
       "      <td>0.015</td>\n",
       "      <td>41.083</td>\n",
       "    </tr>\n",
       "    <tr>\n",
       "      <th>4</th>\n",
       "      <td>강원 강릉시</td>\n",
       "      <td>2005-01-06</td>\n",
       "      <td>0.008</td>\n",
       "      <td>0.425</td>\n",
       "      <td>0.023</td>\n",
       "      <td>0.013</td>\n",
       "      <td>32.500</td>\n",
       "    </tr>\n",
       "  </tbody>\n",
       "</table>\n",
       "</div>"
      ],
      "text/plain": [
       "       지역        측정일시    SO2     CO     O3    NO2    PM10\n",
       "0  강원 강릉시  2005-01-01  0.007  0.396  0.031  0.003  37.083\n",
       "1  강원 강릉시  2005-01-02  0.005  0.300  0.041  0.003  29.286\n",
       "2  강원 강릉시  2005-01-04  0.006  0.475  0.020  0.012  50.750\n",
       "3  강원 강릉시  2005-01-05  0.006  0.517  0.021  0.015  41.083\n",
       "4  강원 강릉시  2005-01-06  0.008  0.425  0.023  0.013  32.500"
      ]
     },
     "execution_count": 10,
     "metadata": {},
     "output_type": "execute_result"
    }
   ],
   "source": [
    "sample_data=sample_data.reset_index()\n",
    "sample_data.head()"
   ]
  },
  {
   "cell_type": "code",
   "execution_count": 11,
   "metadata": {
    "collapsed": false
   },
   "outputs": [],
   "source": [
    "sample_data.지역=sample_data.지역.astype(str)\n",
    "sample_data.지역=sample_data.지역.str[0:2]"
   ]
  },
  {
   "cell_type": "code",
   "execution_count": 12,
   "metadata": {
    "collapsed": false
   },
   "outputs": [
    {
     "data": {
      "text/html": [
       "<div>\n",
       "<table border=\"1\" class=\"dataframe\">\n",
       "  <thead>\n",
       "    <tr style=\"text-align: right;\">\n",
       "      <th></th>\n",
       "      <th>지역</th>\n",
       "      <th>측정일시</th>\n",
       "      <th>SO2</th>\n",
       "      <th>CO</th>\n",
       "      <th>O3</th>\n",
       "      <th>NO2</th>\n",
       "      <th>PM10</th>\n",
       "    </tr>\n",
       "  </thead>\n",
       "  <tbody>\n",
       "    <tr>\n",
       "      <th>0</th>\n",
       "      <td>강원</td>\n",
       "      <td>2005-01-01</td>\n",
       "      <td>0.007</td>\n",
       "      <td>0.396</td>\n",
       "      <td>0.031</td>\n",
       "      <td>0.003</td>\n",
       "      <td>37.083</td>\n",
       "    </tr>\n",
       "    <tr>\n",
       "      <th>1</th>\n",
       "      <td>강원</td>\n",
       "      <td>2005-01-02</td>\n",
       "      <td>0.005</td>\n",
       "      <td>0.300</td>\n",
       "      <td>0.041</td>\n",
       "      <td>0.003</td>\n",
       "      <td>29.286</td>\n",
       "    </tr>\n",
       "    <tr>\n",
       "      <th>2</th>\n",
       "      <td>강원</td>\n",
       "      <td>2005-01-04</td>\n",
       "      <td>0.006</td>\n",
       "      <td>0.475</td>\n",
       "      <td>0.020</td>\n",
       "      <td>0.012</td>\n",
       "      <td>50.750</td>\n",
       "    </tr>\n",
       "    <tr>\n",
       "      <th>3</th>\n",
       "      <td>강원</td>\n",
       "      <td>2005-01-05</td>\n",
       "      <td>0.006</td>\n",
       "      <td>0.517</td>\n",
       "      <td>0.021</td>\n",
       "      <td>0.015</td>\n",
       "      <td>41.083</td>\n",
       "    </tr>\n",
       "    <tr>\n",
       "      <th>4</th>\n",
       "      <td>강원</td>\n",
       "      <td>2005-01-06</td>\n",
       "      <td>0.008</td>\n",
       "      <td>0.425</td>\n",
       "      <td>0.023</td>\n",
       "      <td>0.013</td>\n",
       "      <td>32.500</td>\n",
       "    </tr>\n",
       "  </tbody>\n",
       "</table>\n",
       "</div>"
      ],
      "text/plain": [
       "   지역        측정일시    SO2     CO     O3    NO2    PM10\n",
       "0  강원  2005-01-01  0.007  0.396  0.031  0.003  37.083\n",
       "1  강원  2005-01-02  0.005  0.300  0.041  0.003  29.286\n",
       "2  강원  2005-01-04  0.006  0.475  0.020  0.012  50.750\n",
       "3  강원  2005-01-05  0.006  0.517  0.021  0.015  41.083\n",
       "4  강원  2005-01-06  0.008  0.425  0.023  0.013  32.500"
      ]
     },
     "execution_count": 12,
     "metadata": {},
     "output_type": "execute_result"
    }
   ],
   "source": [
    "sample_data.head()"
   ]
  },
  {
   "cell_type": "code",
   "execution_count": 13,
   "metadata": {
    "collapsed": false
   },
   "outputs": [],
   "source": [
    "sample_data=np.round(sample_data.groupby(['지역','측정일시'])['SO2','CO','O3','NO2','PM10'].mean(),3)"
   ]
  },
  {
   "cell_type": "code",
   "execution_count": 14,
   "metadata": {
    "collapsed": false
   },
   "outputs": [
    {
     "data": {
      "text/html": [
       "<div>\n",
       "<table border=\"1\" class=\"dataframe\">\n",
       "  <thead>\n",
       "    <tr style=\"text-align: right;\">\n",
       "      <th></th>\n",
       "      <th></th>\n",
       "      <th>SO2</th>\n",
       "      <th>CO</th>\n",
       "      <th>O3</th>\n",
       "      <th>NO2</th>\n",
       "      <th>PM10</th>\n",
       "    </tr>\n",
       "    <tr>\n",
       "      <th>지역</th>\n",
       "      <th>측정일시</th>\n",
       "      <th></th>\n",
       "      <th></th>\n",
       "      <th></th>\n",
       "      <th></th>\n",
       "      <th></th>\n",
       "    </tr>\n",
       "  </thead>\n",
       "  <tbody>\n",
       "    <tr>\n",
       "      <th rowspan=\"5\" valign=\"top\">강원</th>\n",
       "      <th>2005-01-01</th>\n",
       "      <td>0.005</td>\n",
       "      <td>0.636</td>\n",
       "      <td>0.023</td>\n",
       "      <td>0.011</td>\n",
       "      <td>38.595</td>\n",
       "    </tr>\n",
       "    <tr>\n",
       "      <th>2005-01-02</th>\n",
       "      <td>0.006</td>\n",
       "      <td>0.547</td>\n",
       "      <td>0.028</td>\n",
       "      <td>0.009</td>\n",
       "      <td>35.426</td>\n",
       "    </tr>\n",
       "    <tr>\n",
       "      <th>2005-01-03</th>\n",
       "      <td>0.006</td>\n",
       "      <td>0.585</td>\n",
       "      <td>0.032</td>\n",
       "      <td>0.009</td>\n",
       "      <td>43.633</td>\n",
       "    </tr>\n",
       "    <tr>\n",
       "      <th>2005-01-04</th>\n",
       "      <td>0.006</td>\n",
       "      <td>0.481</td>\n",
       "      <td>0.028</td>\n",
       "      <td>0.006</td>\n",
       "      <td>56.589</td>\n",
       "    </tr>\n",
       "    <tr>\n",
       "      <th>2005-01-05</th>\n",
       "      <td>0.005</td>\n",
       "      <td>0.807</td>\n",
       "      <td>0.019</td>\n",
       "      <td>0.016</td>\n",
       "      <td>47.022</td>\n",
       "    </tr>\n",
       "  </tbody>\n",
       "</table>\n",
       "</div>"
      ],
      "text/plain": [
       "                 SO2     CO     O3    NO2    PM10\n",
       "지역 측정일시                                          \n",
       "강원 2005-01-01  0.005  0.636  0.023  0.011  38.595\n",
       "   2005-01-02  0.006  0.547  0.028  0.009  35.426\n",
       "   2005-01-03  0.006  0.585  0.032  0.009  43.633\n",
       "   2005-01-04  0.006  0.481  0.028  0.006  56.589\n",
       "   2005-01-05  0.005  0.807  0.019  0.016  47.022"
      ]
     },
     "execution_count": 14,
     "metadata": {},
     "output_type": "execute_result"
    }
   ],
   "source": [
    "sample_data.head()"
   ]
  },
  {
   "cell_type": "markdown",
   "metadata": {},
   "source": [
    "### 전체 데이터를 사용해 전처리"
   ]
  },
  {
   "cell_type": "code",
   "execution_count": 15,
   "metadata": {
    "collapsed": false
   },
   "outputs": [
    {
     "name": "stdout",
     "output_type": "stream",
     "text": [
      "data merge & preprocessing START\n",
      "2005년01분기.csv\n",
      "2005년02분기.csv\n",
      "2005년03분기.csv\n",
      "2005년04분기.csv\n",
      "2006년01분기.csv\n",
      "2006년02분기.csv\n",
      "2006년03분기.csv\n",
      "2006년04분기.csv\n",
      "2007년01분기.csv\n",
      "2007년02분기.csv\n",
      "2007년03분기.csv\n",
      "2007년04분기.csv\n",
      "2008년01분기.csv\n",
      "2008년02분기.csv\n",
      "2008년03분기.csv\n",
      "2008년04분기.csv\n",
      "2009년01분기.csv\n",
      "2009년02분기.csv\n",
      "2009년03분기.csv\n",
      "2009년04분기.csv\n",
      "2010년01분기.csv\n",
      "2010년02분기.csv\n",
      "2010년03분기.csv\n",
      "2010년04분기.csv\n",
      "2011년01분기.csv\n",
      "2011년02분기.csv\n",
      "2011년03분기.csv\n",
      "2011년04분기.csv\n",
      "2012년01분기.csv\n",
      "2012년02분기.csv\n",
      "2012년03분기.csv\n",
      "2012년04분기.csv\n",
      "2013년01분기.csv\n",
      "2013년02분기.csv\n",
      "2013년03분기.csv\n",
      "2013년04분기.csv\n",
      "2014년01분기.csv\n",
      "2014년02분기.csv\n",
      "2014년03분기.csv\n",
      "2014년04분기.csv\n",
      "data merge & preprocessing \n",
      "277.0 초\n"
     ]
    }
   ],
   "source": [
    "import pandas as pd\n",
    "import numpy as np\n",
    "import os\n",
    "import timeit\n",
    "\n",
    "# 데이터 전처리 시간이 얼마나 걸리는지에 대해 테스트하기 위한 timeit함수\n",
    "print(\"data merge & preprocessing START\")\n",
    "start = timeit.default_timer()\n",
    "\n",
    "# 전체 결과를 저장하기 위해 DataFrame을 초기화 하여 result변수에 저장\n",
    "result=pd.DataFrame()\n",
    "\n",
    "# os.listdir은 해당 위치의 파일들을 전부 읽어 오는 역할을 함\n",
    "for filename in os.listdir(\"find_dust/\"):\n",
    "    print(filename)\n",
    "    #하나씩 데이터를 읽어 데이터를 전처리\n",
    "    total_data=pd.read_csv('find_dust/%s'%filename, encoding='utf-8')\n",
    "    \n",
    "    # 측정일시 string형식 변환 및 년월일시간형식의 데이터를 년월일데이터로 변환함\n",
    "    total_data['측정일시']=total_data.측정일시.apply(str)\n",
    "    total_data['측정일시']=total_data.측정일시.str[:8]\n",
    "\n",
    "    # 측정일시 %Y-%m-%d 형식으로 변경\n",
    "    total_data['측정일시']=pd.to_datetime(total_data['측정일시'], format=\"%Y%m%d\")\n",
    "    \n",
    "    # strftime으로 바꿈\n",
    "    # lambda함수는 한번만 사용하고 사용되지 않는 함수를 뜻함\n",
    "    total_data['측정일시']=total_data['측정일시'].apply(lambda x: x.strftime('%Y-%m-%d'))\n",
    "\n",
    "    # 전체 지역을 강원, 서울, 경기 등의 데이터만 갖고오기위해 str을 써서 문자 앞의 두개만 갖고옴\n",
    "    total_data.지역=total_data.지역.str[0:2]\n",
    "\n",
    "    # 데이터의 음수 값, NaN, null값 제거\n",
    "    for i in range(4,len(total_data.columns)-1):\n",
    "            total_data=total_data[total_data[total_data.columns[i]]>0]\n",
    "\n",
    "    # 불필요한 칼럼 제거\n",
    "    del total_data['주소']\n",
    "    del total_data['측정소명']\n",
    "    del total_data['측정소코드']\n",
    "        \n",
    "    # 지역과 측정일시별로 group by 측정일시의 경우 시간단위로 되어있음\n",
    "    total_data.columns=['지역','측정일시','SO2','CO','O3','NO2','PM10']\n",
    "    total_data=np.round(total_data.groupby(['지역','측정일시'])['SO2','CO','O3','NO2','PM10'].mean(),3)      \n",
    "    \n",
    "    # 앞에 초기화한 result DataFrame에 전처리한 데이터들을 저장\n",
    "    result=result.append(total_data)\n",
    "    \n",
    "print(\"data merge & preprocessing \")\n",
    "end = timeit.default_timer()\n",
    "print(np.round(end-start),\"초\")"
   ]
  },
  {
   "cell_type": "code",
   "execution_count": 16,
   "metadata": {
    "collapsed": false
   },
   "outputs": [
    {
     "data": {
      "text/plain": [
       "58377"
      ]
     },
     "execution_count": 16,
     "metadata": {},
     "output_type": "execute_result"
    }
   ],
   "source": [
    "#전처리 후의 데이터의 크기를 확인\n",
    "len(result)"
   ]
  },
  {
   "cell_type": "code",
   "execution_count": 17,
   "metadata": {
    "collapsed": false
   },
   "outputs": [],
   "source": [
    "result=result.reset_index()"
   ]
  },
  {
   "cell_type": "code",
   "execution_count": 18,
   "metadata": {
    "collapsed": false
   },
   "outputs": [
    {
     "data": {
      "text/plain": [
       "<matplotlib.axes._subplots.AxesSubplot at 0x19703438>"
      ]
     },
     "execution_count": 18,
     "metadata": {},
     "output_type": "execute_result"
    },
    {
     "data": {
      "image/png": "[encoded data removed]",
      "text/plain": [
       "<matplotlib.figure.Figure at 0x196eb978>"
      ]
     },
     "metadata": {},
     "output_type": "display_data"
    }
   ],
   "source": [
    "import matplotlib\n",
    "from matplotlib import font_manager\n",
    "font_name = matplotlib.font_manager.FontProperties \\\n",
    "            (fname='C:/Windows/Fonts/malgun.ttf').get_name()\n",
    "# 한글폰트(맑은고딕)를 갖고오는 부분    \n",
    "\n",
    "matplotlib.rc('font', family=font_name)\n",
    "\n",
    "%matplotlib inline\n",
    "\n",
    "result_seoul=result[result.지역.isin(['서울'])]\n",
    "result_seoul=result_seoul.set_index(['측정일시'])\n",
    "result_seoul.PM10.plot(figsize=(16,10), legend=True, grid=True, title=\"2005년~2014년까지의 서울지역의 미세먼지\")"
   ]
  },
  {
   "cell_type": "code",
   "execution_count": 19,
   "metadata": {
    "collapsed": false
   },
   "outputs": [
    {
     "data": {
      "text/plain": [
       "array([[<matplotlib.axes._subplots.AxesSubplot object at 0x0000000018557D68>,\n",
       "        <matplotlib.axes._subplots.AxesSubplot object at 0x000000000E661748>],\n",
       "       [<matplotlib.axes._subplots.AxesSubplot object at 0x000000000E3FF358>,\n",
       "        <matplotlib.axes._subplots.AxesSubplot object at 0x000000000E608B38>],\n",
       "       [<matplotlib.axes._subplots.AxesSubplot object at 0x000000000DD57550>,\n",
       "        <matplotlib.axes._subplots.AxesSubplot object at 0x000000000AB9D6A0>]], dtype=object)"
      ]
     },
     "execution_count": 19,
     "metadata": {},
     "output_type": "execute_result"
    },
    {
     "data": {
      "image/png": "[encoded data removed]",
      "text/plain": [
       "<matplotlib.figure.Figure at 0x8f3ef28>"
      ]
     },
     "metadata": {},
     "output_type": "display_data"
    }
   ],
   "source": [
    "result_seoul.hist(figsize=(16,10))"
   ]
  },
  {
   "cell_type": "markdown",
   "metadata": {},
   "source": [
    "### 위에 나타낸 것은 일별데이터 입니다.\n",
    "\n",
    "### Q: 그럼, 경기도의 2005년~2014년까지의 월별 데이터를 이용해 히스토그램, 시계열 시각화를 나타내시오."
   ]
  },
  {
   "cell_type": "markdown",
   "metadata": {},
   "source": [
    "### 계절별 데이터 시각화"
   ]
  },
  {
   "cell_type": "code",
   "execution_count": 20,
   "metadata": {
    "collapsed": false
   },
   "outputs": [],
   "source": [
    "result_seoul=result_seoul.reset_index()\n",
    "\n",
    "# 계절을 표시하기위해 월별로 계절을 표시\n",
    "date_dict = {\"01\":\"겨울\",\"02\":\"겨울\",\"03\":\"봄\", \"04\":\"봄\", \"05\":\"봄\", \"06\":\"여름\", \"07\":\"여름\", \"08\":\"여름\",\\\n",
    "             \"09\":\"가을\",\"10\":\"가을\",\"11\":\"가을\",\"12\":\"겨울\"}\n",
    "\n",
    "# 측정일시의 월을 mapping을 통해 Season에 계절을 표시함\n",
    "result_seoul['Season']=result_seoul.측정일시.str[5:7].map(date_dict)"
   ]
  },
  {
   "cell_type": "code",
   "execution_count": 21,
   "metadata": {
    "collapsed": false
   },
   "outputs": [],
   "source": [
    "# 각 년을 표시해서 년, 계절을 표시\n",
    "result_seoul['Year']=result_seoul.측정일시.str[0:4]"
   ]
  },
  {
   "cell_type": "code",
   "execution_count": 22,
   "metadata": {
    "collapsed": false
   },
   "outputs": [
    {
     "data": {
      "text/html": [
       "<div>\n",
       "<table border=\"1\" class=\"dataframe\">\n",
       "  <thead>\n",
       "    <tr style=\"text-align: right;\">\n",
       "      <th>Year</th>\n",
       "      <th>2005</th>\n",
       "      <th>2006</th>\n",
       "      <th>2007</th>\n",
       "      <th>2008</th>\n",
       "      <th>2009</th>\n",
       "      <th>2010</th>\n",
       "      <th>2011</th>\n",
       "      <th>2012</th>\n",
       "      <th>2013</th>\n",
       "      <th>2014</th>\n",
       "    </tr>\n",
       "    <tr>\n",
       "      <th>Season</th>\n",
       "      <th></th>\n",
       "      <th></th>\n",
       "      <th></th>\n",
       "      <th></th>\n",
       "      <th></th>\n",
       "      <th></th>\n",
       "      <th></th>\n",
       "      <th></th>\n",
       "      <th></th>\n",
       "      <th></th>\n",
       "    </tr>\n",
       "  </thead>\n",
       "  <tbody>\n",
       "    <tr>\n",
       "      <th>겨울</th>\n",
       "      <td>53.66</td>\n",
       "      <td>64.51</td>\n",
       "      <td>74.71</td>\n",
       "      <td>62.69</td>\n",
       "      <td>70.42</td>\n",
       "      <td>59.14</td>\n",
       "      <td>57.14</td>\n",
       "      <td>52.75</td>\n",
       "      <td>57.95</td>\n",
       "      <td>54.93</td>\n",
       "    </tr>\n",
       "    <tr>\n",
       "      <th>봄</th>\n",
       "      <td>70.39</td>\n",
       "      <td>82.82</td>\n",
       "      <td>79.24</td>\n",
       "      <td>69.52</td>\n",
       "      <td>62.46</td>\n",
       "      <td>57.01</td>\n",
       "      <td>67.84</td>\n",
       "      <td>52.02</td>\n",
       "      <td>57.45</td>\n",
       "      <td>62.84</td>\n",
       "    </tr>\n",
       "    <tr>\n",
       "      <th>여름</th>\n",
       "      <td>61.57</td>\n",
       "      <td>46.80</td>\n",
       "      <td>45.91</td>\n",
       "      <td>39.92</td>\n",
       "      <td>41.82</td>\n",
       "      <td>40.39</td>\n",
       "      <td>35.42</td>\n",
       "      <td>31.87</td>\n",
       "      <td>39.01</td>\n",
       "      <td>37.81</td>\n",
       "    </tr>\n",
       "    <tr>\n",
       "      <th>가을</th>\n",
       "      <td>54.63</td>\n",
       "      <td>47.65</td>\n",
       "      <td>49.88</td>\n",
       "      <td>52.52</td>\n",
       "      <td>46.63</td>\n",
       "      <td>48.02</td>\n",
       "      <td>38.55</td>\n",
       "      <td>36.08</td>\n",
       "      <td>35.73</td>\n",
       "      <td>38.03</td>\n",
       "    </tr>\n",
       "  </tbody>\n",
       "</table>\n",
       "</div>"
      ],
      "text/plain": [
       "Year     2005   2006   2007   2008   2009   2010   2011   2012   2013   2014\n",
       "Season                                                                      \n",
       "겨울      53.66  64.51  74.71  62.69  70.42  59.14  57.14  52.75  57.95  54.93\n",
       "봄       70.39  82.82  79.24  69.52  62.46  57.01  67.84  52.02  57.45  62.84\n",
       "여름      61.57  46.80  45.91  39.92  41.82  40.39  35.42  31.87  39.01  37.81\n",
       "가을      54.63  47.65  49.88  52.52  46.63  48.02  38.55  36.08  35.73  38.03"
      ]
     },
     "execution_count": 22,
     "metadata": {},
     "output_type": "execute_result"
    }
   ],
   "source": [
    "# PM10에 대해 계절별로 나타내며 unstack함수는 Year를 칼럼에 유지시키겠다는 함수\n",
    "Season=np.round(pd.DataFrame(result_seoul.groupby(['Year','Season'], sort=False)['PM10'].mean().unstack(\"Year\")),2)\n",
    "Season"
   ]
  },
  {
   "cell_type": "code",
   "execution_count": 23,
   "metadata": {
    "collapsed": false
   },
   "outputs": [
    {
     "data": {
      "text/plain": [
       "<matplotlib.axes._subplots.AxesSubplot at 0x167b3c18>"
      ]
     },
     "execution_count": 23,
     "metadata": {},
     "output_type": "execute_result"
    },
    {
     "data": {
      "image/png": "[encoded data removed]",
      "text/plain": [
       "<matplotlib.figure.Figure at 0x167b3eb8>"
      ]
     },
     "metadata": {},
     "output_type": "display_data"
    }
   ],
   "source": [
    "import matplotlib.pyplot as plt\n",
    "\n",
    "fig = plt.figure(figsize=(7,4))\n",
    "# plt를 사용해서 Plotting할 범위를 설정\n",
    "\n",
    "ax=fig.add_subplot(111)\n",
    "colors = plt.cm.rainbow_r(np.linspace(0,1,12))\n",
    "# plt의 cm계열 내 무지개 색을 이용\n",
    "\n",
    "Season.plot(kind='bar', figsize=(16,10), title=\"서울의 2005년~2014년 계절별 미세먼지 수치 분석\", fontsize=13, color=colors , ax=ax, rot=0)"
   ]
  },
  {
   "cell_type": "code",
   "execution_count": 24,
   "metadata": {
    "collapsed": false
   },
   "outputs": [
    {
     "data": {
      "text/plain": [
       "<matplotlib.axes._subplots.AxesSubplot at 0x1719ce48>"
      ]
     },
     "execution_count": 24,
     "metadata": {},
     "output_type": "execute_result"
    },
    {
     "data": {
      "image/png": "[encoded data removed]",
      "text/plain": [
       "<matplotlib.figure.Figure at 0x167b3e10>"
      ]
     },
     "metadata": {},
     "output_type": "display_data"
    }
   ],
   "source": [
    "colors = plt.cm.rainbow_r(np.linspace(0,1,4))\n",
    "\n",
    "# T는 행렬을 Transpormation하는 함수\n",
    "Season.T.plot(kind='bar', figsize=(16,10), color=colors, fontsize=13)"
   ]
  },
  {
   "cell_type": "code",
   "execution_count": 25,
   "metadata": {
    "collapsed": false
   },
   "outputs": [
    {
     "data": {
      "text/html": [
       "<div>\n",
       "<table border=\"1\" class=\"dataframe\">\n",
       "  <thead>\n",
       "    <tr style=\"text-align: right;\">\n",
       "      <th>Year</th>\n",
       "      <th>2005</th>\n",
       "      <th>2006</th>\n",
       "      <th>2007</th>\n",
       "      <th>2008</th>\n",
       "      <th>2009</th>\n",
       "      <th>2010</th>\n",
       "      <th>2011</th>\n",
       "      <th>2012</th>\n",
       "      <th>2013</th>\n",
       "      <th>2014</th>\n",
       "    </tr>\n",
       "    <tr>\n",
       "      <th>Season</th>\n",
       "      <th></th>\n",
       "      <th></th>\n",
       "      <th></th>\n",
       "      <th></th>\n",
       "      <th></th>\n",
       "      <th></th>\n",
       "      <th></th>\n",
       "      <th></th>\n",
       "      <th></th>\n",
       "      <th></th>\n",
       "    </tr>\n",
       "  </thead>\n",
       "  <tbody>\n",
       "    <tr>\n",
       "      <th>겨울</th>\n",
       "      <td>53.66</td>\n",
       "      <td>64.51</td>\n",
       "      <td>74.71</td>\n",
       "      <td>62.69</td>\n",
       "      <td>70.42</td>\n",
       "      <td>59.14</td>\n",
       "      <td>57.14</td>\n",
       "      <td>52.75</td>\n",
       "      <td>57.95</td>\n",
       "      <td>54.93</td>\n",
       "    </tr>\n",
       "    <tr>\n",
       "      <th>봄</th>\n",
       "      <td>70.39</td>\n",
       "      <td>82.82</td>\n",
       "      <td>79.24</td>\n",
       "      <td>69.52</td>\n",
       "      <td>62.46</td>\n",
       "      <td>57.01</td>\n",
       "      <td>67.84</td>\n",
       "      <td>52.02</td>\n",
       "      <td>57.45</td>\n",
       "      <td>62.84</td>\n",
       "    </tr>\n",
       "    <tr>\n",
       "      <th>여름</th>\n",
       "      <td>61.57</td>\n",
       "      <td>46.80</td>\n",
       "      <td>45.91</td>\n",
       "      <td>39.92</td>\n",
       "      <td>41.82</td>\n",
       "      <td>40.39</td>\n",
       "      <td>35.42</td>\n",
       "      <td>31.87</td>\n",
       "      <td>39.01</td>\n",
       "      <td>37.81</td>\n",
       "    </tr>\n",
       "    <tr>\n",
       "      <th>가을</th>\n",
       "      <td>54.63</td>\n",
       "      <td>47.65</td>\n",
       "      <td>49.88</td>\n",
       "      <td>52.52</td>\n",
       "      <td>46.63</td>\n",
       "      <td>48.02</td>\n",
       "      <td>38.55</td>\n",
       "      <td>36.08</td>\n",
       "      <td>35.73</td>\n",
       "      <td>38.03</td>\n",
       "    </tr>\n",
       "  </tbody>\n",
       "</table>\n",
       "</div>"
      ],
      "text/plain": [
       "Year     2005   2006   2007   2008   2009   2010   2011   2012   2013   2014\n",
       "Season                                                                      \n",
       "겨울      53.66  64.51  74.71  62.69  70.42  59.14  57.14  52.75  57.95  54.93\n",
       "봄       70.39  82.82  79.24  69.52  62.46  57.01  67.84  52.02  57.45  62.84\n",
       "여름      61.57  46.80  45.91  39.92  41.82  40.39  35.42  31.87  39.01  37.81\n",
       "가을      54.63  47.65  49.88  52.52  46.63  48.02  38.55  36.08  35.73  38.03"
      ]
     },
     "execution_count": 25,
     "metadata": {},
     "output_type": "execute_result"
    }
   ],
   "source": [
    "Season"
   ]
  },
  {
   "cell_type": "code",
   "execution_count": 26,
   "metadata": {
    "collapsed": false
   },
   "outputs": [
    {
     "data": {
      "text/html": [
       "<div>\n",
       "<table border=\"1\" class=\"dataframe\">\n",
       "  <thead>\n",
       "    <tr style=\"text-align: right;\">\n",
       "      <th>Season</th>\n",
       "      <th>겨울</th>\n",
       "      <th>봄</th>\n",
       "      <th>여름</th>\n",
       "      <th>가을</th>\n",
       "    </tr>\n",
       "    <tr>\n",
       "      <th>Year</th>\n",
       "      <th></th>\n",
       "      <th></th>\n",
       "      <th></th>\n",
       "      <th></th>\n",
       "    </tr>\n",
       "  </thead>\n",
       "  <tbody>\n",
       "    <tr>\n",
       "      <th>2005</th>\n",
       "      <td>53.66</td>\n",
       "      <td>70.39</td>\n",
       "      <td>61.57</td>\n",
       "      <td>54.63</td>\n",
       "    </tr>\n",
       "    <tr>\n",
       "      <th>2006</th>\n",
       "      <td>64.51</td>\n",
       "      <td>82.82</td>\n",
       "      <td>46.80</td>\n",
       "      <td>47.65</td>\n",
       "    </tr>\n",
       "    <tr>\n",
       "      <th>2007</th>\n",
       "      <td>74.71</td>\n",
       "      <td>79.24</td>\n",
       "      <td>45.91</td>\n",
       "      <td>49.88</td>\n",
       "    </tr>\n",
       "    <tr>\n",
       "      <th>2008</th>\n",
       "      <td>62.69</td>\n",
       "      <td>69.52</td>\n",
       "      <td>39.92</td>\n",
       "      <td>52.52</td>\n",
       "    </tr>\n",
       "    <tr>\n",
       "      <th>2009</th>\n",
       "      <td>70.42</td>\n",
       "      <td>62.46</td>\n",
       "      <td>41.82</td>\n",
       "      <td>46.63</td>\n",
       "    </tr>\n",
       "    <tr>\n",
       "      <th>2010</th>\n",
       "      <td>59.14</td>\n",
       "      <td>57.01</td>\n",
       "      <td>40.39</td>\n",
       "      <td>48.02</td>\n",
       "    </tr>\n",
       "    <tr>\n",
       "      <th>2011</th>\n",
       "      <td>57.14</td>\n",
       "      <td>67.84</td>\n",
       "      <td>35.42</td>\n",
       "      <td>38.55</td>\n",
       "    </tr>\n",
       "    <tr>\n",
       "      <th>2012</th>\n",
       "      <td>52.75</td>\n",
       "      <td>52.02</td>\n",
       "      <td>31.87</td>\n",
       "      <td>36.08</td>\n",
       "    </tr>\n",
       "    <tr>\n",
       "      <th>2013</th>\n",
       "      <td>57.95</td>\n",
       "      <td>57.45</td>\n",
       "      <td>39.01</td>\n",
       "      <td>35.73</td>\n",
       "    </tr>\n",
       "    <tr>\n",
       "      <th>2014</th>\n",
       "      <td>54.93</td>\n",
       "      <td>62.84</td>\n",
       "      <td>37.81</td>\n",
       "      <td>38.03</td>\n",
       "    </tr>\n",
       "  </tbody>\n",
       "</table>\n",
       "</div>"
      ],
      "text/plain": [
       "Season     겨울      봄     여름     가을\n",
       "Year                              \n",
       "2005    53.66  70.39  61.57  54.63\n",
       "2006    64.51  82.82  46.80  47.65\n",
       "2007    74.71  79.24  45.91  49.88\n",
       "2008    62.69  69.52  39.92  52.52\n",
       "2009    70.42  62.46  41.82  46.63\n",
       "2010    59.14  57.01  40.39  48.02\n",
       "2011    57.14  67.84  35.42  38.55\n",
       "2012    52.75  52.02  31.87  36.08\n",
       "2013    57.95  57.45  39.01  35.73\n",
       "2014    54.93  62.84  37.81  38.03"
      ]
     },
     "execution_count": 26,
     "metadata": {},
     "output_type": "execute_result"
    }
   ],
   "source": [
    "Season.T"
   ]
  },
  {
   "cell_type": "code",
   "execution_count": null,
   "metadata": {
    "collapsed": true
   },
   "outputs": [],
   "source": []
  }
 ],
 "metadata": {
  "anaconda-cloud": {},
  "kernelspec": {
   "display_name": "Python [py34]",
   "language": "python",
   "name": "Python [py34]"
  },
  "language_info": {
   "codemirror_mode": {
    "name": "ipython",
    "version": 3
   },
   "file_extension": ".py",
   "mimetype": "text/x-python",
   "name": "python",
   "nbconvert_exporter": "python",
   "pygments_lexer": "ipython3",
   "version": "3.4.5"
  }
 },
 "nbformat": 4,
 "nbformat_minor": 0
}
