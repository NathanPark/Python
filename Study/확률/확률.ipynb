{
 "cells": [
  {
   "cell_type": "markdown",
   "metadata": {},
   "source": [
    "# 확률\n",
    "\n",
    "일상에서 우리는 **\"아마도\"** 라는 말을 일상생활에서 자주 사용함. \n",
    "\n",
    "- 오늘은 아마도 비가 내릴 것이다\n",
    "- 시험은 아마도 어려울 것이다\n",
    "와 같이 **결과를 알고 있는 것에 대한 표현에 대해서는 \"아마도\"라는 말을 사용하지 않음**\n",
    "\n",
    "확률론은 **알지 못하는 상태가 어떤 것인지에대해 더 정확하게 표현**하려고 함"
   ]
  },
  {
   "cell_type": "markdown",
   "metadata": {},
   "source": [
    "**확률(Probability)**이란 이러한 **사건이 발생할 가능성이 얼마나 되는지를 나타내는 수치적 측도**"
   ]
  },
  {
   "cell_type": "markdown",
   "metadata": {
    "collapsed": true
   },
   "source": [
    "## 확률실험(random experiment): \n",
    "- 실험을 시행하기 전에 발생할 수 있는 모든 결과의 경우\n",
    "- 실험을 하기 전까지 이들 결과 중 어떤 것이 발생할 것인지에 대해 확실하게 예측할 수 없는 경우"
   ]
  },
  {
   "cell_type": "markdown",
   "metadata": {},
   "source": [
    "## (1) 표본공간\n",
    "- **확률실험(random experiment)**에서 발생 가능한 모든 결과들의 집합\n",
    "- 아래와 같은 경우를 **사건(event)**이라 하며 이는 표본공간 내에서 우리가 관심을 갖는 부분집합\n",
    "\n",
    "동전을 세번던졌을 때 표본공간은 다음과 같음\n",
    "\n",
    "1. 앞앞앞\n",
    "2. 뒤뒤뒤\n",
    "3. 앞뒤앞\n",
    "4. 뒤앞뒤\n",
    "5. 뒤앞앞\n",
    "6. 뒤뒤앞\n",
    "7. 앞뒤뒤\n",
    "8. 앞앞뒤\n",
    "\n",
    "등과 같이 각각 확률에 1/8씩을 부여할 수 있음\n",
    "\n",
    "위의 예제로 다양하게 확률을 구할 수 있음\n",
    "- 연속적으로 뒷면이 두번 나올 확률\n",
    "- 두 번 연속으로 같은 면이 나올 확률"
   ]
  },
  {
   "cell_type": "markdown",
   "metadata": {},
   "source": [
    "### 확률변수\n",
    "- 위의 각각 확률에 고정적으로 1/8씩을 부여한 다는 것이 동전을 세번 던졌을땡 대한 확률 변수라 함\n",
    "\n",
    "1) 이산확률변수\n",
    "- 확률변수 중 치역의 원소의 개수를 셀 수 있는 확률 변수\n",
    "\n",
    "Ex) 위에 예제를 따르면 동전을 던진 횟수\n",
    "\n",
    "2) 연속확률변수\n",
    "- 확률변수의 치역의 원소의 개수를 셀 수 없는 확률 변수\n",
    "\n",
    "Ex) 0~10이라는 구간이 있을 때 모든 실수의 값을 갖는 확률변수"
   ]
  },
  {
   "cell_type": "markdown",
   "metadata": {},
   "source": [
    "### 확률분포\n",
    "#### 연속확률변수와 확률밀도함수 (Probability density function)\n",
    "-연속 확률 변수에서, 확률 변수의 분포를 나타내는 함수\n",
    "- 그 함수를 특정 구간에 대해서 적분한 값에 대한 확률 변수값을 확률 누적 분포라 함\n",
    "\n",
    "Ex) \n",
    "- 한국 고교생의 무게를 나타내면 이를 연속 확률 변수로 표현할 수 있음\n",
    "- 확률 변수 f(몸무게)가 있다고 할 때, 45~60kg의 확률을 구하면 그 구간 a=45, b=60까지의 값을 적분한 값이 됨\n",
    "\n",
    "#### 이산확률변수와 확률질량함수\n",
    "- 이산확률 변수에서 특정 값에 대한 확률을 나타내는 함수, 즉 특정 확률변수 x에서 사건이 발생할 확률을 정의 함\n",
    "\n",
    "Ex) 두개의 동전을 던지는 시행에서 앞면이 나오는 동전의 개수를 X라 할때의 확률 분포표\n",
    "\n",
    "| X | 0 | 1 | 2 |\n",
    "|:-|------|:-:|\n",
    "| P | 1/4 | 1/2 | 1/4|\n"
   ]
  },
  {
   "cell_type": "markdown",
   "metadata": {
    "collapsed": true
   },
   "source": [
    "**표본공간과 사건은 수학적 관점에서 보면 일종의 집합개념**\n",
    "\n",
    "- 확률을 정의하고 계산하기 위해서는 집합에 대한 기본 정의와 연산을 알아야함\n",
    "- 한 사건에 대해서는 한 작용이 있을 때 발생하기도 하지만, 여러개의 작용을 통해 발생하기도 함"
   ]
  },
  {
   "cell_type": "markdown",
   "metadata": {},
   "source": [
    "## (2) 경우의 수\n",
    "- 확률을 계산하기 위해서는 표본공간과 사건에 있는 원소의 개수를 효율적으로 계산하는 것이 중요함\n",
    "- 경우의 수의 기본 법칙은 곱의 법칙(multiplication rule)\n",
    "\n",
    "Ex) 세트메뉴의 경우의 수\n",
    "- 세트메뉴에는 4가지 음료수, 2가지 샐러드, 5가지 메인, 4가지의 디저트가 있을 때, 하나씩을 선택해야되는 경우의 수\n",
    "\n",
    "= 4 x 2 x 5 x 4 =160가지의 경우의 수를 구할 수 있음"
   ]
  },
  {
   "cell_type": "markdown",
   "metadata": {
    "collapsed": true
   },
   "source": [
    "## (3) 복원추출과 비복원추출 \n",
    "\n",
    "**표본추출방법** : 모집단에서 표본을 확률적으로 추출하는 방법\n",
    "\n",
    "**복원추출** : 사용한 경우(사건)를 재사용이 가능할 때\n",
    "\n",
    "**비복원추출** : 사용한 경우(사건)를 재사용이 불가능할 때\n",
    "\n",
    "- 로또 번호 추첨\n",
    "<img src=\"study_image/rotto.jpg\"/>\n",
    "\n",
    "1등: 선택한 6개의 번호가 당첨번호와 모두 일치"
   ]
  },
  {
   "cell_type": "markdown",
   "metadata": {},
   "source": [
    "#### P(1등) = $$ \\frac{45*44*43*42*41*40}{6*5*4*3*2*1} = 8,145,060 $$"
   ]
  },
  {
   "cell_type": "markdown",
   "metadata": {
    "collapsed": true
   },
   "source": [
    "## (4) 조건부확률 & 베이즈정리(Bayes theorem)\n",
    "- 확률실험에서 새로운 정보 또는 조건이 추가되었을 때 사건의 확률\n",
    "\n",
    "### 조건부 확률\n",
    "\n",
    "Ex) 동전 두개를 던지는 실험에서 어떤 한 동전이 앞면이라는 것을 알았을 때, **두 동전 모두 앞면**일 사건의 확률은?\n",
    "\n",
    "H는 앞면, T는 뒷면이라고 가정\n",
    "\n",
    "$$ \\Omega = [HH, TH, HT, TT] $$\n",
    "\n",
    "어떤 한 동전이 앞면이라는 정보가 추가로 주어지면 표본공간에서 [TT]라는 경우는 발생할 수 없음\n",
    "\n",
    "그러므로 표본공간은 축소\n",
    "$$ \\Omega = [HH, TH, HT] $$"
   ]
  },
  {
   "cell_type": "markdown",
   "metadata": {},
   "source": [
    "### 베이즈 정리\n",
    "\n",
    "A라는 사건이 일어났을 때 B라는 사건이 일어날 확률\n",
    "$$ P(B | A) = \\frac{P(A \\cap B)}{P(A)} $$\n",
    "\n",
    "사전확률:원인(A)이 발생할 확률 P(A)와 같이 **결과가 나타나기 전에 결정되어 있는 확률**\n",
    "\n",
    "우도: **원인(A)이 발생하였다는 조건하에서 B(결과)가 발생할 확률**을 P(B|A)로 표현\n",
    "\n",
    "사후확률: **결과(B)가 발생하였다는 조건하에서 원인(A)가 발생하였을 확률**을 나타냄"
   ]
  },
  {
   "cell_type": "markdown",
   "metadata": {
    "collapsed": true
   },
   "source": [
    "### 독립사건(independent events)\n",
    "\n",
    "- 만약 사건 A가 사건 B의 발생에 영향을 주지 않고 B가 사건 A에 영향을 주지 않는다면\n",
    "#### $$ P(B|A) = P(B) $$ $$ P(A|B) = P(A) $$ \n",
    "- 사건 A와 B가 서로 영향을 주고 받지 않는 경우 사건 A와 B는 독립사건(independent events)라 함"
   ]
  },
  {
   "cell_type": "markdown",
   "metadata": {},
   "source": [
    "## (5) 베르누이 시행\n",
    "- 각 실험에서 발생 가능한 결과는 단 2가지 (성공, 실패) or (앞면, 뒷면)\n",
    "- 각 실험이 독립적으로 수행\n",
    "- 모든 실험에서 결과의 확률은 항상 동일할 때"
   ]
  },
  {
   "cell_type": "markdown",
   "metadata": {},
   "source": [
    "#### 베르누이 확률변수\n",
    "\n",
    "<img src=\"study_image/베르누이시행.jpg\"/>"
   ]
  },
  {
   "cell_type": "markdown",
   "metadata": {},
   "source": [
    "## (6) 이항분포 (Binomial Distribution)\n",
    "- 성공할 확률이 p인 베르누이 실험을 n번 반복했을 때, 성공횟수(X)의 분포\n",
    "- 성공횟수 X는 n개의 베르누이 확률변수를 합한 것"
   ]
  },
  {
   "cell_type": "markdown",
   "metadata": {},
   "source": [
    "<img src=\"study_image/이항분포.jpg\"/>"
   ]
  },
  {
   "cell_type": "markdown",
   "metadata": {},
   "source": [
    "Q: 주사위를 5번 던졌을 때, 4가 2번 나올 확률은 얼마인가?"
   ]
  },
  {
   "cell_type": "markdown",
   "metadata": {},
   "source": [
    "시행횟수: 5\n",
    "\n",
    "성공횟수: 2\n",
    "\n",
    "각 시행의 성공확률: 1/6 = 0.167\n",
    "\n",
    "$$ \\beta(2;5, 0.167) = 5C2 * (0.167)^2 * (0.833)^3  $$"
   ]
  },
  {
   "cell_type": "markdown",
   "metadata": {},
   "source": [
    "## (7) 정규분포 ( Normal Distribution )\n",
    "- 표준정규분포 = 가우스분포\n",
    "\n",
    "1) 표준정규분포(Standard Normal Distribution)\n",
    "- 평균이 0이고 표준편차가 1 \n",
    "$$ N(0,1) $$\n",
    "\n",
    "정규분포곡선은 68-95-99.7 규칙을 가짐\n",
    "<img src=\"study_image/images.png\" width=\"500\" height=\"300\" />\n",
    "\n",
    "- 정규분포곡선의 모양\n",
    "\n",
    "가) 평균을 중심으로 좌우 대칭 \n",
    "\n",
    "나) 종 모양(bell-shaped)"
   ]
  },
  {
   "cell_type": "markdown",
   "metadata": {},
   "source": [
    "## (8) 포아송분포\n",
    "- 시간과 공간 내에서 발생하는 사건의 발생횟수, 그에 따른 확률을 구할 때 사용 함\n",
    "\n",
    "Ex) \n",
    "- 매시간**(시간)** 접수되는 전화요청 건수**(발생횟수)**\n",
    "- 한 달**(시간)** 동안 발생하는 교통사고 횟수**(발생횟수)**"
   ]
  },
  {
   "cell_type": "markdown",
   "metadata": {},
   "source": [
    "<img src=\"http://cfile21.uf.tistory.com/image/250C5D3C541A748F2A2E4A\" width=\"200\" height=\"200\"/>\n",
    "- 확률 질량 함수\n",
    "<img src=\"https://upload.wikimedia.org/wikipedia/commons/thumb/1/16/Poisson_pmf.svg/270px-Poisson_pmf.svg.png\"/>\n",
    "- 누적 분포 함수\n",
    "<img src=\"https://upload.wikimedia.org/wikipedia/commons/thumb/7/7c/Poisson_cdf.svg/270px-Poisson_cdf.svg.png\"/>"
   ]
  },
  {
   "cell_type": "markdown",
   "metadata": {},
   "source": [
    "Ex) 어느 한 책에 오타가 평균 5페이지에 10개씩 발생하고, 이것은 포아송 분포를 따른다고 할 때, 어느 한 페이지에서 오타가 3개 나올 확률을 구하시오"
   ]
  },
  {
   "cell_type": "markdown",
   "metadata": {},
   "source": [
    "- 포아송 문제를 풀 때는 lambda를 잘 구해야함\n",
    "- 여기서 lambda는 1페이지에 평균 2개의 오타가 발생하므로 2라는 값을 갖게 됨\n",
    "- 발생횟수는 총 3개가 나온다고 했으니 x=3이 됨\n",
    "- 위 수식에 대입해서 풀면 약 18.04%의 값이 나옴"
   ]
  },
  {
   "cell_type": "code",
   "execution_count": null,
   "metadata": {
    "collapsed": true
   },
   "outputs": [],
   "source": []
  }
 ],
 "metadata": {
  "kernelspec": {
   "display_name": "Python 3",
   "language": "python",
   "name": "python3"
  },
  "language_info": {
   "codemirror_mode": {
    "name": "ipython",
    "version": 3
   },
   "file_extension": ".py",
   "mimetype": "text/x-python",
   "name": "python",
   "nbconvert_exporter": "python",
   "pygments_lexer": "ipython3",
   "version": "3.4.4"
  }
 },
 "nbformat": 4,
 "nbformat_minor": 0
}
