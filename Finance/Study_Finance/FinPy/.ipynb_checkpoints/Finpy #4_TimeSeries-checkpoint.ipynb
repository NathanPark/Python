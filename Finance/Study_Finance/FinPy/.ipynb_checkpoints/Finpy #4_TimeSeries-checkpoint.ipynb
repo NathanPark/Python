{
 "cells": [
  {
   "cell_type": "markdown",
   "metadata": {},
   "source": [
    "# 시계열(time series)\n",
    "- 일정 시간 간격으로 배치된 데이터들의 수열\n",
    "- 시계열을 해석하고, 이해하는데 쓰이는 여러가지 방법을 연구하는 분야\n",
    "- 시계열 데이터를 분석하는 수학적 모델은 여러가지 지만, 세가지 범용 모델은 autoregressive(AR)모델, integrated 모델, moving average (MA) 모델 등이 있음"
   ]
  },
  {
   "cell_type": "markdown",
   "metadata": {},
   "source": [
    "출처: https://ko.wikipedia.org/wiki/%EC%8B%9C%EA%B3%84%EC%97%B4"
   ]
  },
  {
   "cell_type": "markdown",
   "metadata": {},
   "source": [
    "#### 박정환 (nbicjh@gmail.com)"
   ]
  },
  {
   "cell_type": "markdown",
   "metadata": {},
   "source": [
    "A time-series is a sequence of data points, typically consisting of successive\n",
    "measurements made at a regular frequency and over a specific time interval. Timeseries\n",
    "analysis is composed of various methods for making decisions based upon the\n",
    "data in a time-series by extracting meaningful statistics. Time-series forecasting is\n",
    "the process of developing a model based upon data in a time-series, and using it to\n",
    "predict future values based upon previously observed values. Regression analysis is\n",
    "the process of testing whether one or more independent time-series affect the current\n",
    "value of another time-series."
   ]
  },
  {
   "cell_type": "markdown",
   "metadata": {},
   "source": [
    "In this chapter, we will cover the following:\n",
    "- DatetimeIndex and its use in time-series data\n",
    "- Creating time-series with specific frequencies\n",
    "- Calculation of new dates using date offsets\n",
    "- Representation of intervals of time user periods\n",
    "- Shifting and lagging time-series data\n",
    "- Frequency conversion of time-series data\n",
    "- Upsampling and downsampling of time-series data"
   ]
  },
  {
   "cell_type": "code",
   "execution_count": 99,
   "metadata": {
    "collapsed": true
   },
   "outputs": [],
   "source": [
    "#import module\n",
    "import numpy as np\n",
    "import pandas as pd"
   ]
  },
  {
   "cell_type": "code",
   "execution_count": 3,
   "metadata": {
    "collapsed": true
   },
   "outputs": [],
   "source": [
    "pd.set_option('display.notebook_repr_html', False)\n",
    "pd.set_option('display.max_columns',10)\n",
    "pd.set_option('display.max_rows',8)\n",
    "pd.set_option('precision',7)"
   ]
  },
  {
   "cell_type": "code",
   "execution_count": 4,
   "metadata": {
    "collapsed": true
   },
   "outputs": [],
   "source": [
    "import datetime"
   ]
  },
  {
   "cell_type": "code",
   "execution_count": 5,
   "metadata": {
    "collapsed": true
   },
   "outputs": [],
   "source": [
    "from datetime import datetime"
   ]
  },
  {
   "cell_type": "code",
   "execution_count": 6,
   "metadata": {
    "collapsed": true
   },
   "outputs": [],
   "source": [
    "import matplotlib.pyplot as plt\n",
    "%matplotlib inline\n",
    "pd.options.display.mpl_style = 'default'"
   ]
  },
  {
   "cell_type": "markdown",
   "metadata": {},
   "source": [
    "## 1.Time-series data and the DatetimeIndex"
   ]
  },
  {
   "cell_type": "markdown",
   "metadata": {},
   "source": [
    "The representations of dates, times, and time intervals and periods provided by\n",
    "pandas, which are pandas's own, are above and beyond those provided in other\n",
    "Python frameworks such as SciPy and NumPy. The pandas implementations provide\n",
    "additional capabilities that are required to model time-series data, and to transform\n",
    "data across different frequencies, periods, and calendars for different organizations\n",
    "and financial markets."
   ]
  },
  {
   "cell_type": "markdown",
   "metadata": {},
   "source": [
    "Specific dates and times in pandas are represented using the pandas Timestamp\n",
    "class. Timestamp is based on NumPy's dtype datetime64 and has higher precision\n",
    "than Python's built-in datetime object. This increased precision is frequently\n",
    "required for accurate financial calculations."
   ]
  },
  {
   "cell_type": "code",
   "execution_count": 7,
   "metadata": {
    "collapsed": false
   },
   "outputs": [
    {
     "data": {
      "text/plain": [
       "DatetimeIndex(['2014-08-01', '2014-08-02'], dtype='datetime64[ns]', freq=None)"
      ]
     },
     "execution_count": 7,
     "metadata": {},
     "output_type": "execute_result"
    }
   ],
   "source": [
    "dates = [datetime(2014, 8, 1), datetime(2014, 8, 2)]\n",
    "dti = pd.DatetimeIndex(dates)\n",
    "dti"
   ]
  },
  {
   "cell_type": "code",
   "execution_count": 8,
   "metadata": {
    "collapsed": false
   },
   "outputs": [
    {
     "data": {
      "text/plain": [
       "pandas.tseries.index.DatetimeIndex"
      ]
     },
     "execution_count": 8,
     "metadata": {},
     "output_type": "execute_result"
    }
   ],
   "source": [
    "np.random.seed(123456)\n",
    "ts = pd.Series(np.random.randn(2), dates)\n",
    "# np.random.randn은 정규분포 랜덤값을 만듦\n",
    "\n",
    "type(ts.index)\n",
    "#type은 매개변수의 타입을 출력"
   ]
  },
  {
   "cell_type": "code",
   "execution_count": 9,
   "metadata": {
    "collapsed": false
   },
   "outputs": [
    {
     "data": {
      "text/plain": [
       "2014-08-01    0.4691123\n",
       "2014-08-02   -0.2828633\n",
       "dtype: float64"
      ]
     },
     "execution_count": 9,
     "metadata": {},
     "output_type": "execute_result"
    }
   ],
   "source": [
    "ts"
   ]
  },
  {
   "cell_type": "code",
   "execution_count": 10,
   "metadata": {
    "collapsed": false
   },
   "outputs": [
    {
     "data": {
      "text/plain": [
       "-0.28286334432866328"
      ]
     },
     "execution_count": 10,
     "metadata": {},
     "output_type": "execute_result"
    }
   ],
   "source": [
    "ts[datetime(2014, 8, 2)]\n",
    "#ts안의 datetime에 일치하는 값을 출력함"
   ]
  },
  {
   "cell_type": "code",
   "execution_count": 11,
   "metadata": {
    "collapsed": false
   },
   "outputs": [
    {
     "data": {
      "text/plain": [
       "-0.28286334432866328"
      ]
     },
     "execution_count": 11,
     "metadata": {},
     "output_type": "execute_result"
    }
   ],
   "source": [
    "ts['2014-8-2']"
   ]
  },
  {
   "cell_type": "markdown",
   "metadata": {},
   "source": [
    "#### Series함수는 DatetimeIndex를 list형으로 변환해줌 "
   ]
  },
  {
   "cell_type": "code",
   "execution_count": 13,
   "metadata": {
    "collapsed": false
   },
   "outputs": [
    {
     "data": {
      "text/plain": [
       "2014-08-01    0.4691123\n",
       "2014-08-02   -0.2828633\n",
       "dtype: float64"
      ]
     },
     "execution_count": 13,
     "metadata": {},
     "output_type": "execute_result"
    }
   ],
   "source": [
    "np.random.seed(123456)\n",
    "dates = ['2014-08-01','2014-08-02']\n",
    "ts = pd.Series(np.random.randn(2), dates)\n",
    "ts"
   ]
  },
  {
   "cell_type": "code",
   "execution_count": 15,
   "metadata": {
    "collapsed": false
   },
   "outputs": [
    {
     "data": {
      "text/plain": [
       "DatetimeIndex(['2014-08-01', '2014-08-02', '2014-08-03', 'NaT'], dtype='datetime64[ns]', freq=None)"
      ]
     },
     "execution_count": 15,
     "metadata": {},
     "output_type": "execute_result"
    }
   ],
   "source": [
    "dti = pd.to_datetime(['Aug 1, 2014', '2014-08-02', '2014.8.3', None])\n",
    "dti"
   ]
  },
  {
   "cell_type": "code",
   "execution_count": 28,
   "metadata": {
    "collapsed": false
   },
   "outputs": [
    {
     "data": {
      "text/plain": [
       "(Timestamp('2014-08-01 00:00:00'), Timestamp('2014-08-01 00:00:00'))"
      ]
     },
     "execution_count": 28,
     "metadata": {},
     "output_type": "execute_result"
    }
   ],
   "source": [
    "dti1=pd.to_datetime(['8/1/2014'])\n",
    "dti2=pd.to_datetime(['1/8/2014'], dayfirst=True)\n",
    "dti1[0],dti2[0]"
   ]
  },
  {
   "cell_type": "code",
   "execution_count": 29,
   "metadata": {
    "collapsed": false
   },
   "outputs": [
    {
     "data": {
      "text/plain": [
       "2014-08-01    0.4691123\n",
       "2014-08-02   -0.2828633\n",
       "2014-08-03   -1.5090585\n",
       "2014-08-04   -1.1356324\n",
       "2014-08-05    1.2121120\n",
       "Freq: D, dtype: float64"
      ]
     },
     "execution_count": 29,
     "metadata": {},
     "output_type": "execute_result"
    }
   ],
   "source": [
    "np.random.seed(123456)\n",
    "dates = pd.date_range('8/1/2014', periods=10)\n",
    "s1 = pd.Series(np.random.randn(10),dates)\n",
    "s1[:5]"
   ]
  },
  {
   "cell_type": "markdown",
   "metadata": {},
   "source": [
    "### Get Web Data using Pandas"
   ]
  },
  {
   "cell_type": "markdown",
   "metadata": {},
   "source": [
    "Like any pandas index, a DatetimeIndex can be used for various index operations,\n",
    "such as data alignment, selection, and slicing. To demonstrate slicing using a\n",
    "DatetimeIndex, we will refer to the Yahoo! Finance stock quotes for MSFT from\n",
    "2012 through 2014 using the pandas DataReader class (more info on DataReader is\n",
    "available at http://pandas.pydata.org/pandas-docs/version/0.15.2/remote_\n",
    "data.html)"
   ]
  },
  {
   "cell_type": "code",
   "execution_count": 30,
   "metadata": {
    "collapsed": false
   },
   "outputs": [
    {
     "name": "stderr",
     "output_type": "stream",
     "text": [
      "c:\\users\\a\\ana\\lib\\site-packages\\pandas\\io\\data.py:33: FutureWarning: \n",
      "The pandas.io.data module is moved to a separate package (pandas-datareader) and will be removed from pandas in a future version.\n",
      "After installing the pandas-datareader package (https://github.com/pydata/pandas-datareader), you can change the import ``from pandas.io import data, wb`` to ``from pandas_datareader import data, wb``.\n",
      "  FutureWarning)\n"
     ]
    }
   ],
   "source": [
    "import pandas.io.data as web"
   ]
  },
  {
   "cell_type": "code",
   "execution_count": 33,
   "metadata": {
    "collapsed": false
   },
   "outputs": [
    {
     "data": {
      "text/plain": [
       "                 Open       High        Low      Close    Volume  Adj Close\n",
       "Date                                                                       \n",
       "2012-01-03  26.549999  26.959999  26.389999  26.770000  64731500  23.943792\n",
       "2012-01-04  26.820000  27.469999  26.780001  27.400000  80516100  24.507280\n",
       "2012-01-05  27.379999  27.730000  27.290001  27.680000  56081400  24.757720\n",
       "2012-01-06  27.530001  28.190001  27.530001  28.110001  99455500  25.142323\n",
       "2012-01-09  28.049999  28.100000  27.719999  27.740000  59706800  24.811385"
      ]
     },
     "execution_count": 33,
     "metadata": {},
     "output_type": "execute_result"
    }
   ],
   "source": [
    "msft = web.DataReader(\"MSFT\",'yahoo','2012-1-1','2013-12-30')\n",
    "msft.head()"
   ]
  },
  {
   "cell_type": "code",
   "execution_count": 34,
   "metadata": {
    "collapsed": false
   },
   "outputs": [
    {
     "data": {
      "text/plain": [
       "Date\n",
       "2012-01-03    23.943792\n",
       "2012-01-04    24.507280\n",
       "2012-01-05    24.757720\n",
       "Name: Adj Close, dtype: float64"
      ]
     },
     "execution_count": 34,
     "metadata": {},
     "output_type": "execute_result"
    }
   ],
   "source": [
    "msftAC = msft['Adj Close']\n",
    "msftAC.head(3)"
   ]
  },
  {
   "cell_type": "code",
   "execution_count": 35,
   "metadata": {
    "collapsed": false
   },
   "outputs": [
    {
     "data": {
      "text/plain": [
       "                 Open       High        Low  Close    Volume  Adj Close\n",
       "Date                                                                   \n",
       "2012-01-03  26.549999  26.959999  26.389999  26.77  64731500  23.943792\n",
       "2012-01-04  26.820000  27.469999  26.780001  27.40  80516100  24.507280\n",
       "2012-01-05  27.379999  27.730000  27.290001  27.68  56081400  24.757720"
      ]
     },
     "execution_count": 35,
     "metadata": {},
     "output_type": "execute_result"
    }
   ],
   "source": [
    "msft['2012-01-01':'2012-01-05']"
   ]
  },
  {
   "cell_type": "markdown",
   "metadata": {},
   "source": [
    "A specific item can be retrieved from a time-series represented by a DataFrame by\n",
    "specifying the date/time index value and using the .loc method. The result is a\n",
    "Series where the index labels are the column names, with the values for each being\n",
    "in a specific row for each of the columns"
   ]
  },
  {
   "cell_type": "code",
   "execution_count": 36,
   "metadata": {
    "collapsed": false
   },
   "outputs": [
    {
     "data": {
      "text/plain": [
       "Open               26.549999\n",
       "High               26.959999\n",
       "Low                26.389999\n",
       "Close              26.770000\n",
       "Volume       64731500.000000\n",
       "Adj Close          23.943792\n",
       "Name: 2012-01-03 00:00:00, dtype: float64"
      ]
     },
     "execution_count": 36,
     "metadata": {},
     "output_type": "execute_result"
    }
   ],
   "source": [
    "msft.loc['2012-01-03']"
   ]
  },
  {
   "cell_type": "code",
   "execution_count": 41,
   "metadata": {
    "collapsed": false
   },
   "outputs": [
    {
     "data": {
      "text/plain": [
       "23.943792000000002"
      ]
     },
     "execution_count": 41,
     "metadata": {},
     "output_type": "execute_result"
    }
   ],
   "source": [
    "msftAC['2012-01-03']"
   ]
  },
  {
   "cell_type": "code",
   "execution_count": 39,
   "metadata": {
    "collapsed": false
   },
   "outputs": [
    {
     "data": {
      "text/plain": [
       "                 Open       High        Low      Close    Volume  Adj Close\n",
       "Date                                                                       \n",
       "2012-02-01  29.790001  30.049999  29.760000  29.889999  67409900  26.734401\n",
       "2012-02-02  29.900000  30.170000  29.709999  29.950001  52223300  26.788068\n",
       "2012-02-03  30.139999  30.400000  30.090000  30.240000  41838500  27.047451\n",
       "2012-02-06  30.040001  30.219999  29.969999  30.200001  28039700  27.011675\n",
       "2012-02-07  30.150000  30.490000  30.049999  30.350000  39242400  27.145838"
      ]
     },
     "execution_count": 39,
     "metadata": {},
     "output_type": "execute_result"
    }
   ],
   "source": [
    "msft['2012-02'].head(5)"
   ]
  },
  {
   "cell_type": "code",
   "execution_count": 42,
   "metadata": {
    "collapsed": false
   },
   "outputs": [
    {
     "data": {
      "text/plain": [
       "                 Open       High        Low      Close    Volume  Adj Close\n",
       "Date                                                                       \n",
       "2012-02-01  29.790001  30.049999  29.760000  29.889999  67409900  26.734401\n",
       "2012-02-02  29.900000  30.170000  29.709999  29.950001  52223300  26.788068\n",
       "2012-02-03  30.139999  30.400000  30.090000  30.240000  41838500  27.047451\n",
       "2012-02-06  30.040001  30.219999  29.969999  30.200001  28039700  27.011675\n",
       "2012-02-07  30.150000  30.490000  30.049999  30.350000  39242400  27.145838\n",
       "2012-02-08  30.260000  30.670000  30.219999  30.660000  49659100  27.423110\n",
       "2012-02-09  30.680000  30.799999  30.480000  30.770000  50481600  27.521497"
      ]
     },
     "execution_count": 42,
     "metadata": {},
     "output_type": "execute_result"
    }
   ],
   "source": [
    "msft['2012-02':'2012-02-09']"
   ]
  },
  {
   "cell_type": "code",
   "execution_count": 43,
   "metadata": {
    "collapsed": false
   },
   "outputs": [
    {
     "data": {
      "text/plain": [
       "                 Open       High        Low      Close    Volume  Adj Close\n",
       "Date                                                                       \n",
       "2012-02-01  29.790001  30.049999  29.760000  29.889999  67409900  26.734401\n",
       "2012-02-02  29.900000  30.170000  29.709999  29.950001  52223300  26.788068\n",
       "2012-02-03  30.139999  30.400000  30.090000  30.240000  41838500  27.047451\n",
       "2012-02-06  30.040001  30.219999  29.969999  30.200001  28039700  27.011675\n",
       "2012-02-07  30.150000  30.490000  30.049999  30.350000  39242400  27.145838"
      ]
     },
     "execution_count": 43,
     "metadata": {},
     "output_type": "execute_result"
    }
   ],
   "source": [
    "msft['2012-02':'2012-02-09'][:5]"
   ]
  },
  {
   "cell_type": "markdown",
   "metadata": {},
   "source": [
    "## Creating time-series with specific frequencies"
   ]
  },
  {
   "cell_type": "markdown",
   "metadata": {},
   "source": [
    "Time-series data in pandas can also be created to represent intervals of time other\n",
    "than daily frequency. Different frequencies can be generated with pd.date_range()\n",
    "by utilizing the freq parameter. This parameter defaults to a value of D, which\n",
    "represents daily frequency."
   ]
  },
  {
   "cell_type": "markdown",
   "metadata": {},
   "source": [
    "To introduce the creation of nondaily frequencies, the following command creates\n",
    "a DatetimeIndex with one-minute intervals using freq='T':"
   ]
  },
  {
   "cell_type": "code",
   "execution_count": 44,
   "metadata": {
    "collapsed": true
   },
   "outputs": [],
   "source": [
    "# Time series를 생성 arange는 범위(틀 생성)를 나타내는 것.\n",
    "# freq는 주기를 뜻하는 것\n",
    "bymin = pd.Series(np.arange(0,90*60*24), \n",
    "                 pd.date_range('2014-08-01',\n",
    "                              '2014-10-29 23:59:00', freq='T'))"
   ]
  },
  {
   "cell_type": "code",
   "execution_count": 45,
   "metadata": {
    "collapsed": false
   },
   "outputs": [
    {
     "data": {
      "text/plain": [
       "2014-08-01 00:00:00         0\n",
       "2014-08-01 00:01:00         1\n",
       "2014-08-01 00:02:00         2\n",
       "2014-08-01 00:03:00         3\n",
       "                        ...  \n",
       "2014-10-29 23:56:00    129596\n",
       "2014-10-29 23:57:00    129597\n",
       "2014-10-29 23:58:00    129598\n",
       "2014-10-29 23:59:00    129599\n",
       "Freq: T, dtype: int32"
      ]
     },
     "execution_count": 45,
     "metadata": {},
     "output_type": "execute_result"
    }
   ],
   "source": [
    "bymin"
   ]
  },
  {
   "cell_type": "code",
   "execution_count": 46,
   "metadata": {
    "collapsed": false
   },
   "outputs": [
    {
     "data": {
      "text/plain": [
       "2014-08-01 12:30:00    750\n",
       "2014-08-01 12:31:00    751\n",
       "2014-08-01 12:32:00    752\n",
       "2014-08-01 12:33:00    753\n",
       "                      ... \n",
       "2014-08-01 12:56:00    776\n",
       "2014-08-01 12:57:00    777\n",
       "2014-08-01 12:58:00    778\n",
       "2014-08-01 12:59:00    779\n",
       "Freq: T, dtype: int32"
      ]
     },
     "execution_count": 46,
     "metadata": {},
     "output_type": "execute_result"
    }
   ],
   "source": [
    "bymin['2014-08-01 12:30':'2014-08-01 12:59']"
   ]
  },
  {
   "cell_type": "markdown",
   "metadata": {},
   "source": [
    "## Representing intervals of time using periods"
   ]
  },
  {
   "cell_type": "markdown",
   "metadata": {},
   "source": [
    "### Periods object, The representation bounded interval of time"
   ]
  },
  {
   "cell_type": "markdown",
   "metadata": {},
   "source": [
    "It is often required to represent not just a specific time or sequence of timestamps,\n",
    "but to represent an interval of time using a start date and an end date (an example of\n",
    "this would be a financial quarter). This representation of a bounded interval of time\n",
    "can be represented in pandas using Period objects."
   ]
  },
  {
   "cell_type": "markdown",
   "metadata": {},
   "source": [
    "Period objects consist of a start time and an end time and are created from a\n",
    "start date with a given frequency. The start time is referred to as the anchor of the\n",
    "Period object, and the end time is then calculated from the start date and the period\n",
    "specification."
   ]
  },
  {
   "cell_type": "code",
   "execution_count": 48,
   "metadata": {
    "collapsed": false
   },
   "outputs": [
    {
     "data": {
      "text/plain": [
       "Period('2014-08', 'M')"
      ]
     },
     "execution_count": 48,
     "metadata": {},
     "output_type": "execute_result"
    }
   ],
   "source": [
    "aug2014 = pd.Period('2014-08', freq='M')\n",
    "aug2014"
   ]
  },
  {
   "cell_type": "code",
   "execution_count": 49,
   "metadata": {
    "collapsed": false
   },
   "outputs": [
    {
     "data": {
      "text/plain": [
       "(Timestamp('2014-08-01 00:00:00'), Timestamp('2014-08-31 23:59:59.999999999'))"
      ]
     },
     "execution_count": 49,
     "metadata": {},
     "output_type": "execute_result"
    }
   ],
   "source": [
    "aug2014.start_time, aug2014.end_time"
   ]
  },
  {
   "cell_type": "code",
   "execution_count": 51,
   "metadata": {
    "collapsed": false
   },
   "outputs": [
    {
     "data": {
      "text/plain": [
       "Period('2014-09', 'M')"
      ]
     },
     "execution_count": 51,
     "metadata": {},
     "output_type": "execute_result"
    }
   ],
   "source": [
    "sep2014 = aug2014+1\n",
    "sep2014"
   ]
  },
  {
   "cell_type": "markdown",
   "metadata": {},
   "source": [
    "Since we specified a period that starts using a partial date specification of August\n",
    "2014, pandas determines the anchor (start_time) as 2014-08-01 00:00:00 and\n",
    "then calculates the end_time property based upon the specified frequency; in this\n",
    "case, calculating 1 month from the start_time anchor and returning the last unit\n",
    "of time prior to this."
   ]
  },
  {
   "cell_type": "markdown",
   "metadata": {},
   "source": [
    "Mathematical operations are overloaded on Period objects, so as to calculate another\n",
    "period based upon the value represented in Period. As an example, the following\n",
    "command creates a new Period based upon the aug2014 period object by adding 1\n",
    "to the period. Since aug2014 has a period of 1 month, the resulting value is that start\n",
    "date (2014-08-01) + 1 * 1 month (the period represented by the object), and, hence,\n",
    "the result is the last moment of time prior to 2014-09-01"
   ]
  },
  {
   "cell_type": "code",
   "execution_count": 52,
   "metadata": {
    "collapsed": false
   },
   "outputs": [
    {
     "data": {
      "text/plain": [
       "(Timestamp('2014-09-01 00:00:00'), Timestamp('2014-09-30 23:59:59.999999999'))"
      ]
     },
     "execution_count": 52,
     "metadata": {},
     "output_type": "execute_result"
    }
   ],
   "source": [
    "sep2014.start_time, sep2014.end_time"
   ]
  },
  {
   "cell_type": "code",
   "execution_count": 53,
   "metadata": {
    "collapsed": false
   },
   "outputs": [
    {
     "data": {
      "text/plain": [
       "PeriodIndex(['2013-01', '2013-02', '2013-03', '2013-04', '2013-05', '2013-06',\n",
       "             '2013-07', '2013-08', '2013-09', '2013-10', '2013-11', '2013-12'],\n",
       "            dtype='int64', freq='M')"
      ]
     },
     "execution_count": 53,
     "metadata": {},
     "output_type": "execute_result"
    }
   ],
   "source": [
    "mp2013 = pd.period_range('1/1/2013', '12/31/2013', freq='M')\n",
    "mp2013"
   ]
  },
  {
   "cell_type": "code",
   "execution_count": 58,
   "metadata": {
    "collapsed": false
   },
   "outputs": [
    {
     "name": "stdout",
     "output_type": "stream",
     "text": [
      "2013-01 <MonthEnd> 2013-01-01 00:00:00 2013-01-31 23:59:59.999999999\n",
      "2013-02 <MonthEnd> 2013-02-01 00:00:00 2013-02-28 23:59:59.999999999\n",
      "2013-03 <MonthEnd> 2013-03-01 00:00:00 2013-03-31 23:59:59.999999999\n",
      "2013-04 <MonthEnd> 2013-04-01 00:00:00 2013-04-30 23:59:59.999999999\n",
      "2013-05 <MonthEnd> 2013-05-01 00:00:00 2013-05-31 23:59:59.999999999\n",
      "2013-06 <MonthEnd> 2013-06-01 00:00:00 2013-06-30 23:59:59.999999999\n",
      "2013-07 <MonthEnd> 2013-07-01 00:00:00 2013-07-31 23:59:59.999999999\n",
      "2013-08 <MonthEnd> 2013-08-01 00:00:00 2013-08-31 23:59:59.999999999\n",
      "2013-09 <MonthEnd> 2013-09-01 00:00:00 2013-09-30 23:59:59.999999999\n",
      "2013-10 <MonthEnd> 2013-10-01 00:00:00 2013-10-31 23:59:59.999999999\n",
      "2013-11 <MonthEnd> 2013-11-01 00:00:00 2013-11-30 23:59:59.999999999\n",
      "2013-12 <MonthEnd> 2013-12-01 00:00:00 2013-12-31 23:59:59.999999999\n"
     ]
    }
   ],
   "source": [
    "for p in mp2013:\n",
    "    print \"{0} {1} {2} {3}\".format(p, p.freq, p.start_time, p.end_time)"
   ]
  },
  {
   "cell_type": "code",
   "execution_count": 60,
   "metadata": {
    "collapsed": false
   },
   "outputs": [
    {
     "data": {
      "text/plain": [
       "2013-01    0.4691123\n",
       "2013-02   -0.2828633\n",
       "2013-03   -1.5090585\n",
       "2013-04   -1.1356324\n",
       "             ...    \n",
       "2013-09   -0.8618490\n",
       "2013-10   -2.1045692\n",
       "2013-11   -0.4949293\n",
       "2013-12    1.0718038\n",
       "Freq: M, dtype: float64"
      ]
     },
     "execution_count": 60,
     "metadata": {},
     "output_type": "execute_result"
    }
   ],
   "source": [
    "np.random.seed(123456)\n",
    "ps = pd.Series(np.random.randn(12), mp2013)\n",
    "ps"
   ]
  },
  {
   "cell_type": "markdown",
   "metadata": {},
   "source": [
    "## Shifting and lagging time-series data"
   ]
  },
  {
   "cell_type": "markdown",
   "metadata": {},
   "source": [
    "A common operation on time-series data is to shift or \"lag\" the values back and\n",
    "forward in time, such as to calculate percentage change from sample to sample. The\n",
    "pandas method for this is .shift(), which will shift the values in the index by a\n",
    "specified number of units of the index's period."
   ]
  },
  {
   "cell_type": "code",
   "execution_count": 63,
   "metadata": {
    "collapsed": false
   },
   "outputs": [
    {
     "data": {
      "text/plain": [
       "Date\n",
       "2012-01-03    23.943792\n",
       "2012-01-04    24.507280\n",
       "2012-01-05    24.757720\n",
       "2012-01-06    25.142323\n",
       "2012-01-09    24.811385\n",
       "Name: Adj Close, dtype: float64"
      ]
     },
     "execution_count": 63,
     "metadata": {},
     "output_type": "execute_result"
    }
   ],
   "source": [
    "#yahoo data, msft\n",
    "msftAC[:5]"
   ]
  },
  {
   "cell_type": "code",
   "execution_count": 64,
   "metadata": {
    "collapsed": false
   },
   "outputs": [
    {
     "data": {
      "text/plain": [
       "Date\n",
       "2012-01-03          NaN\n",
       "2012-01-04    23.943792\n",
       "2012-01-05    24.507280\n",
       "2012-01-06    24.757720\n",
       "2012-01-09    25.142323\n",
       "Name: Adj Close, dtype: float64"
      ]
     },
     "execution_count": 64,
     "metadata": {},
     "output_type": "execute_result"
    }
   ],
   "source": [
    "#shift function\n",
    "shifted_forward = msftAC.shift(1)\n",
    "shifted_forward[:5]"
   ]
  },
  {
   "cell_type": "code",
   "execution_count": 65,
   "metadata": {
    "collapsed": false
   },
   "outputs": [
    {
     "data": {
      "text/plain": [
       "(Date\n",
       " 2013-12-23    34.699330\n",
       " 2013-12-24    35.135207\n",
       " 2013-12-26    35.476322\n",
       " 2013-12-27    35.334191\n",
       " 2013-12-30    35.334191\n",
       " Name: Adj Close, dtype: float64, Date\n",
       " 2013-12-23    34.869890\n",
       " 2013-12-24    34.699330\n",
       " 2013-12-26    35.135207\n",
       " 2013-12-27    35.476322\n",
       " 2013-12-30    35.334191\n",
       " Name: Adj Close, dtype: float64)"
      ]
     },
     "execution_count": 65,
     "metadata": {},
     "output_type": "execute_result"
    }
   ],
   "source": [
    "msftAC.tail(5), shifted_forward.tail(5)"
   ]
  },
  {
   "cell_type": "code",
   "execution_count": 66,
   "metadata": {
    "collapsed": false
   },
   "outputs": [
    {
     "data": {
      "text/plain": [
       "Date\n",
       "2012-01-03    24.757720\n",
       "2012-01-04    25.142323\n",
       "2012-01-05    24.811385\n",
       "2012-01-06    24.900828\n",
       "2012-01-09    24.793496\n",
       "Name: Adj Close, dtype: float64"
      ]
     },
     "execution_count": 66,
     "metadata": {},
     "output_type": "execute_result"
    }
   ],
   "source": [
    "# shift(-2)의 경우는 2일 후에 Data를 앞으로 땡겨온다\n",
    "shifted_backwards = msftAC.shift(-2)[:10]\n",
    "shifted_backwards[:5]"
   ]
  },
  {
   "cell_type": "code",
   "execution_count": 69,
   "metadata": {
    "collapsed": false
   },
   "outputs": [
    {
     "data": {
      "text/plain": [
       "2013-08   -1.0442360\n",
       "2013-09   -0.8618490\n",
       "2013-10   -2.1045692\n",
       "2013-11   -0.4949293\n",
       "2013-12    1.0718038\n",
       "Freq: M, dtype: float64"
      ]
     },
     "execution_count": 69,
     "metadata": {},
     "output_type": "execute_result"
    }
   ],
   "source": [
    "ps.tail(5)"
   ]
  },
  {
   "cell_type": "code",
   "execution_count": 71,
   "metadata": {
    "collapsed": false
   },
   "outputs": [
    {
     "data": {
      "text/plain": [
       "2013-01   -1.5090585\n",
       "2013-02   -1.1356324\n",
       "2013-03    1.2121120\n",
       "2013-04   -0.1732146\n",
       "             ...    \n",
       "2013-09   -0.4949293\n",
       "2013-10    1.0718038\n",
       "2013-11          NaN\n",
       "2013-12          NaN\n",
       "Freq: M, dtype: float64"
      ]
     },
     "execution_count": 71,
     "metadata": {},
     "output_type": "execute_result"
    }
   ],
   "source": [
    "ps.shift(-2)"
   ]
  },
  {
   "cell_type": "code",
   "execution_count": 73,
   "metadata": {
    "collapsed": false
   },
   "outputs": [
    {
     "data": {
      "text/plain": [
       "Date\n",
       "2012-01-03 00:00:01    23.943792\n",
       "2012-01-04 00:00:01    24.507280\n",
       "2012-01-05 00:00:01    24.757720\n",
       "2012-01-06 00:00:01    25.142323\n",
       "                         ...    \n",
       "2013-12-24 00:00:01    35.135207\n",
       "2013-12-26 00:00:01    35.476322\n",
       "2013-12-27 00:00:01    35.334191\n",
       "2013-12-30 00:00:01    35.334191\n",
       "Name: Adj Close, dtype: float64"
      ]
     },
     "execution_count": 73,
     "metadata": {},
     "output_type": "execute_result"
    }
   ],
   "source": [
    "#초단위로 shift\n",
    "msftAC.shift(1, freq=\"S\")"
   ]
  },
  {
   "cell_type": "markdown",
   "metadata": {},
   "source": [
    "The resulting DataFrame or Series is essentially the same as the original, with the\n",
    "specified number of units of frequency added to each index label. No data will be\n",
    "shifted out or replaced with NaN as this is not performing realignment."
   ]
  },
  {
   "cell_type": "code",
   "execution_count": 74,
   "metadata": {
    "collapsed": false
   },
   "outputs": [
    {
     "data": {
      "text/plain": [
       "Date\n",
       "2012-01-04    23.943792\n",
       "2012-01-05    24.507280\n",
       "2012-01-06    24.757720\n",
       "2012-01-07    25.142323\n",
       "                ...    \n",
       "2013-12-25    35.135207\n",
       "2013-12-27    35.476322\n",
       "2013-12-28    35.334191\n",
       "2013-12-31    35.334191\n",
       "Name: Adj Close, dtype: float64"
      ]
     },
     "execution_count": 74,
     "metadata": {},
     "output_type": "execute_result"
    }
   ],
   "source": [
    "msftAC.shift(1,freq=\"D\")"
   ]
  },
  {
   "cell_type": "code",
   "execution_count": 76,
   "metadata": {
    "collapsed": false
   },
   "outputs": [
    {
     "data": {
      "text/plain": [
       "Date\n",
       "2012-01-03          NaN\n",
       "2012-01-04    0.0235338\n",
       "2012-01-05    0.0102190\n",
       "2012-01-06    0.0155347\n",
       "                ...    \n",
       "2013-12-24    0.0125615\n",
       "2013-12-26    0.0097086\n",
       "2013-12-27   -0.0040064\n",
       "2013-12-30    0.0000000\n",
       "Name: Adj Close, dtype: float64"
      ]
     },
     "execution_count": 76,
     "metadata": {},
     "output_type": "execute_result"
    }
   ],
   "source": [
    "#day-to-day percentage change\n",
    "msftAC / msftAC.shift(1) -1"
   ]
  },
  {
   "cell_type": "markdown",
   "metadata": {},
   "source": [
    "## Frequency conversion of time-series data"
   ]
  },
  {
   "cell_type": "markdown",
   "metadata": {},
   "source": [
    "The frequency of the data in a time-series can be converted in pandas using the\n",
    ".asfreq() method of a Series or DataFrame. To demonstrate, we will use the\n",
    "following small subset of the MSFT stock closing values:"
   ]
  },
  {
   "cell_type": "code",
   "execution_count": 77,
   "metadata": {
    "collapsed": false
   },
   "outputs": [
    {
     "data": {
      "text/plain": [
       "Date\n",
       "2012-01-03    23.943792\n",
       "2012-01-04    24.507280\n",
       "Name: Adj Close, dtype: float64"
      ]
     },
     "execution_count": 77,
     "metadata": {},
     "output_type": "execute_result"
    }
   ],
   "source": [
    "sample = msftAC[:2]\n",
    "sample"
   ]
  },
  {
   "cell_type": "code",
   "execution_count": 78,
   "metadata": {
    "collapsed": false
   },
   "outputs": [
    {
     "data": {
      "text/plain": [
       "Date\n",
       "2012-01-03 00:00:00    23.943792\n",
       "2012-01-03 01:00:00          NaN\n",
       "2012-01-03 02:00:00          NaN\n",
       "2012-01-03 03:00:00          NaN\n",
       "                         ...    \n",
       "2012-01-03 21:00:00          NaN\n",
       "2012-01-03 22:00:00          NaN\n",
       "2012-01-03 23:00:00          NaN\n",
       "2012-01-04 00:00:00    24.507280\n",
       "Freq: H, Name: Adj Close, dtype: float64"
      ]
     },
     "execution_count": 78,
     "metadata": {},
     "output_type": "execute_result"
    }
   ],
   "source": [
    "sample.asfreq(\"H\")"
   ]
  },
  {
   "cell_type": "code",
   "execution_count": 79,
   "metadata": {
    "collapsed": false
   },
   "outputs": [
    {
     "data": {
      "text/plain": [
       "Date\n",
       "2012-01-03 00:00:00    23.943792\n",
       "2012-01-03 01:00:00    23.943792\n",
       "2012-01-03 02:00:00    23.943792\n",
       "2012-01-03 03:00:00    23.943792\n",
       "                         ...    \n",
       "2012-01-03 21:00:00    23.943792\n",
       "2012-01-03 22:00:00    23.943792\n",
       "2012-01-03 23:00:00    23.943792\n",
       "2012-01-04 00:00:00    24.507280\n",
       "Freq: H, Name: Adj Close, dtype: float64"
      ]
     },
     "execution_count": 79,
     "metadata": {},
     "output_type": "execute_result"
    }
   ],
   "source": [
    "#ffill 함수는 기존의 값을 맞춰줌\n",
    "sample.asfreq(\"H\", method=\"ffill\")"
   ]
  },
  {
   "cell_type": "code",
   "execution_count": 80,
   "metadata": {
    "collapsed": false
   },
   "outputs": [
    {
     "data": {
      "text/plain": [
       "Date\n",
       "2012-01-03 00:00:00    23.943792\n",
       "2012-01-03 01:00:00    24.507280\n",
       "2012-01-03 02:00:00    24.507280\n",
       "2012-01-03 03:00:00    24.507280\n",
       "                         ...    \n",
       "2012-01-03 21:00:00    24.507280\n",
       "2012-01-03 22:00:00    24.507280\n",
       "2012-01-03 23:00:00    24.507280\n",
       "2012-01-04 00:00:00    24.507280\n",
       "Freq: H, Name: Adj Close, dtype: float64"
      ]
     },
     "execution_count": 80,
     "metadata": {},
     "output_type": "execute_result"
    }
   ],
   "source": [
    "sample.asfreq(\"H\", method=\"bfill\")"
   ]
  },
  {
   "cell_type": "markdown",
   "metadata": {},
   "source": [
    "## Resampling of time-series"
   ]
  },
  {
   "cell_type": "markdown",
   "metadata": {},
   "source": [
    "Frequency conversion provides basic conversion of data using the new frequency\n",
    "intervals and allows the filling of missing data using either NaN, forward filling,\n",
    "or backward filling. More elaborate control is provided through the process of\n",
    "resampling."
   ]
  },
  {
   "cell_type": "markdown",
   "metadata": {},
   "source": [
    "Resampling can be either downsampling, where data is converted to wider\n",
    "frequency ranges (such as downsampling from day-to-day to month-to-month)\n",
    "or upsampling, where data is converted to narrower time ranges. Data for the\n",
    "associated labels are then calculated by a function provided to pandas instead\n",
    "of simple filling."
   ]
  },
  {
   "cell_type": "code",
   "execution_count": 82,
   "metadata": {
    "collapsed": false
   },
   "outputs": [
    {
     "data": {
      "text/plain": [
       "Date\n",
       "2012-01-03          NaN\n",
       "2012-01-04    1.0235338\n",
       "2012-01-05    1.0339933\n",
       "2012-01-06    1.0500560\n",
       "                ...    \n",
       "2013-12-24    1.4674036\n",
       "2013-12-26    1.4816501\n",
       "2013-12-27    1.4757141\n",
       "2013-12-30    1.4757141\n",
       "Name: Adj Close, dtype: float64"
      ]
     },
     "execution_count": 82,
     "metadata": {},
     "output_type": "execute_result"
    }
   ],
   "source": [
    "msft_cum_ret = (1+ (msftAC / msftAC.shift() -1 )).cumprod()\n",
    "msft_cum_ret"
   ]
  },
  {
   "cell_type": "markdown",
   "metadata": {},
   "source": [
    "A time-series can be resampled using the .resample() method. This method\n",
    "provides a very flexible means to specify the frequency conversion involved in the\n",
    "resampling, as well as the means by which the resampled values are selected or\n",
    "calculated."
   ]
  },
  {
   "cell_type": "code",
   "execution_count": 84,
   "metadata": {
    "collapsed": false
   },
   "outputs": [
    {
     "data": {
      "text/plain": [
       "Date\n",
       "2012-01-31    1.0686747\n",
       "2012-02-29    1.1556975\n",
       "2012-03-31    1.2105696\n",
       "2012-04-30    1.1846436\n",
       "                ...    \n",
       "2013-09-30    1.2773969\n",
       "2013-10-31    1.3503984\n",
       "2013-11-30    1.4719148\n",
       "2013-12-31    1.4823625\n",
       "Freq: M, Name: Adj Close, dtype: float64"
      ]
     },
     "execution_count": 84,
     "metadata": {},
     "output_type": "execute_result"
    }
   ],
   "source": [
    "#월단위로 resample\n",
    "msft_monthly_cum_ret = msft_cum_ret.resample(\"M\")\n",
    "msft_monthly_cum_ret"
   ]
  },
  {
   "cell_type": "code",
   "execution_count": 85,
   "metadata": {
    "collapsed": false
   },
   "outputs": [
    {
     "data": {
      "text/plain": [
       "1.0686746606165674"
      ]
     },
     "execution_count": 85,
     "metadata": {},
     "output_type": "execute_result"
    }
   ],
   "source": [
    "msft_cum_ret['2012-01'].mean()"
   ]
  },
  {
   "cell_type": "code",
   "execution_count": 94,
   "metadata": {
    "collapsed": false
   },
   "outputs": [
    {
     "data": {
      "text/plain": [
       "Date\n",
       "2012-01-31    1.0686747\n",
       "2012-02-29    1.1556975\n",
       "2012-03-31    1.2105696\n",
       "2012-04-30    1.1846436\n",
       "                ...    \n",
       "2013-09-30    1.2773969\n",
       "2013-10-31    1.3503984\n",
       "2013-11-30    1.4719148\n",
       "2013-12-31    1.4823625\n",
       "Freq: M, Name: Adj Close, dtype: float64"
      ]
     },
     "execution_count": 94,
     "metadata": {},
     "output_type": "execute_result"
    }
   ],
   "source": [
    "msft_cum_ret.resample(\"M\", how = \"mean\")"
   ]
  },
  {
   "cell_type": "markdown",
   "metadata": {},
   "source": [
    "The type of index resulting from a resampling is controlled by the kind parameter,\n",
    "which can be set to timestamp (the default) or period. In the resampling examples\n",
    "up to this point, the resample has returned Timestamp and, in particular, returned\n",
    "the last day of the month. The following command demonstrates returning an index\n",
    "based on periods instead of time stamps, which can be quite useful if we need to\n",
    "have the start and end timestamps for each sample:"
   ]
  },
  {
   "cell_type": "code",
   "execution_count": 92,
   "metadata": {
    "collapsed": false
   },
   "outputs": [],
   "source": [
    "by_periods = msft_cum_ret.resample(\"M\", how=\"mean\",kind=\"period\")"
   ]
  },
  {
   "cell_type": "code",
   "execution_count": 93,
   "metadata": {
    "collapsed": false
   },
   "outputs": [
    {
     "name": "stdout",
     "output_type": "stream",
     "text": [
      "2012-01-01 00:00:00:2012-01-31 23:59:59.999999999 1.06867466062\n",
      "2012-02-01 00:00:00:2012-02-29 23:59:59.999999999 1.15569749979\n",
      "2012-03-01 00:00:00:2012-03-31 23:59:59.999999999 1.21056962376\n",
      "2012-04-01 00:00:00:2012-04-30 23:59:59.999999999 1.18464362913\n",
      "2012-05-01 00:00:00:2012-05-31 23:59:59.999999999 1.14051595959\n"
     ]
    }
   ],
   "source": [
    "for i in by_periods.index[:5]:\n",
    "    print(\"{0}:{1} {2}\".format(i.start_time, i.end_time, by_periods[i]))"
   ]
  },
  {
   "cell_type": "code",
   "execution_count": 95,
   "metadata": {
    "collapsed": false
   },
   "outputs": [
    {
     "data": {
      "text/plain": [
       "Date\n",
       "2012-01-04    1.0235338\n",
       "2012-01-05    1.0339933\n",
       "Name: Adj Close, dtype: float64"
      ]
     },
     "execution_count": 95,
     "metadata": {},
     "output_type": "execute_result"
    }
   ],
   "source": [
    "sample = msft_cum_ret[1:3]\n",
    "sample"
   ]
  },
  {
   "cell_type": "code",
   "execution_count": 96,
   "metadata": {
    "collapsed": false
   },
   "outputs": [
    {
     "data": {
      "text/plain": [
       "Date\n",
       "2012-01-04 00:00:00    1.0235338\n",
       "2012-01-04 01:00:00          NaN\n",
       "2012-01-04 02:00:00          NaN\n",
       "2012-01-04 03:00:00          NaN\n",
       "                         ...    \n",
       "2012-01-04 21:00:00          NaN\n",
       "2012-01-04 22:00:00          NaN\n",
       "2012-01-04 23:00:00          NaN\n",
       "2012-01-05 00:00:00    1.0339933\n",
       "Freq: H, Name: Adj Close, dtype: float64"
      ]
     },
     "execution_count": 96,
     "metadata": {},
     "output_type": "execute_result"
    }
   ],
   "source": [
    "by_hour = sample.resample(\"H\")\n",
    "by_hour"
   ]
  },
  {
   "cell_type": "markdown",
   "metadata": {},
   "source": [
    "Hourly index labels have been created by pandas, but the alignment only propagates\n",
    "two values into the new time-series and fills the others with NaN. This is an inherent\n",
    "issue with upsampling as in the result there is missing information. By default,\n",
    "pandas uses NaN but provide other methods to fill in values."
   ]
  },
  {
   "cell_type": "markdown",
   "metadata": {},
   "source": [
    "As with frequency conversion, the new index labels can be forward filled or back\n",
    "filled using the fill_method parameter and specifying bfill or ffill. Another\n",
    "option is to interpolate the missing data, which can be done using the time-series\n",
    "object's .interpolate() method, which will perform a linear interpolation:"
   ]
  },
  {
   "cell_type": "code",
   "execution_count": 98,
   "metadata": {
    "collapsed": false
   },
   "outputs": [
    {
     "data": {
      "text/plain": [
       "Date\n",
       "2012-01-04 00:00:00    1.0235338\n",
       "2012-01-04 01:00:00    1.0239696\n",
       "2012-01-04 02:00:00    1.0244054\n",
       "2012-01-04 03:00:00    1.0248412\n",
       "                         ...    \n",
       "2012-01-04 21:00:00    1.0326858\n",
       "2012-01-04 22:00:00    1.0331217\n",
       "2012-01-04 23:00:00    1.0335575\n",
       "2012-01-05 00:00:00    1.0339933\n",
       "Freq: H, Name: Adj Close, dtype: float64"
      ]
     },
     "execution_count": 98,
     "metadata": {},
     "output_type": "execute_result"
    }
   ],
   "source": [
    "by_hour.interpolate()"
   ]
  },
  {
   "cell_type": "markdown",
   "metadata": {},
   "source": [
    "## Summary"
   ]
  },
  {
   "cell_type": "markdown",
   "metadata": {},
   "source": [
    "In this chapter, we examined the many ways in pandas to represent various units of\n",
    "time and time-series data. Understanding date and time-series as well as frequency\n",
    "conversion is critical to analyzing financial information. We examined several ways\n",
    "of manipulating time-series data represented by stock price information, working\n",
    "with dates, times, time zones, and calendars. In closing, the chapter examined the\n",
    "means of converting the data in time-series into different frequencies."
   ]
  }
 ],
 "metadata": {
  "kernelspec": {
   "display_name": "Python 2",
   "language": "python",
   "name": "python2"
  },
  "language_info": {
   "codemirror_mode": {
    "name": "ipython",
    "version": 2
   },
   "file_extension": ".py",
   "mimetype": "text/x-python",
   "name": "python",
   "nbconvert_exporter": "python",
   "pygments_lexer": "ipython2",
   "version": "2.7.10"
  }
 },
 "nbformat": 4,
 "nbformat_minor": 0
}
