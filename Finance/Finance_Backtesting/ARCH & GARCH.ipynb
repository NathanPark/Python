{
 "cells": [
  {
   "cell_type": "code",
   "execution_count": 43,
   "metadata": {
    "collapsed": true
   },
   "outputs": [],
   "source": [
    "import numpy as np\n",
    "from scipy import optimize\n",
    "import statistics as st\n",
    " \n",
    "r = np.array([0.945532630498276,\n",
    "              0.614772790142383,\n",
    "              0.834417758890680,\n",
    "              0.862344782601800,\n",
    "              0.555858715401929,\n",
    "              0.641058419842652,\n",
    "              0.720118656981704,\n",
    "              0.643948007732270,\n",
    "              0.138790608092353,\n",
    "              0.279264178231250,\n",
    "              0.993836948076485,\n",
    "              0.531967023876420,\n",
    "              0.964455754192395,\n",
    "              0.873171802181126,\n",
    "              0.937828816793698])\n",
    " \n",
    "def GARCH11_logL(param, r):\n",
    "    omega, alpha, beta = param\n",
    "    n = len(r)\n",
    "    s = np.ones(n)*0.01\n",
    "    s[2] = st.variance(r[0:3])\n",
    "    for i in range(3, n):\n",
    "        s[i] = omega + alpha*r[i-1]**2 + beta*(s[i-1])  # GARCH(1,1) model\n",
    "    logL = -((-np.log(s) - r**2/s).sum())\n",
    "    return logL"
   ]
  },
  {
   "cell_type": "code",
   "execution_count": 44,
   "metadata": {
    "collapsed": false
   },
   "outputs": [
    {
     "name": "stdout",
     "output_type": "stream",
     "text": [
      "Optimization terminated successfully.\n",
      "         Current function value: 143.208338\n",
      "         Iterations: 117\n",
      "         Function evaluations: 216\n"
     ]
    }
   ],
   "source": [
    "o = optimize.fmin(GARCH11_logL,np.array([.1,.1,.1]), args=(r,), full_output=1)\n",
    "#optimize.fmin(func, x0, args, opt is true output)"
   ]
  },
  {
   "cell_type": "markdown",
   "metadata": {},
   "source": [
    "### Quandl 사용한 Garch분석"
   ]
  },
  {
   "cell_type": "code",
   "execution_count": 3,
   "metadata": {
    "collapsed": false
   },
   "outputs": [],
   "source": [
    "from __future__ import print_function\n",
    "import numpy as np\n",
    "from scipy import stats\n",
    "import pandas as pd\n",
    "import matplotlib.pyplot as plt\n",
    "\n",
    "import statsmodels.api as sm"
   ]
  },
  {
   "cell_type": "code",
   "execution_count": 4,
   "metadata": {
    "collapsed": false
   },
   "outputs": [],
   "source": [
    "from statsmodels.graphics.api import qqplot\n",
    "from statsmodels.tsa.filters.filtertools import miso_lfilter\n",
    "import statsmodels\n",
    "from statsmodels.sandbox.tsa.garch import *\n",
    "\n",
    "%matplotlib inline"
   ]
  },
  {
   "cell_type": "code",
   "execution_count": 5,
   "metadata": {
    "collapsed": false
   },
   "outputs": [],
   "source": [
    "#Using Quandl\n",
    "\n",
    "import Quandl\n",
    "data = Quandl.get(\"YAHOO/INDEX_KS11\")"
   ]
  },
  {
   "cell_type": "code",
   "execution_count": 6,
   "metadata": {
    "collapsed": false
   },
   "outputs": [
    {
     "data": {
      "text/html": [
       "<div>\n",
       "<table border=\"1\" class=\"dataframe\">\n",
       "  <thead>\n",
       "    <tr style=\"text-align: right;\">\n",
       "      <th></th>\n",
       "      <th>Open</th>\n",
       "      <th>High</th>\n",
       "      <th>Low</th>\n",
       "      <th>Close</th>\n",
       "      <th>Volume</th>\n",
       "      <th>Adjusted Close</th>\n",
       "    </tr>\n",
       "    <tr>\n",
       "      <th>Date</th>\n",
       "      <th></th>\n",
       "      <th></th>\n",
       "      <th></th>\n",
       "      <th></th>\n",
       "      <th></th>\n",
       "      <th></th>\n",
       "    </tr>\n",
       "  </thead>\n",
       "  <tbody>\n",
       "    <tr>\n",
       "      <th>2016-04-25</th>\n",
       "      <td>2016.050049</td>\n",
       "      <td>2016.650024</td>\n",
       "      <td>2007.180054</td>\n",
       "      <td>2014.550049</td>\n",
       "      <td>397700</td>\n",
       "      <td>2014.550049</td>\n",
       "    </tr>\n",
       "    <tr>\n",
       "      <th>2016-04-26</th>\n",
       "      <td>2013.260010</td>\n",
       "      <td>2021.589966</td>\n",
       "      <td>2011.849976</td>\n",
       "      <td>2019.630005</td>\n",
       "      <td>509300</td>\n",
       "      <td>2019.630005</td>\n",
       "    </tr>\n",
       "    <tr>\n",
       "      <th>2016-04-27</th>\n",
       "      <td>2019.310059</td>\n",
       "      <td>2019.859985</td>\n",
       "      <td>2012.750000</td>\n",
       "      <td>2015.400024</td>\n",
       "      <td>412800</td>\n",
       "      <td>2015.400024</td>\n",
       "    </tr>\n",
       "    <tr>\n",
       "      <th>2016-04-28</th>\n",
       "      <td>2020.829956</td>\n",
       "      <td>2022.989990</td>\n",
       "      <td>1998.599976</td>\n",
       "      <td>2000.930054</td>\n",
       "      <td>341100</td>\n",
       "      <td>2000.930054</td>\n",
       "    </tr>\n",
       "    <tr>\n",
       "      <th>2016-04-29</th>\n",
       "      <td>1998.680054</td>\n",
       "      <td>1999.339966</td>\n",
       "      <td>1983.300049</td>\n",
       "      <td>1994.150024</td>\n",
       "      <td>401100</td>\n",
       "      <td>1994.150024</td>\n",
       "    </tr>\n",
       "  </tbody>\n",
       "</table>\n",
       "</div>"
      ],
      "text/plain": [
       "                   Open         High          Low        Close  Volume  \\\n",
       "Date                                                                     \n",
       "2016-04-25  2016.050049  2016.650024  2007.180054  2014.550049  397700   \n",
       "2016-04-26  2013.260010  2021.589966  2011.849976  2019.630005  509300   \n",
       "2016-04-27  2019.310059  2019.859985  2012.750000  2015.400024  412800   \n",
       "2016-04-28  2020.829956  2022.989990  1998.599976  2000.930054  341100   \n",
       "2016-04-29  1998.680054  1999.339966  1983.300049  1994.150024  401100   \n",
       "\n",
       "            Adjusted Close  \n",
       "Date                        \n",
       "2016-04-25     2014.550049  \n",
       "2016-04-26     2019.630005  \n",
       "2016-04-27     2015.400024  \n",
       "2016-04-28     2000.930054  \n",
       "2016-04-29     1994.150024  "
      ]
     },
     "execution_count": 6,
     "metadata": {},
     "output_type": "execute_result"
    }
   ],
   "source": [
    "data.tail()"
   ]
  },
  {
   "cell_type": "code",
   "execution_count": 7,
   "metadata": {
    "collapsed": false
   },
   "outputs": [
    {
     "data": {
      "text/plain": [
       "4654"
      ]
     },
     "execution_count": 7,
     "metadata": {},
     "output_type": "execute_result"
    }
   ],
   "source": [
    "len(data)"
   ]
  },
  {
   "cell_type": "code",
   "execution_count": 8,
   "metadata": {
    "collapsed": false
   },
   "outputs": [],
   "source": [
    "data_close = data['Close']\n",
    "ret = np.diff(np.log(data_close))[-2000:]*1000  #대수분포 변환"
   ]
  },
  {
   "cell_type": "code",
   "execution_count": 9,
   "metadata": {
    "collapsed": false
   },
   "outputs": [
    {
     "data": {
      "text/plain": [
       "2000"
      ]
     },
     "execution_count": 9,
     "metadata": {},
     "output_type": "execute_result"
    }
   ],
   "source": [
    "len(ret)"
   ]
  },
  {
   "cell_type": "code",
   "execution_count": 10,
   "metadata": {
    "collapsed": true
   },
   "outputs": [],
   "source": [
    "ggmod = Garch(ret - ret.mean())\n",
    "ggmod.nar =1\n",
    "ggmod.nma = 1\n",
    "\n",
    "ggmod._start_parms = np.array([-0.1, 0.1, 0.1, 0.1])"
   ]
  },
  {
   "cell_type": "code",
   "execution_count": 11,
   "metadata": {
    "collapsed": false
   },
   "outputs": [
    {
     "name": "stdout",
     "output_type": "stream",
     "text": [
      "Warning: Desired error not necessarily achieved due to precision loss.\n",
      "         Current function value: 7506.685531\n",
      "         Iterations: 69\n",
      "         Function evaluations: 505\n",
      "         Gradient evaluations: 84\n"
     ]
    }
   ],
   "source": [
    "ggres = ggmod.fit(start_params=np.array([-0.1, 0.1, 0.1, 0.0]), maxiter=1000, method='bfgs')"
   ]
  },
  {
   "cell_type": "code",
   "execution_count": 12,
   "metadata": {
    "collapsed": false
   },
   "outputs": [
    {
     "name": "stdout",
     "output_type": "stream",
     "text": [
      "ggres.params [-0.83162191 -0.01750607 -0.25959949 -4.64648077]\n"
     ]
    }
   ],
   "source": [
    "print('ggres.params', ggres.params)"
   ]
  },
  {
   "cell_type": "markdown",
   "metadata": {},
   "source": [
    "### garchPlot representation Garch(1,1)"
   ]
  },
  {
   "cell_type": "code",
   "execution_count": 28,
   "metadata": {
    "collapsed": false
   },
   "outputs": [
    {
     "data": {
      "image/png": "[encoded data removed]",
      "text/plain": [
       "<matplotlib.figure.Figure at 0xc79fe80>"
      ]
     },
     "metadata": {},
     "output_type": "display_data"
    }
   ],
   "source": [
    "garchplot(ggmod.errorsest, ggmod.h, title=\"Kospi Garch estimated Garch(1,1)\")"
   ]
  },
  {
   "cell_type": "code",
   "execution_count": 29,
   "metadata": {
    "collapsed": false
   },
   "outputs": [
    {
     "data": {
      "text/plain": [
       "176.91481308637961"
      ]
     },
     "execution_count": 29,
     "metadata": {},
     "output_type": "execute_result"
    }
   ],
   "source": [
    "ret.var()"
   ]
  },
  {
   "cell_type": "code",
   "execution_count": 30,
   "metadata": {
    "collapsed": true
   },
   "outputs": [],
   "source": [
    "ggmod0 = Garch0(ret-ret.mean())\n",
    "ggmod0.nar = 1\n",
    "ggmod.nma = 1\n",
    "start_params = np.array([-0.1,0.1, ret.var()])"
   ]
  },
  {
   "cell_type": "code",
   "execution_count": 31,
   "metadata": {
    "collapsed": false
   },
   "outputs": [
    {
     "name": "stdout",
     "output_type": "stream",
     "text": [
      "Optimization terminated successfully.\n",
      "         Current function value: 7511.474095\n",
      "         Iterations: 173\n",
      "         Function evaluations: 342\n",
      "ggres0.params [ -0.92096815   0.07126066  15.15292494]\n"
     ]
    }
   ],
   "source": [
    "ggmod0._start_params = start_params\n",
    "ggres0 = ggmod0.fit(start_params=start_params, maxiter=2000)\n",
    "print(\"ggres0.params\",ggres0.params)"
   ]
  },
  {
   "cell_type": "code",
   "execution_count": 33,
   "metadata": {
    "collapsed": false
   },
   "outputs": [
    {
     "name": "stdout",
     "output_type": "stream",
     "text": [
      "Optimization terminated successfully.\n",
      "         Current function value: 7511.593415\n",
      "         Iterations: 168\n",
      "         Function evaluations: 304\n"
     ]
    }
   ],
   "source": [
    "gllres = optimize.fmin(lambda params: -loglike_GARCH11(params, ret - ret.mean())[0], [0.01, 0.1, 0.1])"
   ]
  },
  {
   "cell_type": "code",
   "execution_count": 34,
   "metadata": {
    "collapsed": false
   },
   "outputs": [
    {
     "name": "stdout",
     "output_type": "stream",
     "text": [
      "[ 1.07863241  0.07120129  0.92101568]\n"
     ]
    }
   ],
   "source": [
    "print(gllres)"
   ]
  },
  {
   "cell_type": "code",
   "execution_count": 35,
   "metadata": {
    "collapsed": false
   },
   "outputs": [
    {
     "name": "stdout",
     "output_type": "stream",
     "text": [
      "-7511.59341487\n"
     ]
    }
   ],
   "source": [
    "llf = loglike_GARCH11(gllres, ret-ret.mean())\n",
    "print(llf[0])"
   ]
  },
  {
   "cell_type": "code",
   "execution_count": 36,
   "metadata": {
    "collapsed": true
   },
   "outputs": [],
   "source": [
    "ggmod0 = Garch0(ret-ret.mean())"
   ]
  },
  {
   "cell_type": "code",
   "execution_count": 37,
   "metadata": {
    "collapsed": true
   },
   "outputs": [],
   "source": [
    "ggmod0.nar =2\n",
    "ggmod.nma =2\n",
    "start_params = np.array([-0.1,-0.1,0.1,0.1, ret.var()])"
   ]
  },
  {
   "cell_type": "code",
   "execution_count": 38,
   "metadata": {
    "collapsed": false
   },
   "outputs": [
    {
     "name": "stdout",
     "output_type": "stream",
     "text": [
      "Optimization terminated successfully.\n",
      "         Current function value: 7510.726663\n",
      "         Iterations: 432\n",
      "         Function evaluations: 770\n",
      "ggres0.params [ -1.18431429   0.2472298    0.05660231   0.375272    15.54836822]\n"
     ]
    }
   ],
   "source": [
    "ggmod0._start_params = start_params\n",
    "ggres0 = ggmod0.fit(start_params=start_params, maxiter=2000)\n",
    "print('ggres0.params', ggres0.params)"
   ]
  },
  {
   "cell_type": "code",
   "execution_count": 40,
   "metadata": {
    "collapsed": true
   },
   "outputs": [],
   "source": [
    "ggmod = Garch(ret - ret.mean())\n",
    "ggmod.nar = 2\n",
    "ggmod.nma = 2\n",
    "start_params = np.array([-0.1,-0.1, 0.1, 0.1, 0.1, 0.1, 0.1])\n",
    "ggmod._start_params = start_params"
   ]
  },
  {
   "cell_type": "code",
   "execution_count": 41,
   "metadata": {
    "collapsed": false
   },
   "outputs": [
    {
     "name": "stdout",
     "output_type": "stream",
     "text": [
      "Warning: Maximum number of function evaluations has been exceeded.\n"
     ]
    }
   ],
   "source": [
    "ggres = ggmod.fit(start_params=start_params, maxiter=1000)"
   ]
  },
  {
   "cell_type": "code",
   "execution_count": 46,
   "metadata": {
    "collapsed": false
   },
   "outputs": [
    {
     "data": {
      "text/plain": [
       "array([-0.37463361, -0.53920386, -0.05777341,  0.08080737,  0.14032259,\n",
       "       -0.01492637,  0.27700837])"
      ]
     },
     "execution_count": 46,
     "metadata": {},
     "output_type": "execute_result"
    }
   ],
   "source": [
    "ggres.params"
   ]
  },
  {
   "cell_type": "code",
   "execution_count": 1,
   "metadata": {
    "collapsed": true
   },
   "outputs": [],
   "source": [
    "from __future__ import print_function\n",
    "import numpy as np\n",
    "from scipy import stats\n",
    "import pandas as pd\n",
    "import matplotlib.pyplot as plt\n",
    "\n",
    "import statsmodels.api as sm\n",
    "\n",
    "from statsmodels.graphics.api import qqplot\n",
    "from statsmodels.tsa.filters.filtertools import miso_lfilter\n",
    "import statsmodels\n",
    "from statsmodels.sandbox.tsa.garch import *\n",
    "\n",
    "%matplotlib inline"
   ]
  },
  {
   "cell_type": "code",
   "execution_count": 3,
   "metadata": {
    "collapsed": false
   },
   "outputs": [],
   "source": [
    "#Using Quandl\n",
    "\n",
    "import Quandl\n",
    "data = Quandl.get(\"YAHOO/KS_005930\")"
   ]
  },
  {
   "cell_type": "code",
   "execution_count": 5,
   "metadata": {
    "collapsed": false
   },
   "outputs": [
    {
     "data": {
      "text/html": [
       "<div>\n",
       "<table border=\"1\" class=\"dataframe\">\n",
       "  <thead>\n",
       "    <tr style=\"text-align: right;\">\n",
       "      <th></th>\n",
       "      <th>Open</th>\n",
       "      <th>High</th>\n",
       "      <th>Low</th>\n",
       "      <th>Close</th>\n",
       "      <th>Volume</th>\n",
       "      <th>Adjusted Close</th>\n",
       "    </tr>\n",
       "    <tr>\n",
       "      <th>Date</th>\n",
       "      <th></th>\n",
       "      <th></th>\n",
       "      <th></th>\n",
       "      <th></th>\n",
       "      <th></th>\n",
       "      <th></th>\n",
       "    </tr>\n",
       "  </thead>\n",
       "  <tbody>\n",
       "    <tr>\n",
       "      <th>2016-04-25</th>\n",
       "      <td>1285000</td>\n",
       "      <td>1285000</td>\n",
       "      <td>1271000</td>\n",
       "      <td>1281000</td>\n",
       "      <td>91900</td>\n",
       "      <td>1281000</td>\n",
       "    </tr>\n",
       "    <tr>\n",
       "      <th>2016-04-26</th>\n",
       "      <td>1285000</td>\n",
       "      <td>1305000</td>\n",
       "      <td>1283000</td>\n",
       "      <td>1296000</td>\n",
       "      <td>166900</td>\n",
       "      <td>1296000</td>\n",
       "    </tr>\n",
       "    <tr>\n",
       "      <th>2016-04-27</th>\n",
       "      <td>1294000</td>\n",
       "      <td>1300000</td>\n",
       "      <td>1286000</td>\n",
       "      <td>1300000</td>\n",
       "      <td>165900</td>\n",
       "      <td>1300000</td>\n",
       "    </tr>\n",
       "    <tr>\n",
       "      <th>2016-04-28</th>\n",
       "      <td>1300000</td>\n",
       "      <td>1300000</td>\n",
       "      <td>1261000</td>\n",
       "      <td>1265000</td>\n",
       "      <td>293000</td>\n",
       "      <td>1265000</td>\n",
       "    </tr>\n",
       "    <tr>\n",
       "      <th>2016-04-29</th>\n",
       "      <td>1260000</td>\n",
       "      <td>1267000</td>\n",
       "      <td>1242000</td>\n",
       "      <td>1245000</td>\n",
       "      <td>325000</td>\n",
       "      <td>1245000</td>\n",
       "    </tr>\n",
       "  </tbody>\n",
       "</table>\n",
       "</div>"
      ],
      "text/plain": [
       "               Open     High      Low    Close  Volume  Adjusted Close\n",
       "Date                                                                  \n",
       "2016-04-25  1285000  1285000  1271000  1281000   91900         1281000\n",
       "2016-04-26  1285000  1305000  1283000  1296000  166900         1296000\n",
       "2016-04-27  1294000  1300000  1286000  1300000  165900         1300000\n",
       "2016-04-28  1300000  1300000  1261000  1265000  293000         1265000\n",
       "2016-04-29  1260000  1267000  1242000  1245000  325000         1245000"
      ]
     },
     "execution_count": 5,
     "metadata": {},
     "output_type": "execute_result"
    }
   ],
   "source": [
    "data.tail()"
   ]
  },
  {
   "cell_type": "code",
   "execution_count": 6,
   "metadata": {
    "collapsed": false
   },
   "outputs": [
    {
     "data": {
      "text/plain": [
       "4237"
      ]
     },
     "execution_count": 6,
     "metadata": {},
     "output_type": "execute_result"
    }
   ],
   "source": [
    "len(data)"
   ]
  },
  {
   "cell_type": "code",
   "execution_count": 7,
   "metadata": {
    "collapsed": true
   },
   "outputs": [],
   "source": [
    "data_close = data['Close']\n",
    "ret = np.diff(np.log(data_close))[-2000:]*1000  #대수분포 변환"
   ]
  },
  {
   "cell_type": "code",
   "execution_count": 8,
   "metadata": {
    "collapsed": false
   },
   "outputs": [
    {
     "data": {
      "text/plain": [
       "2000"
      ]
     },
     "execution_count": 8,
     "metadata": {},
     "output_type": "execute_result"
    }
   ],
   "source": [
    "len(ret)"
   ]
  },
  {
   "cell_type": "code",
   "execution_count": 9,
   "metadata": {
    "collapsed": true
   },
   "outputs": [],
   "source": [
    "ggmod = Garch(ret - ret.mean())\n",
    "ggmod.nar =1\n",
    "ggmod.nma = 1\n",
    "\n",
    "ggmod._start_parms = np.array([-0.1, 0.1, 0.1, 0.1])"
   ]
  },
  {
   "cell_type": "code",
   "execution_count": 10,
   "metadata": {
    "collapsed": false
   },
   "outputs": [
    {
     "name": "stdout",
     "output_type": "stream",
     "text": [
      "Warning: Desired error not necessarily achieved due to precision loss.\n",
      "         Current function value: 8614.191346\n",
      "         Iterations: 62\n",
      "         Function evaluations: 774\n",
      "         Gradient evaluations: 127\n"
     ]
    }
   ],
   "source": [
    "ggres = ggmod.fit(start_params=np.array([-0.1, 0.1, 0.1, 0.0]), maxiter=1000, method='bfgs')"
   ]
  },
  {
   "cell_type": "code",
   "execution_count": 11,
   "metadata": {
    "collapsed": false
   },
   "outputs": [
    {
     "name": "stdout",
     "output_type": "stream",
     "text": [
      "ggres.params [-0.9539329   0.00899959  0.04999747  4.41085519]\n"
     ]
    }
   ],
   "source": [
    "print('ggres.params', ggres.params)"
   ]
  },
  {
   "cell_type": "code",
   "execution_count": 12,
   "metadata": {
    "collapsed": false
   },
   "outputs": [
    {
     "data": {
      "image/png": "[encoded data removed]",
      "text/plain": [
       "<matplotlib.figure.Figure at 0xbde89b0>"
      ]
     },
     "metadata": {},
     "output_type": "display_data"
    }
   ],
   "source": [
    "garchplot(ggmod.errorsest, ggmod.h, title=\"SamsungElec Garch estimated Garch(1,1)\")"
   ]
  },
  {
   "cell_type": "code",
   "execution_count": 14,
   "metadata": {
    "collapsed": false
   },
   "outputs": [
    {
     "data": {
      "text/plain": [
       "<bound method TSMLEModel.fit of <statsmodels.sandbox.tsa.garch.Garch object at 0x000000000BDE89E8>>"
      ]
     },
     "execution_count": 14,
     "metadata": {},
     "output_type": "execute_result"
    }
   ],
   "source": [
    "ggmod.fit"
   ]
  },
  {
   "cell_type": "code",
   "execution_count": 31,
   "metadata": {
    "collapsed": false
   },
   "outputs": [
    {
     "data": {
      "image/png": "[encoded data removed]",
      "text/plain": [
       "<matplotlib.figure.Figure at 0xc46eeb8>"
      ]
     },
     "metadata": {},
     "output_type": "display_data"
    }
   ],
   "source": [
    "garchplot(data[\"Close\"],ggmod.errorsest)"
   ]
  },
  {
   "cell_type": "code",
   "execution_count": null,
   "metadata": {
    "collapsed": true
   },
   "outputs": [],
   "source": []
  }
 ],
 "metadata": {
  "kernelspec": {
   "display_name": "Python 3",
   "language": "python",
   "name": "python3"
  },
  "language_info": {
   "codemirror_mode": {
    "name": "ipython",
    "version": 3
   },
   "file_extension": ".py",
   "mimetype": "text/x-python",
   "name": "python",
   "nbconvert_exporter": "python",
   "pygments_lexer": "ipython3",
   "version": "3.5.1"
  }
 },
 "nbformat": 4,
 "nbformat_minor": 0
}
