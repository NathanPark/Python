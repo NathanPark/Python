{
 "cells": [
  {
   "cell_type": "markdown",
   "metadata": {
    "slideshow": {
     "slide_type": "-"
    }
   },
   "source": [
    "# RandomForest Toyota motors "
   ]
  },
  {
   "cell_type": "markdown",
   "metadata": {},
   "source": [
    "## import and data_read"
   ]
  },
  {
   "cell_type": "code",
   "execution_count": 37,
   "metadata": {
    "collapsed": true,
    "slideshow": {
     "slide_type": "-"
    }
   },
   "outputs": [],
   "source": [
    "import numpy as np\n",
    "import pandas as pd\n",
    "\n",
    "from sklearn.ensemble import RandomForestClassifier\n",
    "#RandomForest Classifier\n",
    "from numpy import genfromtxt, savetxt\n",
    "\n",
    "#Save CSV\n",
    "\n",
    "dataset = genfromtxt(open('C:/Users/a/Documents/Toyota__train.csv','r'), delimiter=',', dtype='i4')[1:]\n",
    "# Train and Target\n",
    "\n",
    "test = genfromtxt(open('C:/Users/a/Documents/Toyota__test.csv','r'), delimiter=',', dtype='i4')[1:] \n",
    "# Test"
   ]
  },
  {
   "cell_type": "markdown",
   "metadata": {},
   "source": [
    "## target and train classification"
   ]
  },
  {
   "cell_type": "code",
   "execution_count": 38,
   "metadata": {
    "collapsed": false,
    "slideshow": {
     "slide_type": "-"
    }
   },
   "outputs": [
    {
     "name": "stdout",
     "output_type": "stream",
     "text": [
      "    ToyotaValue\n",
      "0         80244\n",
      "1         83213\n",
      "2        163133\n",
      "3        135503\n",
      "4        136485\n",
      "5        119527\n",
      "6        145976\n",
      "7        124911\n",
      "8        126652\n",
      "9        119729\n",
      "10       107243\n",
      "11       145972\n",
      "12        99721\n",
      "13       124088\n",
      "14       150000\n",
      "15       136254\n",
      "16        91386\n",
      "17        96708\n",
      "18       112764\n",
      "19       107730\n",
      "20       102618\n",
      "21       112002\n",
      "22       114949\n",
      "23       148617\n",
      "24       108731\n",
      "25       137807\n",
      "26       176448\n",
      "27       154990\n",
      "28       175463\n",
      "29       149373\n",
      "30       139759\n",
      "31       156561\n",
      "32       144781\n",
      "33       135305\n",
      "34       133370\n",
      "35       158014\n",
      "36       136621\n",
      "37       143986\n",
      "38       175720\n",
      "39       152372\n",
      "40       179137\n",
      "41       167540\n",
      "42       164102\n",
      "43       194047\n",
      "44       139804\n",
      "45       141317\n",
      "46       147465\n",
      "47       151763\n",
      "48       124717\n"
     ]
    }
   ],
   "source": [
    "target = [x[0] for x in dataset]\n",
    "# Target is Toyota car value\n",
    "\n",
    "train = [x[0:] for x in dataset]\n",
    "\n",
    "df_target= pd.DataFrame(target)\n",
    "df_target.columns=['ToyotaValue']\n",
    "\n",
    "print df_target\n",
    "#df = pd.DataFrame({'$a':[1,2], '$b': [10,20]})"
   ]
  },
  {
   "cell_type": "code",
   "execution_count": 39,
   "metadata": {
    "collapsed": false,
    "slideshow": {
     "slide_type": "-"
    }
   },
   "outputs": [
    {
     "name": "stdout",
     "output_type": "stream",
     "text": [
      "        0      1    2    3   4   5   6   7   8   9   10  11  12  13   14   15  \\\n",
      "0    80244  37371   78   86   3   0  -2   3  58  71  44  10   2   3  181  216   \n",
      "1    83213  36372   76   74   3   0  -1   3  63  75  51  10   2   3  181  216   \n",
      "2   163133  36818   81   78  12   9   5   3  58  72  43  10   2   3  183  217   \n",
      "3   135503  37996   84   78  19  14   9   2  52  73  31   9   2   3  184  218   \n",
      "4   136485  40178   73   75  23  18  13   2  62  83  42   9   2   3  184  218   \n",
      "5   119527  40597   75   70  28  23  19   2  64  82  44   9   2   3  183  217   \n",
      "6   145976  40101   76   70  32  27  22   1  58  76  39   9   2   3  184  218   \n",
      "7   124911  40005   76   70  29  25  20   2  62  80  45   9   2   2  184  218   \n",
      "8   126652  41804   75   70  25  21  17   2  63  81  45   9   2   2  184  218   \n",
      "9   119729  44597   81   71  18  14  10   3  63  80  45   9   2   2  186  218   \n",
      "10  107243  45781   84   75  12   9   5   2  59  74  43   9   2   2  187  218   \n",
      "11  145972  45987   89   78   2   0  -2   3  58  70  46   9   2   3  189  219   \n",
      "12   99721  45766   89   82   1  -1  -4   3  61  75  47   9   2   3  192  220   \n",
      "13  124088  45604   88   89   6   2  -2   3  52  69  35   9   2   3  195  221   \n",
      "14  150000  46538  102   84   9   5   1   3  56  73  38   9   2   3  199  223   \n",
      "15  136254  48824  109   78  16  12   7   4  64  83  44   8   2   3  203  224   \n",
      "16   91386  50684  100   81  22  18  13   3  71  87  55   8   2   3  204  225   \n",
      "17   96708  50098   96   80  26  22  18   2  68  86  50   9   2   3  203  225   \n",
      "18  112764  52201   97   83  31  26  22   1  63  84  42   9   2   3  204  225   \n",
      "19  107730  61473   86   74  28  24  19   2  71  90  53   9   2   2  203  226   \n",
      "20  102618  61757   85   69  24  21  17   4  78  91  64   8   2   1  203  226   \n",
      "21  112002  56432   86   67  17  14  10   3  67  84  50   8   2   2  201  226   \n",
      "22  114949  57963   97   63  14  11   7   2  64  79  47   8   2   2  201  226   \n",
      "23  148617  56599   98   65   9   6   2   3  62  76  47   8   2   1  199  225   \n",
      "24  108731  53675  100   70   6   3   0   3  60  73  47   8   2   1  200  226   \n",
      "25  137807  56678  102   81   8   5   1   2  55  72  37   8   2   1  201  227   \n",
      "26  176448  57565  106   83  15  10   6   3  59  75  42   8   2   2  204  229   \n",
      "27  154990  54526  103   82  17  12   7   3  51  69  32   7   2   2  203  230   \n",
      "28  175463  53745   94   78  22  18  14   4  73  88  56   7   2   1  201  229   \n",
      "29  149373  52746   82   76  26  21  17   3  65  84  46   8   2   1  199  229   \n",
      "30  139759  52505   87   76  30  26  21   2  63  82  43   8   2   1  200  229   \n",
      "31  156561  52386   94   80  24  20  16   3  68  86  49   8   2   1  202  230   \n",
      "32  144781  57158   94   80  17  14  11   4  71  86  56   7   2   1  204  231   \n",
      "33  135305  57746   89   77   9   6   3   2  60  74  46   7   2   1  203  231   \n",
      "34  133370  56379   86   81   8   5   2   4  71  86  55   7   2   1  201  230   \n",
      "35  158014  56397   87   88   4   1  -1   3  61  76  45   7   2   1  201  229   \n",
      "36  136621  54768   94   95   4   1  -1   4  60  78  43   8   2   1  202  230   \n",
      "37  143986  54530   95  102   7   4   1   4  57  75  39   8   2   1  204  232   \n",
      "38  175720  53038   92  103  16  11   7   2  53  72  34   7   2   1  204  232   \n",
      "39  152372  51980   92  110  21  17  12   3  64  82  46   7   2   1  203  232   \n",
      "40  179137  48087   94  121  26  22  18   2  66  84  49   7   2   1  204  232   \n",
      "41  167540  45988   95  118  30  26  22   3  67  83  51   7   2   2  204  233   \n",
      "42  164102  44764  104  126  27  23  19   2  64  82  45   7   2   2  204  233   \n",
      "43  194047  43356  106  127  24  20  15   1  60  78  42   7   2   2  204  233   \n",
      "44  139804  46096  106  128  19  15  11   3  60  75  45   7   2   2  203  234   \n",
      "45  141317  44212  100  128  11   7   3   3  53  68  37   7   2   2  202  233   \n",
      "46  147465  43785   93  127   7   3   0   3  62  75  48   6   2   2  201  233   \n",
      "47  151763  41611   97  120   1  -1  -5   3  58  74  43   6   2   2  202  233   \n",
      "48  124717  40607   94  119   3   0  -3   3  58  74  41   7   2   2  203  233   \n",
      "\n",
      "     16  \n",
      "0   212  \n",
      "1   209  \n",
      "2   209  \n",
      "3   209  \n",
      "4   206  \n",
      "5   203  \n",
      "6   206  \n",
      "7   208  \n",
      "8   209  \n",
      "9   216  \n",
      "10  219  \n",
      "11  227  \n",
      "12  229  \n",
      "13  232  \n",
      "14  240  \n",
      "15  247  \n",
      "16  250  \n",
      "17  245  \n",
      "18  246  \n",
      "19  247  \n",
      "20  249  \n",
      "21  247  \n",
      "22  247  \n",
      "23  243  \n",
      "24  244  \n",
      "25  248  \n",
      "26  250  \n",
      "27  249  \n",
      "28  241  \n",
      "29  236  \n",
      "30  233  \n",
      "31  245  \n",
      "32  254  \n",
      "33  257  \n",
      "34  248  \n",
      "35  244  \n",
      "36  242  \n",
      "37  253  \n",
      "38  246  \n",
      "39  238  \n",
      "40  240  \n",
      "41  243  \n",
      "42  243  \n",
      "43  245  \n",
      "44  245  \n",
      "45  244  \n",
      "46  242  \n",
      "47  246  \n",
      "48  248  \n"
     ]
    }
   ],
   "source": [
    "print pd.DataFrame(train)"
   ]
  },
  {
   "cell_type": "markdown",
   "metadata": {},
   "source": [
    "## RF Classification"
   ]
  },
  {
   "cell_type": "code",
   "execution_count": 40,
   "metadata": {
    "collapsed": false,
    "slideshow": {
     "slide_type": "slide"
    }
   },
   "outputs": [
    {
     "name": "stdout",
     "output_type": "stream",
     "text": [
      "RandomForestClassifier(bootstrap=True, class_weight=None, criterion='gini',\n",
      "            max_depth=None, max_features='auto', max_leaf_nodes=None,\n",
      "            min_samples_leaf=1, min_samples_split=2,\n",
      "            min_weight_fraction_leaf=0.0, n_estimators=100, n_jobs=1,\n",
      "            oob_score=True, random_state=None, verbose=0, warm_start=False)\n"
     ]
    }
   ],
   "source": [
    "rf = RandomForestClassifier(n_estimators=100,oob_score=True,criterion=\"gini\")\n",
    "# http://scikit-learn.org/stable/modules/generated/sklearn.ensemble.RandomForestClassifier.html using API\n",
    "\n",
    "print rf"
   ]
  },
  {
   "cell_type": "code",
   "execution_count": 41,
   "metadata": {
    "collapsed": false,
    "slideshow": {
     "slide_type": "slide"
    }
   },
   "outputs": [],
   "source": [
    "test_ = [x[0:] for x in test]"
   ]
  },
  {
   "cell_type": "code",
   "execution_count": 42,
   "metadata": {
    "collapsed": false,
    "slideshow": {
     "slide_type": "slide"
    }
   },
   "outputs": [],
   "source": [
    "data=rf.fit_transform(train, target)"
   ]
  },
  {
   "cell_type": "code",
   "execution_count": 43,
   "metadata": {
    "collapsed": false,
    "slideshow": {
     "slide_type": "slide"
    }
   },
   "outputs": [
    {
     "name": "stdout",
     "output_type": "stream",
     "text": [
      "[[ 80244  37371     78     86      3     -2     58     71     44    212]\n",
      " [ 83213  36372     76     74      3     -1     63     75     51    209]\n",
      " [163133  36818     81     78     12      5     58     72     43    209]\n",
      " [135503  37996     84     78     19      9     52     73     31    209]\n",
      " [136485  40178     73     75     23     13     62     83     42    206]\n",
      " [119527  40597     75     70     28     19     64     82     44    203]\n",
      " [145976  40101     76     70     32     22     58     76     39    206]\n",
      " [124911  40005     76     70     29     20     62     80     45    208]\n",
      " [126652  41804     75     70     25     17     63     81     45    209]\n",
      " [119729  44597     81     71     18     10     63     80     45    216]\n",
      " [107243  45781     84     75     12      5     59     74     43    219]\n",
      " [145972  45987     89     78      2     -2     58     70     46    227]\n",
      " [ 99721  45766     89     82      1     -4     61     75     47    229]\n",
      " [124088  45604     88     89      6     -2     52     69     35    232]\n",
      " [150000  46538    102     84      9      1     56     73     38    240]\n",
      " [136254  48824    109     78     16      7     64     83     44    247]\n",
      " [ 91386  50684    100     81     22     13     71     87     55    250]\n",
      " [ 96708  50098     96     80     26     18     68     86     50    245]\n",
      " [112764  52201     97     83     31     22     63     84     42    246]\n",
      " [107730  61473     86     74     28     19     71     90     53    247]\n",
      " [102618  61757     85     69     24     17     78     91     64    249]\n",
      " [112002  56432     86     67     17     10     67     84     50    247]\n",
      " [114949  57963     97     63     14      7     64     79     47    247]\n",
      " [148617  56599     98     65      9      2     62     76     47    243]\n",
      " [108731  53675    100     70      6      0     60     73     47    244]\n",
      " [137807  56678    102     81      8      1     55     72     37    248]\n",
      " [176448  57565    106     83     15      6     59     75     42    250]\n",
      " [154990  54526    103     82     17      7     51     69     32    249]\n",
      " [175463  53745     94     78     22     14     73     88     56    241]\n",
      " [149373  52746     82     76     26     17     65     84     46    236]\n",
      " [139759  52505     87     76     30     21     63     82     43    233]\n",
      " [156561  52386     94     80     24     16     68     86     49    245]\n",
      " [144781  57158     94     80     17     11     71     86     56    254]\n",
      " [135305  57746     89     77      9      3     60     74     46    257]\n",
      " [133370  56379     86     81      8      2     71     86     55    248]\n",
      " [158014  56397     87     88      4     -1     61     76     45    244]\n",
      " [136621  54768     94     95      4     -1     60     78     43    242]\n",
      " [143986  54530     95    102      7      1     57     75     39    253]\n",
      " [175720  53038     92    103     16      7     53     72     34    246]\n",
      " [152372  51980     92    110     21     12     64     82     46    238]\n",
      " [179137  48087     94    121     26     18     66     84     49    240]\n",
      " [167540  45988     95    118     30     22     67     83     51    243]\n",
      " [164102  44764    104    126     27     19     64     82     45    243]\n",
      " [194047  43356    106    127     24     15     60     78     42    245]\n",
      " [139804  46096    106    128     19     11     60     75     45    245]\n",
      " [141317  44212    100    128     11      3     53     68     37    244]\n",
      " [147465  43785     93    127      7      0     62     75     48    242]\n",
      " [151763  41611     97    120      1     -5     58     74     43    246]\n",
      " [124717  40607     94    119      3     -3     58     74     41    248]]\n"
     ]
    }
   ],
   "source": [
    "print data"
   ]
  },
  {
   "cell_type": "markdown",
   "metadata": {},
   "source": [
    "## RF Predict"
   ]
  },
  {
   "cell_type": "code",
   "execution_count": 44,
   "metadata": {
    "collapsed": false,
    "slideshow": {
     "slide_type": "slide"
    }
   },
   "outputs": [
    {
     "data": {
      "text/plain": [
       "array([154990, 175720, 139804, 194047, 164102, 164102, 194047, 147465,\n",
       "       141317, 147465, 151763, 151763, 136485, 136485])"
      ]
     },
     "execution_count": 44,
     "metadata": {},
     "output_type": "execute_result"
    }
   ],
   "source": [
    "rf.predict(test_)"
   ]
  },
  {
   "cell_type": "markdown",
   "metadata": {},
   "source": [
    "## Save CSV"
   ]
  },
  {
   "cell_type": "code",
   "execution_count": 45,
   "metadata": {
    "collapsed": true,
    "slideshow": {
     "slide_type": "skip"
    }
   },
   "outputs": [],
   "source": [
    "savetxt('C:/Users/a/Documents/Toyota__rf.csv', rf.predict(test_), delimiter=',', fmt='%d')"
   ]
  }
 ],
 "metadata": {
  "kernelspec": {
   "display_name": "Python 2",
   "language": "python",
   "name": "python2"
  },
  "language_info": {
   "codemirror_mode": {
    "name": "ipython",
    "version": 2
   },
   "file_extension": ".py",
   "mimetype": "text/x-python",
   "name": "python",
   "nbconvert_exporter": "python",
   "pygments_lexer": "ipython2",
   "version": "2.7.9"
  }
 },
 "nbformat": 4,
 "nbformat_minor": 0
}
